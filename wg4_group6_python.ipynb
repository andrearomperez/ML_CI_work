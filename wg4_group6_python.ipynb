{
 "cells": [
  {
   "cell_type": "markdown",
   "id": "aa31c944-525c-4e5b-8bbd-e9cfdd37ee9d",
   "metadata": {},
   "source": [
    "# 1. Bootstraping"
   ]
  },
  {
   "cell_type": "code",
   "execution_count": 1,
   "id": "e8366f9d-1a22-48d8-8d55-cd5b462ecd78",
   "metadata": {},
   "outputs": [],
   "source": [
    "import pandas as pd\n",
    "import numpy as np\n",
    "import statsmodels.api as sm\n",
    "from sklearn.utils import resample"
   ]
  },
  {
   "cell_type": "code",
   "execution_count": 2,
   "id": "94d15da6-29cd-4372-acb8-e4d54e24cac4",
   "metadata": {},
   "outputs": [],
   "source": [
    "# Loading dataset\n",
    "data = pd.read_csv(r'C:\\Users\\Usuario\\Downloads\\penn_jae.csv')"
   ]
  },
  {
   "cell_type": "code",
   "execution_count": 55,
   "id": "85580a8d-f300-4439-afc7-477615508045",
   "metadata": {},
   "outputs": [
    {
     "name": "stdout",
     "output_type": "stream",
     "text": [
      "   Unnamed: 0   abdt  tg  inuidur1  inuidur2  female  black  hispanic  \\\n",
      "0           1  10824   0        18        18       0      0         0   \n",
      "1           2  10635   2         7         3       0      0         0   \n",
      "2           3  10551   5        18         6       1      0         0   \n",
      "3           4  10824   0         1         1       0      0         0   \n",
      "4           5  10747   0        27        27       0      0         0   \n",
      "\n",
      "   othrace  dep  ...  q5  q6  recall  agelt35  agegt54  durable  nondurable  \\\n",
      "0        0    2  ...   1   0       0        0        0        0           0   \n",
      "1        0    0  ...   0   0       0        1        0        0           0   \n",
      "2        0    0  ...   0   0       1        0        1        0           0   \n",
      "3        0    0  ...   1   0       0        0        0        0           0   \n",
      "4        0    0  ...   0   0       0        0        0        0           0   \n",
      "\n",
      "   lusd  husd  muld  \n",
      "0     0     1     0  \n",
      "1     1     0     0  \n",
      "2     0     0     0  \n",
      "3     1     0     0  \n",
      "4     1     0     0  \n",
      "\n",
      "[5 rows x 24 columns]\n"
     ]
    }
   ],
   "source": [
    "print(data.head())"
   ]
  },
  {
   "cell_type": "code",
   "execution_count": 56,
   "id": "0fa88211-0867-4f10-bfc7-cd7409d1c1b8",
   "metadata": {},
   "outputs": [],
   "source": [
    "# Filtering data for treatment (tg == 4) and control (tg == 0)\n",
    "data_filtered = data[data['tg'].isin([0, 4])].copy()"
   ]
  },
  {
   "cell_type": "code",
   "execution_count": 57,
   "id": "97510f86-c803-4ff3-9651-1a78d2dca198",
   "metadata": {},
   "outputs": [
    {
     "name": "stdout",
     "output_type": "stream",
     "text": [
      "    Unnamed: 0   abdt  tg  inuidur1  inuidur2  female  black  hispanic  \\\n",
      "0            1  10824   0        18        18       0      0         0   \n",
      "3            4  10824   0         1         1       0      0         0   \n",
      "4            5  10747   0        27        27       0      0         0   \n",
      "11          12  10607   4         9         9       0      0         0   \n",
      "12          13  10831   0        27        27       0      0         0   \n",
      "\n",
      "    othrace  dep  ...  q6  recall  agelt35  agegt54  durable  nondurable  \\\n",
      "0         0    2  ...   0       0        0        0        0           0   \n",
      "3         0    0  ...   0       0        0        0        0           0   \n",
      "4         0    0  ...   0       0        0        0        0           0   \n",
      "11        0    0  ...   0       0        1        0        0           0   \n",
      "12        0    1  ...   0       0        0        1        1           0   \n",
      "\n",
      "    lusd  husd  muld  T4  \n",
      "0      0     1     0   1  \n",
      "3      1     0     0   1  \n",
      "4      1     0     0   1  \n",
      "11     0     0     1   1  \n",
      "12     1     0     0   1  \n",
      "\n",
      "[5 rows x 25 columns]\n"
     ]
    }
   ],
   "source": [
    "# Creating T4 variable\n",
    "data_filtered['T4'] = (data_filtered['tg'].isin([0, 4])).astype(int)\n",
    "\n",
    "print(data_filtered.head())"
   ]
  },
  {
   "cell_type": "code",
   "execution_count": 58,
   "id": "1476dbf4-f479-4489-b8ff-4419aadfe3b1",
   "metadata": {},
   "outputs": [],
   "source": [
    "# Creating formula\n",
    "formula = 'np.log(inuidur1) ~ T4 + female + black + othrace + C(dep) + q2 + q3 + q4 + q5 + q6 + agelt35 + agegt54 + durable + lusd + husd'"
   ]
  },
  {
   "cell_type": "code",
   "execution_count": 59,
   "id": "6395dfd4-dc56-4dd6-8e1c-467543ca1695",
   "metadata": {},
   "outputs": [],
   "source": [
    "# Defining bootstrap function\n",
    "def bootstrap(data, formula, n_iterations=1000):\n",
    "    estimates = {'T4': [], 'female': [], 'black': []}\n",
    "    \n",
    "    for _ in range(n_iterations):\n",
    "        # Resample data\n",
    "        sample = resample(data)\n",
    "        \n",
    "        # Adjusting model to get coefficients\n",
    "        model = sm.formula.ols(formula=formula, data=sample).fit()\n",
    "        \n",
    "        # Storing coefficient estimates \n",
    "        for var in estimates:\n",
    "            estimates[var].append(model.params[var])\n",
    "    \n",
    "    # Mean standard errors and coefficients\n",
    "    results = {var: {'Coefficient': np.mean(estimates[var]), 'Bootstrap SE': np.std(estimates[var])} for var in estimates}\n",
    "    \n",
    "    return results"
   ]
  },
  {
   "cell_type": "code",
   "execution_count": 60,
   "id": "48aa4665-a8b8-431f-8975-9fbd66222dc1",
   "metadata": {},
   "outputs": [],
   "source": [
    "# Bootstrapping standard errors and coefficients\n",
    "bootstrap_results = bootstrap(data_filtered, formula)"
   ]
  },
  {
   "cell_type": "code",
   "execution_count": 61,
   "id": "30079b74-e32b-410a-879b-bc21eb20b639",
   "metadata": {},
   "outputs": [
    {
     "name": "stdout",
     "output_type": "stream",
     "text": [
      "        Coefficient  Bootstrap SE\n",
      "T4         1.080237      0.078145\n",
      "female     0.125303      0.036137\n",
      "black     -0.295964      0.058628\n"
     ]
    }
   ],
   "source": [
    "# Table with results\n",
    "results_df = pd.DataFrame(bootstrap_results).T\n",
    "\n",
    "print(results_df)"
   ]
  },
  {
   "cell_type": "markdown",
   "id": "79f8aa70-4906-443e-b5c1-197a58843de8",
   "metadata": {},
   "source": [
    "# 2. Causal Forest"
   ]
  },
  {
   "cell_type": "code",
   "execution_count": 140,
   "id": "e0f1213b-b2ca-42d4-8e10-40b04a8cf09e",
   "metadata": {},
   "outputs": [],
   "source": [
    "import pandas as pd\n",
    "import numpy as np\n",
    "import matplotlib.pyplot as plt\n",
    "from sklearn.model_selection import cross_val_score, cross_val_predict, train_test_split, KFold\n",
    "from sklearn.pipeline import make_pipeline\n",
    "from sklearn.linear_model import LinearRegression\n",
    "from sklearn.preprocessing import OneHotEncoder, StandardScaler\n",
    "from sklearn.ensemble import RandomForestRegressor\n",
    "from scipy.stats import norm\n",
    "from scipy.stats import ttest_ind\n",
    "from scipy.stats import ttest_1samp\n",
    "from scipy import stats\n",
    "from econml.grf import RegressionForest\n",
    "from econml.dml import CausalForestDML\n",
    "import patsy\n",
    "import warnings"
   ]
  },
  {
   "cell_type": "code",
   "execution_count": 141,
   "id": "626045a9-c839-4bd8-af62-2580d4232db6",
   "metadata": {},
   "outputs": [],
   "source": [
    "# Loading dataset\n",
    "df = pd.read_csv(r'C:\\Users\\Usuario\\Downloads\\synthetic_data.csv')"
   ]
  },
  {
   "cell_type": "markdown",
   "id": "43649929-691e-4995-9a1f-26f38b911100",
   "metadata": {},
   "source": [
    "### How the tree was built?"
   ]
  },
  {
   "cell_type": "code",
   "execution_count": 142,
   "id": "a27b33a2-55cb-4e0e-bda3-53862ed0c171",
   "metadata": {},
   "outputs": [
    {
     "name": "stderr",
     "output_type": "stream",
     "text": [
      "`sparse` was renamed to `sparse_output` in version 1.2 and will be removed in 1.4. `sparse_output` is ignored unless you leave `sparse` to its default value.\n",
      "`sparse` was renamed to `sparse_output` in version 1.2 and will be removed in 1.4. `sparse_output` is ignored unless you leave `sparse` to its default value.\n"
     ]
    }
   ],
   "source": [
    "# 1.1 Data treatment\n",
    "\n",
    "# Convert 'schoolid' to categorical\n",
    "df['schoolid'] = pd.Categorical(df['schoolid'])\n",
    "school_id = df['schoolid'].cat.codes.values\n",
    "\n",
    "# Define variables\n",
    "W = df['Z'].values\n",
    "Y = df['Y'].values\n",
    "X_raw = df.drop(columns=['Z', 'Y'])\n",
    "\n",
    "# Encode categorical variables\n",
    "enc = OneHotEncoder(drop='first', sparse=False)\n",
    "C1_exp = enc.fit_transform(X_raw[['C1']])\n",
    "XC_exp = enc.fit_transform(X_raw[['XC']])\n",
    "\n",
    "X = np.hstack((X_raw.drop(columns=['C1', 'XC']).values, C1_exp, XC_exp))\n",
    "\n",
    "# 1.2 Causal Forest\n",
    "\n",
    "# Forest growth\n",
    "Y_forest = RegressionForest()\n",
    "Y_forest.fit(X, Y)\n",
    "Y_hat = Y_forest.predict(X)\n",
    "\n",
    "W_forest = RegressionForest()\n",
    "W_forest.fit(X, W)\n",
    "W_hat = W_forest.predict(X)\n",
    "\n",
    "# Fit Causal Forest\n",
    "cf = CausalForestDML(model_y=Y_forest,\n",
    "                     model_t=W_forest,\n",
    "                     discrete_treatment=False,\n",
    "                     random_state=1)\n",
    "cf.fit(Y, W, X=X)\n",
    "tau_hat = cf.effect(X)"
   ]
  },
  {
   "cell_type": "markdown",
   "id": "904be3e7-082c-4a00-baa7-99b57c576a24",
   "metadata": {},
   "source": [
    "### Estimate ATE"
   ]
  },
  {
   "cell_type": "code",
   "execution_count": 143,
   "id": "50b3adef-7e4e-4df6-af11-b391212ae296",
   "metadata": {},
   "outputs": [
    {
     "name": "stdout",
     "output_type": "stream",
     "text": [
      "95% CI for the ATE: 0.250 +/- 0.477\n"
     ]
    }
   ],
   "source": [
    "ate = cf.ate(X)\n",
    "ate_ci = cf.ate_interval(X)\n",
    "print(f\"95% CI for the ATE: {ate:.3f} +/- {1.96 * (ate_ci[1] - ate):.3f}\")"
   ]
  },
  {
   "cell_type": "markdown",
   "id": "9423eb72-7305-4d5c-9f8a-71aff27916bf",
   "metadata": {},
   "source": [
    "### Best linear predictor analysis"
   ]
  },
  {
   "cell_type": "code",
   "execution_count": 144,
   "id": "106b3187-14b1-4cea-8468-85b38c075e91",
   "metadata": {},
   "outputs": [],
   "source": [
    "def test_calibration(cf, X, Y, W, n_folds=5, alpha=0.05):\n",
    "    n = len(Y)\n",
    "    tau_hat = np.zeros(n)\n",
    "    Y_hat = np.zeros(n)\n",
    "    W_hat = np.zeros(n)\n",
    "\n",
    "    kf = KFold(n_splits=n_folds, shuffle=True, random_state=42)\n",
    "    for train_index, test_index in kf.split(X):\n",
    "        X_train, X_test = X[train_index], X[test_index]\n",
    "        Y_train, Y_test = Y[train_index], Y[test_index]\n",
    "        W_train, W_test = W[train_index], W[test_index]\n",
    "\n",
    "        cf_fold = cf.fit(X_train, Y_train, W_train)\n",
    "        tau_hat[test_index] = cf_fold.predict(X_test)\n",
    "        Y_hat[test_index] = cf_fold.predict_expected_outcome(X_test)\n",
    "        W_hat[test_index] = cf_fold.propensity_scores_\n",
    "\n",
    "    # Calculate DR scores\n",
    "    dr_scores = tau_hat + W / W_hat * (Y - Y_hat - (1 - W_hat) * tau_hat) - \\\n",
    "                (1 - W) / (1 - W_hat) * (Y - Y_hat + W_hat * tau_hat)\n",
    "\n",
    "    # Group division based on quantiles\n",
    "    quantiles = np.quantile(tau_hat, [0.2, 0.4, 0.6, 0.8])\n",
    "    groups = np.digitize(tau_hat, quantiles)\n",
    "\n",
    "    # Treatment effect per group\n",
    "    group_ates = [np.mean(dr_scores[groups == i]) for i in range(1, 6)]\n",
    "    group_tau_hats = [np.mean(tau_hat[groups == i]) for i in range(1, 6)]\n",
    "\n",
    "    # SE per group\n",
    "    group_ses = [np.std(dr_scores[groups == i]) / np.sqrt(np.sum(groups == i)) for i in range(1, 6)]\n",
    "\n",
    "    # CI\n",
    "    z = stats.norm.ppf(1 - alpha / 2)\n",
    "    lower_bounds = [ate - z * se for ate, se in zip(group_ates, group_ses)]\n",
    "    upper_bounds = [ate + z * se for ate, se in zip(group_ates, group_ses)]\n",
    "\n",
    "    print(\"Calibration Test Results:\")\n",
    "    print(\"Group\\tTau_hat\\tATE\\t95% CI\")\n",
    "    for i in range(5):\n",
    "        print(f\"{i+1}\\t{group_tau_hats[i]:.3f}\\t{group_ates[i]:.3f}\\t[{lower_bounds[i]:.3f}, {upper_bounds[i]:.3f}]\")\n",
    "\n",
    "    # Hypothesis\n",
    "    null_hypothesis = all(lower <= tau <= upper for tau, lower, upper in zip(group_tau_hats, lower_bounds, upper_bounds))\n",
    "    print(f\"\\nNull Hypothesis (all ATEs within CI): {'Fail to Reject' if null_hypothesis else 'Reject'}\")\n",
    "    \n",
    "    return tau_hat"
   ]
  },
  {
   "cell_type": "code",
   "execution_count": 145,
   "id": "9dd6de85-5120-48e6-993d-a64fa651a83b",
   "metadata": {},
   "outputs": [
    {
     "name": "stdout",
     "output_type": "stream",
     "text": [
      "95% CI for difference in ATE: 0.233 +/- 1.443\n"
     ]
    }
   ],
   "source": [
    "def best_linear_predictor_analysis(cf, X, tau_hat):\n",
    "    high_effect = tau_hat > np.median(tau_hat)\n",
    "    ate_high = cf.ate(X[high_effect])\n",
    "    ate_low = cf.ate(X[~high_effect])\n",
    "    diff = ate_high - ate_low\n",
    "    diff_ci = norm.ppf(0.975) * np.sqrt(cf.ate_interval(X[high_effect])[1]**2 + cf.ate_interval(X[~high_effect])[1]**2)\n",
    "    \n",
    "    print(f\"95% CI for difference in ATE: {diff:.3f} +/- {diff_ci:.3f}\")\n",
    "\n",
    "cf = CausalForestDML(model_y=RandomForestRegressor(),\n",
    "                     model_t=RandomForestRegressor(),\n",
    "                     discrete_treatment=False,\n",
    "                     random_state=1)\n",
    "cf.fit(Y, W, X=X)\n",
    "tau_hat = cf.effect(X)\n",
    "\n",
    "best_linear_predictor_analysis(cf, X, tau_hat)"
   ]
  },
  {
   "cell_type": "markdown",
   "id": "05cf7958-98b7-4791-b0c0-737876df5cd8",
   "metadata": {},
   "source": [
    "### Formal test for X1 and X2"
   ]
  },
  {
   "cell_type": "code",
   "execution_count": 146,
   "id": "a2032a47-9c49-41df-9479-9fc35f9cd6ae",
   "metadata": {},
   "outputs": [
    {
     "ename": "TypeError",
     "evalue": "list indices must be integers or slices, not str",
     "output_type": "error",
     "traceback": [
      "\u001b[1;31m---------------------------------------------------------------------------\u001b[0m",
      "\u001b[1;31mTypeError\u001b[0m                                 Traceback (most recent call last)",
      "Cell \u001b[1;32mIn[146], line 2\u001b[0m\n\u001b[0;32m      1\u001b[0m \u001b[38;5;66;03m# Calculate dr_score\u001b[39;00m\n\u001b[1;32m----> 2\u001b[0m dr_score \u001b[38;5;241m=\u001b[39m tau_hat \u001b[38;5;241m+\u001b[39m W \u001b[38;5;241m/\u001b[39m cf[\u001b[38;5;124m'\u001b[39m\u001b[38;5;124mW_hat\u001b[39m\u001b[38;5;124m'\u001b[39m] \u001b[38;5;241m*\u001b[39m (Y \u001b[38;5;241m-\u001b[39m cf[\u001b[38;5;124m'\u001b[39m\u001b[38;5;124mY_hat\u001b[39m\u001b[38;5;124m'\u001b[39m] \u001b[38;5;241m-\u001b[39m (\u001b[38;5;241m1\u001b[39m \u001b[38;5;241m-\u001b[39m cf[\u001b[38;5;124m'\u001b[39m\u001b[38;5;124mW_hat\u001b[39m\u001b[38;5;124m'\u001b[39m]) \u001b[38;5;241m*\u001b[39m tau_hat) \u001b[38;5;241m-\u001b[39m \\\n\u001b[0;32m      3\u001b[0m            (\u001b[38;5;241m1\u001b[39m \u001b[38;5;241m-\u001b[39m W) \u001b[38;5;241m/\u001b[39m (\u001b[38;5;241m1\u001b[39m \u001b[38;5;241m-\u001b[39m cf[\u001b[38;5;124m'\u001b[39m\u001b[38;5;124mW_hat\u001b[39m\u001b[38;5;124m'\u001b[39m]) \u001b[38;5;241m*\u001b[39m (Y \u001b[38;5;241m-\u001b[39m cf[\u001b[38;5;124m'\u001b[39m\u001b[38;5;124mY_hat\u001b[39m\u001b[38;5;124m'\u001b[39m] \u001b[38;5;241m+\u001b[39m cf[\u001b[38;5;124m'\u001b[39m\u001b[38;5;124mW_hat\u001b[39m\u001b[38;5;124m'\u001b[39m] \u001b[38;5;241m*\u001b[39m tau_hat)\n\u001b[0;32m      5\u001b[0m \u001b[38;5;66;03m# Calculate school_score\u001b[39;00m\n\u001b[0;32m      6\u001b[0m school_score \u001b[38;5;241m=\u001b[39m np\u001b[38;5;241m.\u001b[39mdot(school_mat\u001b[38;5;241m.\u001b[39mT, dr_score) \u001b[38;5;241m/\u001b[39m school_size\n",
      "File \u001b[1;32m~\\anaconda3\\Lib\\site-packages\\econml\\dml\\causal_forest.py:1063\u001b[0m, in \u001b[0;36mCausalForestDML.__getitem__\u001b[1;34m(self, index)\u001b[0m\n\u001b[0;32m   1061\u001b[0m \u001b[38;5;28;01mdef\u001b[39;00m \u001b[38;5;21m__getitem__\u001b[39m(\u001b[38;5;28mself\u001b[39m, index):\n\u001b[0;32m   1062\u001b[0m \u001b[38;5;250m    \u001b[39m\u001b[38;5;124;03m\"\"\"Return the index'th estimator in the ensemble.\"\"\"\u001b[39;00m\n\u001b[1;32m-> 1063\u001b[0m     \u001b[38;5;28;01mreturn\u001b[39;00m \u001b[38;5;28mself\u001b[39m\u001b[38;5;241m.\u001b[39mmodel_cate\u001b[38;5;241m.\u001b[39m\u001b[38;5;21m__getitem__\u001b[39m(index)\n",
      "File \u001b[1;32m~\\anaconda3\\Lib\\site-packages\\econml\\grf\\classes.py:76\u001b[0m, in \u001b[0;36mMultiOutputGRF.__getitem__\u001b[1;34m(self, index)\u001b[0m\n\u001b[0;32m     74\u001b[0m \u001b[38;5;28;01mdef\u001b[39;00m \u001b[38;5;21m__getitem__\u001b[39m(\u001b[38;5;28mself\u001b[39m, index):\n\u001b[0;32m     75\u001b[0m \u001b[38;5;250m    \u001b[39m\u001b[38;5;124;03m\"\"\"Return a list of the index'th estimator in the ensemble for each target y.\"\"\"\u001b[39;00m\n\u001b[1;32m---> 76\u001b[0m     \u001b[38;5;28;01mreturn\u001b[39;00m [forest[index] \u001b[38;5;28;01mfor\u001b[39;00m forest \u001b[38;5;129;01min\u001b[39;00m \u001b[38;5;28mself\u001b[39m\u001b[38;5;241m.\u001b[39mestimators_]\n",
      "File \u001b[1;32m~\\anaconda3\\Lib\\site-packages\\econml\\grf\\classes.py:76\u001b[0m, in \u001b[0;36m<listcomp>\u001b[1;34m(.0)\u001b[0m\n\u001b[0;32m     74\u001b[0m \u001b[38;5;28;01mdef\u001b[39;00m \u001b[38;5;21m__getitem__\u001b[39m(\u001b[38;5;28mself\u001b[39m, index):\n\u001b[0;32m     75\u001b[0m \u001b[38;5;250m    \u001b[39m\u001b[38;5;124;03m\"\"\"Return a list of the index'th estimator in the ensemble for each target y.\"\"\"\u001b[39;00m\n\u001b[1;32m---> 76\u001b[0m     \u001b[38;5;28;01mreturn\u001b[39;00m [forest[index] \u001b[38;5;28;01mfor\u001b[39;00m forest \u001b[38;5;129;01min\u001b[39;00m \u001b[38;5;28mself\u001b[39m\u001b[38;5;241m.\u001b[39mestimators_]\n",
      "File \u001b[1;32m~\\anaconda3\\Lib\\site-packages\\econml\\_ensemble\\_ensemble.py:147\u001b[0m, in \u001b[0;36mBaseEnsemble.__getitem__\u001b[1;34m(self, index)\u001b[0m\n\u001b[0;32m    145\u001b[0m \u001b[38;5;28;01mdef\u001b[39;00m \u001b[38;5;21m__getitem__\u001b[39m(\u001b[38;5;28mself\u001b[39m, index):\n\u001b[0;32m    146\u001b[0m \u001b[38;5;250m    \u001b[39m\u001b[38;5;124;03m\"\"\"Return the index'th estimator in the ensemble.\"\"\"\u001b[39;00m\n\u001b[1;32m--> 147\u001b[0m     \u001b[38;5;28;01mreturn\u001b[39;00m \u001b[38;5;28mself\u001b[39m\u001b[38;5;241m.\u001b[39mestimators_[index]\n",
      "\u001b[1;31mTypeError\u001b[0m: list indices must be integers or slices, not str"
     ]
    }
   ],
   "source": [
    "# Calculate dr_score\n",
    "dr_score = tau_hat + W / cf['W_hat'] * (Y - cf['Y_hat'] - (1 - cf['W_hat']) * tau_hat) - \\\n",
    "           (1 - W) / (1 - cf['W_hat']) * (Y - cf['Y_hat'] + cf['W_hat'] * tau_hat)\n",
    "\n",
    "# Calculate school_score\n",
    "school_score = np.dot(school_mat.T, dr_score) / school_size\n",
    "\n",
    "# Calculate school.X1\n",
    "school_X1 = np.dot(school_mat.T, X['X1']) / school_size\n",
    "high_X1 = school_X1 > np.median(school_X1)\n",
    "t_test_X1 = ttest_ind(school_score[high_X1], school_score[~high_X1])\n",
    "\n",
    "# Calculate school.X2\n",
    "school_X2 = np.dot(school_mat.T, X['X2']) / school_size\n",
    "high_X2 = school_X2 > np.median(school_X2)\n",
    "t_test_X2 = ttest_ind(school_score[high_X2], school_score[~high_X2])"
   ]
  },
  {
   "cell_type": "markdown",
   "id": "be8d7c4c-7072-40f7-9a24-49aed1e5d5c3",
   "metadata": {},
   "source": [
    "### Look at school-wise heterogeneity"
   ]
  },
  {
   "cell_type": "code",
   "execution_count": null,
   "id": "97bced81-9fa2-4560-b87f-9a92dd1baac6",
   "metadata": {},
   "outputs": [],
   "source": [
    "# Calculation of dr_score\n",
    "dr_score = tau_hat + W / cf.effect(X) * (Y - cf.effect(X) - (1 - cf.effect(X)) * tau_hat) - (1 - W) / (1 - cf.effect(X)) * (Y - cf.effect(X) + cf.effect(X) * tau_hat)\n",
    "\n",
    "# Calculation of school_score\n",
    "school_score = np.dot(school_mat.T, dr_score) / school_size\n",
    "\n",
    "# Filter NaN values from school_score\n",
    "school_score_filtered = school_score[~np.isnan(school_score)]\n",
    "\n",
    "# Plot histogram with filtered values\n",
    "plt.figure(figsize=(8, 6))\n",
    "plt.hist(school_score_filtered, bins=20, edgecolor='black')\n",
    "plt.xlabel(\"School Treatment Effect Estimate\")\n",
    "plt.title(\"Histogram of School Treatment Effect Estimates\")\n",
    "plt.show()\n",
    "\n",
    "# Check ATE\n",
    "ate_hat = np.mean(school_score_filtered)\n",
    "se_hat = np.sqrt(np.var(school_score_filtered) / (len(school_score_filtered) - 1))\n",
    "print(round(ate_hat, 3), \"+/-\", round(1.96 * se_hat, 3))\n",
    "\n",
    "# View variation in propensity scores\n",
    "DF = X.copy()\n",
    "DF['W_hat'] = cf.W_hat\n",
    "\n",
    "plt.figure(figsize=(8, 6))\n",
    "DF.boxplot(column='W_hat', by='S3')\n",
    "plt.xlabel(\"Student Expectation of Success\")\n",
    "plt.ylabel(\"Propensity Score\")\n",
    "plt.title(\"Variation in Propensity Scores by Student Expectation of Success\")\n",
    "plt.show()"
   ]
  },
  {
   "cell_type": "markdown",
   "id": "23beea80-894b-49ff-ad54-ada29dc4da2b",
   "metadata": {},
   "source": [
    "### Analysis ignoring clusters"
   ]
  },
  {
   "cell_type": "code",
   "execution_count": 147,
   "id": "87322c87-e327-4056-9b7a-c372cccd6dcd",
   "metadata": {},
   "outputs": [
    {
     "name": "stdout",
     "output_type": "stream",
     "text": [
      "95% CI for the ATE: 0.295 +/- 0.373\n"
     ]
    },
    {
     "ename": "TypeError",
     "evalue": "CausalForestDML.fit() takes 3 positional arguments but 4 were given",
     "output_type": "error",
     "traceback": [
      "\u001b[1;31m---------------------------------------------------------------------------\u001b[0m",
      "\u001b[1;31mTypeError\u001b[0m                                 Traceback (most recent call last)",
      "Cell \u001b[1;32mIn[147], line 12\u001b[0m\n\u001b[0;32m      8\u001b[0m \u001b[38;5;28mprint\u001b[39m(\u001b[38;5;124m\"\u001b[39m\u001b[38;5;124m95\u001b[39m\u001b[38;5;124m%\u001b[39m\u001b[38;5;124m CI for the ATE:\u001b[39m\u001b[38;5;124m\"\u001b[39m, \u001b[38;5;28mround\u001b[39m(ATE_noclust[\u001b[38;5;241m0\u001b[39m], \u001b[38;5;241m3\u001b[39m),\n\u001b[0;32m      9\u001b[0m       \u001b[38;5;124m\"\u001b[39m\u001b[38;5;124m+/-\u001b[39m\u001b[38;5;124m\"\u001b[39m, \u001b[38;5;28mround\u001b[39m(norm\u001b[38;5;241m.\u001b[39mppf(\u001b[38;5;241m0.975\u001b[39m) \u001b[38;5;241m*\u001b[39m ATE_noclust[\u001b[38;5;241m1\u001b[39m], \u001b[38;5;241m3\u001b[39m))\n\u001b[0;32m     11\u001b[0m \u001b[38;5;66;03m# Test the calibration of the model\u001b[39;00m\n\u001b[1;32m---> 12\u001b[0m test_calibration(cf_noclust, X, Y, W\u001b[38;5;241m.\u001b[39mreshape(\u001b[38;5;241m-\u001b[39m\u001b[38;5;241m1\u001b[39m, \u001b[38;5;241m1\u001b[39m))\n\u001b[0;32m     14\u001b[0m \u001b[38;5;66;03m# Predict treatment effects for the whole dataset\u001b[39;00m\n\u001b[0;32m     15\u001b[0m tau_hat_noclust \u001b[38;5;241m=\u001b[39m cf_noclust\u001b[38;5;241m.\u001b[39meffect(X)\n",
      "Cell \u001b[1;32mIn[144], line 13\u001b[0m, in \u001b[0;36mtest_calibration\u001b[1;34m(cf, X, Y, W, n_folds, alpha)\u001b[0m\n\u001b[0;32m     10\u001b[0m Y_train, Y_test \u001b[38;5;241m=\u001b[39m Y[train_index], Y[test_index]\n\u001b[0;32m     11\u001b[0m W_train, W_test \u001b[38;5;241m=\u001b[39m W[train_index], W[test_index]\n\u001b[1;32m---> 13\u001b[0m cf_fold \u001b[38;5;241m=\u001b[39m cf\u001b[38;5;241m.\u001b[39mfit(X_train, Y_train, W_train)\n\u001b[0;32m     14\u001b[0m tau_hat[test_index] \u001b[38;5;241m=\u001b[39m cf_fold\u001b[38;5;241m.\u001b[39mpredict(X_test)\n\u001b[0;32m     15\u001b[0m Y_hat[test_index] \u001b[38;5;241m=\u001b[39m cf_fold\u001b[38;5;241m.\u001b[39mpredict_expected_outcome(X_test)\n",
      "\u001b[1;31mTypeError\u001b[0m: CausalForestDML.fit() takes 3 positional arguments but 4 were given"
     ]
    }
   ],
   "source": [
    "# Train the causal forest model without clustering\n",
    "cf_noclust = CausalForestDML().fit(Y, T=W, X=X)\n",
    "\n",
    "# Calculate the average treatment effect (ATE)\n",
    "ATE_noclust = cf_noclust.effect(X)\n",
    "\n",
    "# Print the confidence interval for the ATE\n",
    "print(\"95% CI for the ATE:\", round(ATE_noclust[0], 3),\n",
    "      \"+/-\", round(norm.ppf(0.975) * ATE_noclust[1], 3))\n",
    "\n",
    "# Test the calibration of the model\n",
    "test_calibration(cf_noclust, X, Y, W.reshape(-1, 1))\n",
    "\n",
    "# Predict treatment effects for the whole dataset\n",
    "tau_hat_noclust = cf_noclust.effect(X)\n",
    "\n",
    "# Plot school.id against predicted treatment effects\n",
    "plot(school.id, tau_hat_noclust)\n",
    "\n",
    "nfold = 5\n",
    "school_levels = np.unique(school_id)\n",
    "cluster_folds = np.random.choice(nfold, len(school_levels), replace=True)\n",
    "\n",
    "tau_hat_crossfold = np.empty(len(Y))\n",
    "for foldid in range(1, nfold+1):\n",
    "    print(foldid)\n",
    "    infold = np.isin(school_id, school_levels[cluster_folds == foldid])\n",
    "    cf_fold = CausalForestDML().fit(Y[~infold], T[~infold], X=X[~infold], W=W[~infold])\n",
    "    pred_fold = cf_fold.effect(X[infold])\n",
    "    tau_hat_crossfold[infold] = pred_fold\n",
    "\n",
    "# Create a copy of the original causal forest model\n",
    "cf_noclust_cpy = cf_noclust.copy()\n",
    "\n",
    "# Add crossfold predictions and school clusters to the copy\n",
    "cf_noclust_cpy.predictions = tau_hat_crossfold\n",
    "cf_noclust_cpy.clusters = school_id\n",
    "\n",
    "# Test the calibration of the copy with crossfold predictions\n",
    "test_calibration(cf_noclust_cpy)\n",
    "\n",
    "# Calculate R loss for each scenario\n",
    "R_loss_noclust = np.mean(((Y - Y_hat) - tau_hat * (W - W_hat))**2)\n",
    "R_loss_noclust_cf = np.mean(((Y - Y_hat) - tau_hat_noclust * (W - W_hat))**2)\n",
    "R_loss_crossfold = np.mean(((Y - Y_hat) - tau_hat_crossfold * (W - W_hat))**2)\n",
    "\n",
    "# Print the results\n",
    "print(R_loss_noclust_cf - R_loss_noclust, R_loss_crossfold - R_loss_noclust)\n",
    "\n",
    "model = ols('dr_score ~ C(school_id)', data=df).fit()\n",
    "anova_table = sm.stats.anova_lm(model, typ=2)\n",
    "print(anova_table)"
   ]
  },
  {
   "cell_type": "markdown",
   "id": "5d7d48b1-4669-4921-a253-14893a0c09dc",
   "metadata": {},
   "source": [
    "### Analysis without fitting the propensity score"
   ]
  },
  {
   "cell_type": "code",
   "execution_count": 148,
   "id": "2b26ba95-14bd-4096-87ba-fc0f8718a335",
   "metadata": {},
   "outputs": [
    {
     "name": "stdout",
     "output_type": "stream",
     "text": [
      "95% CI for the ATE: 0.336 +/- 0.509\n"
     ]
    },
    {
     "data": {
      "image/png": "[encoded data removed]",
      "text/plain": [
       "<Figure size 640x480 with 1 Axes>"
      ]
     },
     "metadata": {},
     "output_type": "display_data"
    }
   ],
   "source": [
    "# Train the causal forest model without proportional weighting\n",
    "cf_noprop = CausalForestDML().fit(Y, T=W, X=X)\n",
    "\n",
    "# Predict treatment effects for the whole dataset\n",
    "tau_hat_noprop = cf_noprop.effect(X)\n",
    "\n",
    "# Calculate the average treatment effect (ATE)\n",
    "ATE_noprop = cf_noprop.const_marginal_effect(X)\n",
    "\n",
    "# Print the confidence interval for the ATE\n",
    "print(\"95% CI for the ATE:\", round(ATE_noprop[0], 3),\n",
    "      \"+/-\", round(norm.ppf(0.975) * ATE_noprop[1], 3))\n",
    "\n",
    "# Plot tau_hat against tau_hat_noprop\n",
    "plt.figure()\n",
    "plt.plot(tau_hat, tau_hat_noprop, marker='o', linestyle='None')\n",
    "plt.xlabel(\"orthogonalized causal forest estimates\")\n",
    "plt.ylabel(\"non-orthogonalized causal forest\")\n",
    "plt.plot([min(tau_hat), max(tau_hat)], [min(tau_hat), max(tau_hat)], linestyle='--', linewidth=2, color='r')\n",
    "plt.savefig(\"tauhat_noprop.pdf\")\n",
    "plt.show()"
   ]
  },
  {
   "cell_type": "markdown",
   "id": "02ff131b-fd8c-445c-9a56-54edd29ffe8a",
   "metadata": {},
   "source": [
    "### Visualize school-level covariates by treatment heterogeneity"
   ]
  },
  {
   "cell_type": "code",
   "execution_count": 149,
   "id": "67cc9c2f-b5b7-4814-9c97-4606f324d8fa",
   "metadata": {},
   "outputs": [
    {
     "ename": "ValueError",
     "evalue": "operands could not be broadcast together with shapes (76,9) (76,) ",
     "output_type": "error",
     "traceback": [
      "\u001b[1;31m---------------------------------------------------------------------------\u001b[0m",
      "\u001b[1;31mValueError\u001b[0m                                Traceback (most recent call last)",
      "Cell \u001b[1;32mIn[149], line 2\u001b[0m\n\u001b[0;32m      1\u001b[0m \u001b[38;5;66;03m# Calculate school.X\u001b[39;00m\n\u001b[1;32m----> 2\u001b[0m school_X \u001b[38;5;241m=\u001b[39m pd\u001b[38;5;241m.\u001b[39mDataFrame(np\u001b[38;5;241m.\u001b[39mdot(school_mat\u001b[38;5;241m.\u001b[39mT, X[:, [\u001b[38;5;241m3\u001b[39m, \u001b[38;5;241m4\u001b[39m, \u001b[38;5;241m5\u001b[39m, \u001b[38;5;241m6\u001b[39m, \u001b[38;5;241m7\u001b[39m, \u001b[38;5;241m20\u001b[39m, \u001b[38;5;241m21\u001b[39m, \u001b[38;5;241m22\u001b[39m, \u001b[38;5;241m23\u001b[39m]]) \u001b[38;5;241m/\u001b[39m school_size)\n\u001b[0;32m      3\u001b[0m school_X\u001b[38;5;241m.\u001b[39mcolumns \u001b[38;5;241m=\u001b[39m [\u001b[38;5;124m\"\u001b[39m\u001b[38;5;124mX1\u001b[39m\u001b[38;5;124m\"\u001b[39m, \u001b[38;5;124m\"\u001b[39m\u001b[38;5;124mX2\u001b[39m\u001b[38;5;124m\"\u001b[39m, \u001b[38;5;124m\"\u001b[39m\u001b[38;5;124mX3\u001b[39m\u001b[38;5;124m\"\u001b[39m, \u001b[38;5;124m\"\u001b[39m\u001b[38;5;124mX4\u001b[39m\u001b[38;5;124m\"\u001b[39m, \u001b[38;5;124m\"\u001b[39m\u001b[38;5;124mX5\u001b[39m\u001b[38;5;124m\"\u001b[39m, \u001b[38;5;124m\"\u001b[39m\u001b[38;5;124mXC.1\u001b[39m\u001b[38;5;124m\"\u001b[39m, \u001b[38;5;124m\"\u001b[39m\u001b[38;5;124mXC.2\u001b[39m\u001b[38;5;124m\"\u001b[39m, \u001b[38;5;124m\"\u001b[39m\u001b[38;5;124mXC.3\u001b[39m\u001b[38;5;124m\"\u001b[39m, \u001b[38;5;124m\"\u001b[39m\u001b[38;5;124mXC.4\u001b[39m\u001b[38;5;124m\"\u001b[39m]\n",
      "\u001b[1;31mValueError\u001b[0m: operands could not be broadcast together with shapes (76,9) (76,) "
     ]
    }
   ],
   "source": [
    "# Calculate school.X\n",
    "school_X = pd.DataFrame(np.dot(school_mat.T, X[:, [3, 4, 5, 6, 7, 20, 21, 22, 23]]) / school_size)\n",
    "school_X.columns = [\"X1\", \"X2\", \"X3\", \"X4\", \"X5\", \"XC.1\", \"XC.2\", \"XC.3\", \"XC.4\"]"
   ]
  },
  {
   "cell_type": "code",
   "execution_count": 150,
   "id": "68b56524-0e5c-4c97-b007-2d89e899b600",
   "metadata": {},
   "outputs": [
    {
     "ename": "NameError",
     "evalue": "name 'school_X' is not defined",
     "output_type": "error",
     "traceback": [
      "\u001b[1;31m---------------------------------------------------------------------------\u001b[0m",
      "\u001b[1;31mNameError\u001b[0m                                 Traceback (most recent call last)",
      "Cell \u001b[1;32mIn[150], line 3\u001b[0m\n\u001b[0;32m      1\u001b[0m \u001b[38;5;66;03m# Scale the data\u001b[39;00m\n\u001b[0;32m      2\u001b[0m scaler \u001b[38;5;241m=\u001b[39m StandardScaler()\n\u001b[1;32m----> 3\u001b[0m school_X_std \u001b[38;5;241m=\u001b[39m scaler\u001b[38;5;241m.\u001b[39mfit_transform(school_X)\n\u001b[0;32m      5\u001b[0m \u001b[38;5;66;03m# Create terciles\u001b[39;00m\n\u001b[0;32m      6\u001b[0m terciles \u001b[38;5;241m=\u001b[39m pd\u001b[38;5;241m.\u001b[39mqcut(school_pred, q\u001b[38;5;241m=\u001b[39m[\u001b[38;5;241m0\u001b[39m, \u001b[38;5;241m1\u001b[39m\u001b[38;5;241m/\u001b[39m\u001b[38;5;241m3\u001b[39m, \u001b[38;5;241m2\u001b[39m\u001b[38;5;241m/\u001b[39m\u001b[38;5;241m3\u001b[39m, \u001b[38;5;241m1\u001b[39m], labels\u001b[38;5;241m=\u001b[39m[\u001b[38;5;124m\"\u001b[39m\u001b[38;5;124mlow\u001b[39m\u001b[38;5;124m\"\u001b[39m, \u001b[38;5;124m\"\u001b[39m\u001b[38;5;124mmid\u001b[39m\u001b[38;5;124m\"\u001b[39m, \u001b[38;5;124m\"\u001b[39m\u001b[38;5;124mhigh\u001b[39m\u001b[38;5;124m\"\u001b[39m])\n",
      "\u001b[1;31mNameError\u001b[0m: name 'school_X' is not defined"
     ]
    }
   ],
   "source": [
    "# Scale the data\n",
    "scaler = StandardScaler()\n",
    "school_X_std = scaler.fit_transform(school_X)\n",
    "\n",
    "# Create terciles\n",
    "terciles = pd.qcut(school_pred, q=[0, 1/3, 2/3, 1], labels=[\"low\", \"mid\", \"high\"])\n",
    "school_tercile_mat = pd.get_dummies(terciles)\n",
    "\n",
    "# Calculate conditional means\n",
    "school_means = np.dot(np.linalg.inv(np.diag(1 / school_tercile_mat.sum(axis=0))),\n",
    "                      np.dot(school_tercile_mat.T, school_X_std))\n",
    "\n",
    "# Create the plot\n",
    "DF_plot = pd.df({\n",
    "    'tercile': np.repeat([\"low\", \"mid\", \"high\"], 9),\n",
    "    'mean': school_means.flatten(),\n",
    "    'feature': np.repeat(school_X.columns, 3)\n",
    "})\n",
    "\n",
    "plt.figure(figsize=(8, 4.5))\n",
    "sns.heatmap(DF_plot.pivot(\"feature\", \"tercile\", \"mean\"), cmap=\"coolwarm\", annot=True, fmt=\".2f\")\n",
    "plt.savefig(\"tercile_plot.pdf\")\n",
    "\n",
    "# Calculate the mean of XC.3\n",
    "print(np.mean(school_X[\"XC.3\"]))\n",
    "print(np.mean(school_X[\"XC.3\"][terciles == \"low\"]))"
   ]
  },
  {
   "cell_type": "markdown",
   "id": "7345e750-ce56-4a23-9e86-e65960d0ab40",
   "metadata": {},
   "source": [
    "### CATE by school"
   ]
  },
  {
   "cell_type": "code",
   "execution_count": 151,
   "id": "c840ad52-9641-4fe5-b277-504a817aa8d1",
   "metadata": {},
   "outputs": [
    {
     "ename": "IndexError",
     "evalue": "index 27 is out of bounds for axis 1 with size 27",
     "output_type": "error",
     "traceback": [
      "\u001b[1;31m---------------------------------------------------------------------------\u001b[0m",
      "\u001b[1;31mIndexError\u001b[0m                                Traceback (most recent call last)",
      "Cell \u001b[1;32mIn[151], line 2\u001b[0m\n\u001b[0;32m      1\u001b[0m \u001b[38;5;66;03m# Calcular school.X\u001b[39;00m\n\u001b[1;32m----> 2\u001b[0m school_X \u001b[38;5;241m=\u001b[39m np\u001b[38;5;241m.\u001b[39mdot(school_mat\u001b[38;5;241m.\u001b[39mT, X[:, [\u001b[38;5;241m3\u001b[39m, \u001b[38;5;241m4\u001b[39m, \u001b[38;5;241m5\u001b[39m, \u001b[38;5;241m6\u001b[39m, \u001b[38;5;241m7\u001b[39m, \u001b[38;5;241m24\u001b[39m, \u001b[38;5;241m25\u001b[39m, \u001b[38;5;241m26\u001b[39m, \u001b[38;5;241m27\u001b[39m]]) \u001b[38;5;241m/\u001b[39m school_size\n\u001b[0;32m      3\u001b[0m school_X \u001b[38;5;241m=\u001b[39m pd\u001b[38;5;241m.\u001b[39mDataFrame(school_X)\n\u001b[0;32m      4\u001b[0m school_X\u001b[38;5;241m.\u001b[39mcolumns \u001b[38;5;241m=\u001b[39m [\u001b[38;5;124m\"\u001b[39m\u001b[38;5;124mX1\u001b[39m\u001b[38;5;124m\"\u001b[39m, \u001b[38;5;124m\"\u001b[39m\u001b[38;5;124mX2\u001b[39m\u001b[38;5;124m\"\u001b[39m, \u001b[38;5;124m\"\u001b[39m\u001b[38;5;124mX3\u001b[39m\u001b[38;5;124m\"\u001b[39m, \u001b[38;5;124m\"\u001b[39m\u001b[38;5;124mX4\u001b[39m\u001b[38;5;124m\"\u001b[39m, \u001b[38;5;124m\"\u001b[39m\u001b[38;5;124mX5\u001b[39m\u001b[38;5;124m\"\u001b[39m, \u001b[38;5;124m\"\u001b[39m\u001b[38;5;124mXC.1\u001b[39m\u001b[38;5;124m\"\u001b[39m, \u001b[38;5;124m\"\u001b[39m\u001b[38;5;124mXC.2\u001b[39m\u001b[38;5;124m\"\u001b[39m, \u001b[38;5;124m\"\u001b[39m\u001b[38;5;124mXC.3\u001b[39m\u001b[38;5;124m\"\u001b[39m, \u001b[38;5;124m\"\u001b[39m\u001b[38;5;124mXC.4\u001b[39m\u001b[38;5;124m\"\u001b[39m]\n",
      "\u001b[1;31mIndexError\u001b[0m: index 27 is out of bounds for axis 1 with size 27"
     ]
    }
   ],
   "source": [
    "# Calcular school.X\n",
    "school_X = np.dot(school_mat.T, X[:, [3, 4, 5, 6, 7, 24, 25, 26, 27]]) / school_size\n",
    "school_X = pd.DataFrame(school_X)\n",
    "school_X.columns = [\"X1\", \"X2\", \"X3\", \"X4\", \"X5\", \"XC.1\", \"XC.2\", \"XC.3\", \"XC.4\"]\n",
    "\n",
    "# Calcular dr.score\n",
    "dr_score = tau_hat + W / cf.W_hat * (Y - cf.Y_hat - (1 - cf.W_hat) * tau_hat) - \\\n",
    "           (1 - W) / (1 - cf.W_hat) * (Y - cf.Y_hat + cf.W_hat * tau_hat)\n",
    "\n",
    "# Calcular school.score\n",
    "school_score = np.dot(school_mat.T, dr_score) / school_size\n",
    "\n",
    "# Entrenar el bosque aleatorio\n",
    "school_forest = RandomForestRegressor()\n",
    "school_forest.fit(school_X, school_score)\n",
    "\n",
    "# Realizar predicciones\n",
    "school_pred = school_forest.predict(school_X)\n",
    "\n",
    "# Probar la calibración del modelo\n",
    "test_calibration(school_forest)"
   ]
  },
  {
   "cell_type": "code",
   "execution_count": 152,
   "id": "1a1744aa-48dc-4a2f-8b00-0767f98ad2ce",
   "metadata": {
    "scrolled": true
   },
   "outputs": [
    {
     "ename": "NameError",
     "evalue": "name 'school_pred' is not defined",
     "output_type": "error",
     "traceback": [
      "\u001b[1;31m---------------------------------------------------------------------------\u001b[0m",
      "\u001b[1;31mNameError\u001b[0m                                 Traceback (most recent call last)",
      "Cell \u001b[1;32mIn[152], line 1\u001b[0m\n\u001b[1;32m----> 1\u001b[0m \u001b[38;5;28mord\u001b[39m \u001b[38;5;241m=\u001b[39m np\u001b[38;5;241m.\u001b[39margsort(np\u001b[38;5;241m.\u001b[39margsort(school_pred))\n\u001b[0;32m      2\u001b[0m school_sort \u001b[38;5;241m=\u001b[39m \u001b[38;5;28mord\u001b[39m[school_id]\n\u001b[0;32m      4\u001b[0m plt\u001b[38;5;241m.\u001b[39mfigure()\n",
      "\u001b[1;31mNameError\u001b[0m: name 'school_pred' is not defined"
     ]
    }
   ],
   "source": [
    "ord = np.argsort(np.argsort(school_pred))\n",
    "school_sort = ord[school_id]\n",
    "\n",
    "plt.figure()\n",
    "plt.boxplot(tau_hat_noclust, positions=school_sort, widths=0.6)\n",
    "plt.scatter(np.arange(1, 77), np.sort(school_pred), color='red', marker='o', label='school mean CATE')\n",
    "plt.xlabel('school')\n",
    "plt.ylabel('estimated CATE')\n",
    "plt.legend(loc='upper left')\n",
    "plt.savefig(\"school_boxplot.pdf\")\n",
    "plt.show()"
   ]
  }
 ],
 "metadata": {
  "kernelspec": {
   "display_name": "Python 3 (ipykernel)",
   "language": "python",
   "name": "python3"
  },
  "language_info": {
   "codemirror_mode": {
    "name": "ipython",
    "version": 3
   },
   "file_extension": ".py",
   "mimetype": "text/x-python",
   "name": "python",
   "nbconvert_exporter": "python",
   "pygments_lexer": "ipython3",
   "version": "3.11.7"
  }
 },
 "nbformat": 4,
 "nbformat_minor": 5
}
