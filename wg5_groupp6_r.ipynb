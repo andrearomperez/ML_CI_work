{
  "nbformat": 4,
  "nbformat_minor": 0,
  "metadata": {
    "colab": {
      "provenance": []
    },
    "kernelspec": {
      "name": "ir",
      "display_name": "R"
    },
    "language_info": {
      "name": "R"
    }
  },
  "cells": [
    {
      "cell_type": "code",
      "execution_count": null,
      "metadata": {
        "colab": {
          "base_uri": "https://localhost:8080/"
        },
        "id": "EnsNOKgQPV1S",
        "outputId": "67dad206-3895-4369-d3f4-2e6bd9c7690a"
      },
      "outputs": [
        {
          "output_type": "stream",
          "name": "stderr",
          "text": [
            "Installing packages into ‘/usr/local/lib/R/site-library’\n",
            "(as ‘lib’ is unspecified)\n",
            "\n",
            "Warning message:\n",
            "“package ‘stats’ is a base package, and should not be updated”\n",
            "also installing the dependencies ‘listenv’, ‘parallelly’, ‘future’, ‘globals’, ‘future.apply’, ‘numDeriv’, ‘progressr’, ‘SQUAREM’, ‘diagram’, ‘lava’, ‘prodlim’, ‘iterators’, ‘clock’, ‘gower’, ‘hardhat’, ‘ipred’, ‘timeDate’, ‘foreach’, ‘shape’, ‘Rcpp’, ‘RcppEigen’, ‘ModelMetrics’, ‘plyr’, ‘pROC’, ‘recipes’, ‘reshape2’, ‘proxy’\n",
            "\n",
            "\n",
            "Warning message in install.packages(c(\"dplyr\", \"ggplot2\", \"scales\", \"stats\", \"boot\", :\n",
            "“installation of package ‘clock’ had non-zero exit status”\n",
            "Warning message in install.packages(c(\"dplyr\", \"ggplot2\", \"scales\", \"stats\", \"boot\", :\n",
            "“installation of package ‘gower’ had non-zero exit status”\n",
            "Warning message in install.packages(c(\"dplyr\", \"ggplot2\", \"scales\", \"stats\", \"boot\", :\n",
            "“installation of package ‘hardhat’ had non-zero exit status”\n",
            "Warning message in install.packages(c(\"dplyr\", \"ggplot2\", \"scales\", \"stats\", \"boot\", :\n",
            "“installation of package ‘plyr’ had non-zero exit status”\n",
            "Warning message in install.packages(c(\"dplyr\", \"ggplot2\", \"scales\", \"stats\", \"boot\", :\n",
            "“installation of package ‘ggplot2’ had non-zero exit status”\n",
            "Warning message in install.packages(c(\"dplyr\", \"ggplot2\", \"scales\", \"stats\", \"boot\", :\n",
            "“installation of package ‘e1071’ had non-zero exit status”\n",
            "Warning message in install.packages(c(\"dplyr\", \"ggplot2\", \"scales\", \"stats\", \"boot\", :\n",
            "“installation of package ‘future.apply’ had non-zero exit status”\n",
            "Warning message in install.packages(c(\"dplyr\", \"ggplot2\", \"scales\", \"stats\", \"boot\", :\n",
            "“installation of package ‘pROC’ had non-zero exit status”\n",
            "Warning message in install.packages(c(\"dplyr\", \"ggplot2\", \"scales\", \"stats\", \"boot\", :\n",
            "“installation of package ‘reshape2’ had non-zero exit status”\n"
          ]
        }
      ],
      "source": [
        "# Install the necessary packages (run this separately if not already installed)\n",
        "install.packages(c(\"dplyr\", \"ggplot2\", \"scales\", \"stats\", \"boot\", \"randomForest\", \"glmnet\", \"caret\", \"e1071\", \"rpart\", \"gbm\", \"Metrics\"))\n",
        "\n",
        "# Import libraries\n",
        "library(dplyr)\n",
        "library(ggplot2)\n",
        "library(scales)\n",
        "library(stats)\n",
        "library(boot)\n",
        "library(randomForest)\n",
        "library(glmnet)\n",
        "library(caret)\n",
        "library(e1071)\n",
        "library(rpart)\n",
        "library(gbm)\n",
        "library(Metrics)\n",
        "library(causalTree)\n",
        "library(grf)\n",
        "library(gridExtra)"
      ]
    },
    {
      "cell_type": "markdown",
      "source": [
        "# Descriptives"
      ],
      "metadata": {
        "id": "1KebGlZfQ0np"
      }
    },
    {
      "cell_type": "code",
      "source": [
        "# Load the data\n",
        "data <- read.csv(\"processed_esti.csv\")\n",
        "\n",
        "# Display the first few rows\n",
        "head(data)"
      ],
      "metadata": {
        "id": "cvz1PKUQQG2t"
      },
      "execution_count": null,
      "outputs": []
    },
    {
      "cell_type": "markdown",
      "source": [
        "This study focuses on evaluating the effectiveness of internet-accessed STI testing (e-STI testing) compared to traditional face-to-face services. The e-STI testing service, known as SH:24, offers postal self-sampling test kits for chlamydia, gonorrhoea, HIV, and syphilis, with results communicated via text message or telephone and supported by web-based safer sex health information. This randomized controlled trial aims to assess the impact of SH:24 on the uptake of STI testing, diagnosis, and treatment when delivered alongside usual care. The findings from this study could inform strategies to improve STI testing and treatment services and address public health concerns associated with STIs."
      ],
      "metadata": {
        "id": "24myHqBZQ6cd"
      }
    },
    {
      "cell_type": "code",
      "source": [
        "# Define the variables to include in the table\n",
        "variables <- c(\n",
        "    'y', 'w', 'gender_female', 'gender_male', 'gender_transgender',\n",
        "    'ethnicgrp_asian', 'ethnicgrp_black', 'ethnicgrp_mixed_multiple',\n",
        "    'ethnicgrp_other', 'ethnicgrp_white', 'partners1', 'postlaunch',\n",
        "    'age', 'imd_decile'\n",
        ")\n",
        "\n",
        "# Split the data into control and treatment groups\n",
        "control_group <- data[data$w == 0, ]\n",
        "treatment_group <- data[data$w == 1, ]\n",
        "\n",
        "# Function to calculate mean, std, and diff\n",
        "calculate_stats <- function(variable) {\n",
        "    control_mean <- mean(control_group[[variable]], na.rm = TRUE)\n",
        "    control_std <- sd(control_group[[variable]], na.rm = TRUE)\n",
        "    treatment_mean <- mean(treatment_group[[variable]], na.rm = TRUE)\n",
        "    treatment_std <- sd(treatment_group[[variable]], na.rm = TRUE)\n",
        "    diff <- lm(data[[variable]] ~ data$w)$coefficients[2]\n",
        "    return(c(control_mean, control_std, treatment_mean, treatment_std, diff))\n",
        "}\n",
        "\n",
        "# Create the balance table\n",
        "balance_table <- data.frame(matrix(ncol = 5, nrow = length(variables)))\n",
        "colnames(balance_table) <- c('Control mean', 'Control sd', 'Treatment mean', 'Treatment sd', 'Diff')\n",
        "rownames(balance_table) <- variables\n",
        "\n",
        "for (var in variables) {\n",
        "    stats <- calculate_stats(var)\n",
        "    balance_table[var, ] <- stats\n",
        "}\n",
        "\n",
        "# Display the balance table\n",
        "print(balance_table)"
      ],
      "metadata": {
        "id": "4gwdsM58QmMm"
      },
      "execution_count": null,
      "outputs": []
    },
    {
      "cell_type": "markdown",
      "source": [
        "We can observe a similar composition of the treatment and control groups in all variables."
      ],
      "metadata": {
        "id": "XInmXhaBSAGt"
      }
    },
    {
      "cell_type": "code",
      "source": [
        "# Proportion of STI Testing (Outcome y) in Treated and Control Groups\n",
        "ggplot(data, aes(x = factor(w), y = y, fill = factor(w))) +\n",
        "  geom_bar(stat = \"identity\", position = \"dodge\") +\n",
        "  scale_fill_manual(values = c(\"blue\", \"red\")) +\n",
        "  labs(title = \"Proportion of STI Testing (Outcome y) in Treated and Control Groups\",\n",
        "       x = \"Group (0 = Control, 1 = Treated)\",\n",
        "       y = \"Proportion of STI Testing\") +\n",
        "  theme_minimal()"
      ],
      "metadata": {
        "id": "BKCUElrRRpOp"
      },
      "execution_count": null,
      "outputs": []
    },
    {
      "cell_type": "code",
      "source": [
        "# Gender Distribution in Treated and Control Groups\n",
        "ggplot(data, aes(x = factor(w), fill = factor(gender_female))) +\n",
        "  geom_bar(position = \"dodge\") +\n",
        "  labs(title = \"Gender Distribution in Treated and Control Groups\",\n",
        "       x = \"Group (0 = Control, 1 = Treated)\",\n",
        "       y = \"Count\",\n",
        "       fill = \"Gender Female\") +\n",
        "  scale_fill_manual(values = c(\"FALSE\" = \"blue\", \"TRUE\" = \"red\")) +\n",
        "  theme_minimal()"
      ],
      "metadata": {
        "id": "ow1DPiGBSKKm"
      },
      "execution_count": null,
      "outputs": []
    },
    {
      "cell_type": "code",
      "source": [
        "# Setting up the visualisation style\n",
        "theme_set(theme_minimal())\n",
        "\n",
        "# Define a function to plot histograms for each group separately\n",
        "plot_separate_histograms <- function(variable, treated, control) {\n",
        "  treated_plot <- ggplot(treated, aes(x = !!sym(variable))) +\n",
        "    geom_histogram(binwidth = 0.5, fill = \"blue\", alpha = 0.6) +\n",
        "    labs(title = paste(\"Treated Group - Distribution of\", variable),\n",
        "         x = variable, y = \"Frequency\") +\n",
        "    theme_minimal()\n",
        "\n",
        "  control_plot <- ggplot(control, aes(x = !!sym(variable))) +\n",
        "    geom_histogram(binwidth = 0.5, fill = \"red\", alpha = 0.6) +\n",
        "    labs(title = paste(\"Control Group - Distribution of\", variable),\n",
        "         x = variable, y = \"Frequency\") +\n",
        "    theme_minimal()\n",
        "\n",
        "  plot_grid(treated_plot, control_plot, nrow = 1, labels = c(\"Treated\", \"Control\"))\n",
        "}"
      ],
      "metadata": {
        "id": "drjEnWuUSTLY"
      },
      "execution_count": null,
      "outputs": []
    },
    {
      "cell_type": "code",
      "source": [
        "# Example usage\n",
        "plot_separate_histograms(\"age\", treated_group, control_group)\n",
        "plot_separate_histograms(\"imd_decile\", treated_group, control_group)"
      ],
      "metadata": {
        "id": "3hlowtmlTlp2"
      },
      "execution_count": null,
      "outputs": []
    },
    {
      "cell_type": "code",
      "source": [
        "# Define a function to plot bar plots for each group separately\n",
        "plot_distribution <- function(variable, data, treated, control, kind='bar') {\n",
        "  treated_counts <- table(treated[[variable]])\n",
        "  control_counts <- table(control[[variable]])\n",
        "\n",
        "  treated_df <- data.frame(group = \"Treated\", variable = names(treated_counts), count = as.numeric(treated_counts))\n",
        "  control_df <- data.frame(group = \"Control\", variable = names(control_counts), count = as.numeric(control_counts))\n",
        "  combined_df <- rbind(treated_df, control_df)\n",
        "\n",
        "  ggplot(combined_df, aes(x = variable, y = count, fill = group)) +\n",
        "    geom_bar(stat = kind, position = \"dodge\", width = 0.5) +\n",
        "    labs(title = paste(\"Distribution of\", variable),\n",
        "         x = variable, y = \"Count\", fill = \"Group\") +\n",
        "    theme_minimal()\n",
        "}\n",
        "\n",
        "# Example usage\n",
        "plot_distribution('gender_female', data, treated_group, control_group)\n",
        "plot_distribution('gender_male', data, treated_group, control_group)\n",
        "plot_distribution('ethnicgrp_white', data, treated_group, control_group)"
      ],
      "metadata": {
        "id": "cFWwhyxfToYZ"
      },
      "execution_count": null,
      "outputs": []
    },
    {
      "cell_type": "code",
      "source": [
        "# Define a function to plot pie charts for ethnic group composition with labels\n",
        "plot_ethnic_group_piecharts <- function(treated, control) {\n",
        "  # Summarize ethnic group counts for treated group\n",
        "  treated_ethnic_counts <- colSums(treated[, grepl('ethnicgrp_', names(treated))])\n",
        "\n",
        "  # Summarize ethnic group counts for control group\n",
        "  control_ethnic_counts <- colSums(control[, grepl('ethnicgrp_', names(control))])\n",
        "\n",
        "  # Define labels for the ethnic groups\n",
        "  labels <- c('Asian', 'Black', 'Mixed/Multiple', 'Other', 'White')\n",
        "\n",
        "  # Pie chart for treated group\n",
        "  treated_pie <- ggplot(data.frame(labels, treated_ethnic_counts), aes(x = \"\", y = treated_ethnic_counts, fill = labels)) +\n",
        "    geom_bar(stat = \"identity\", width = 1) +\n",
        "    coord_polar(\"y\", start = 0) +\n",
        "    labs(title = \"Treated Group - Ethnic Composition\") +\n",
        "    theme_void() +\n",
        "    theme(legend.position = \"bottom\")\n",
        "\n",
        "  # Pie chart for control group\n",
        "  control_pie <- ggplot(data.frame(labels, control_ethnic_counts), aes(x = \"\", y = control_ethnic_counts, fill = labels)) +\n",
        "    geom_bar(stat = \"identity\", width = 1) +\n",
        "    coord_polar(\"y\", start = 0) +\n",
        "    labs(title = \"Control Group - Ethnic Composition\") +\n",
        "    theme_void() +\n",
        "    theme(legend.position = \"bottom\")\n",
        "\n",
        "  # Combine the pie charts\n",
        "  grid.arrange(treated_pie, control_pie, nrow = 1)\n",
        "}\n",
        "\n",
        "# Example usage\n",
        "plot_ethnic_group_piecharts(treated_group, control_group)"
      ],
      "metadata": {
        "id": "3X_OBmcLTwPL"
      },
      "execution_count": null,
      "outputs": []
    },
    {
      "cell_type": "markdown",
      "source": [
        "# Linear regression analysis"
      ],
      "metadata": {
        "id": "1iBU0tx4UYA9"
      }
    },
    {
      "cell_type": "code",
      "source": [
        "# Define the dependent variable and the treatment variable\n",
        "Y <- data$y\n",
        "T <- data$w\n",
        "\n",
        "# Model 1: Y ~ T\n",
        "model1 <- lm(Y ~ T)\n",
        "\n",
        "# Print model 1 summary\n",
        "summary(model1)"
      ],
      "metadata": {
        "id": "e1ql0MOwUTDf"
      },
      "execution_count": null,
      "outputs": []
    },
    {
      "cell_type": "code",
      "source": [
        "# Model 2: Y ~ T + X (where X are selected covariates, e.g., 'age' and 'gender_female')\n",
        "X2 <- data.frame(constant = 1, data[, c('w', 'age', 'gender_female')])\n",
        "model2 <- lm(Y ~ ., data = X2)\n",
        "\n",
        "# Print model 2 summary\n",
        "summary(model2)"
      ],
      "metadata": {
        "id": "x0MZPY9bUi9P"
      },
      "execution_count": null,
      "outputs": []
    },
    {
      "cell_type": "code",
      "source": [
        "# Prepare data for Lasso regression\n",
        "features <- subset(data, select=-c(y))\n",
        "target <- data$y\n",
        "\n",
        "# Perform Lasso regression to select important features\n",
        "lasso <- cv.glmnet(as.matrix(features), target, alpha=1, nfolds=5, type.measure=\"mse\", parallel=TRUE, standardize=TRUE)\n",
        "selected_features <- coef(lasso, s=\"lambda.min\")[-1,] != 0\n",
        "selected_features <- colnames(features)[selected_features]\n",
        "\n",
        "# Ensure that the treatment variable 'w' is included in the selected features\n",
        "if (!(\"w\" %in% selected_features)) {\n",
        "    selected_features <- c(\"w\", selected_features)\n",
        "}\n",
        "\n",
        "# Model 3: Y ~ T + selected features from Lasso\n",
        "X3 <- data[selected_features]\n",
        "X3$w <- as.factor(X3$w)  # Convert 'w' to a factor\n",
        "model3 <- lm(Y ~ ., data = X3)\n",
        "\n",
        "# Print model 3 summary\n",
        "summary(model3)"
      ],
      "metadata": {
        "id": "Jzzvl2NBU8Zy"
      },
      "execution_count": null,
      "outputs": []
    },
    {
      "cell_type": "code",
      "source": [
        "# Extract coefficients and confidence intervals for T from each model\n",
        "coeffs <- c(\n",
        "    'Model 1' = coef(model1)['T'],\n",
        "    'Model 2' = coef(model2)['T'],\n",
        "    'Model 3' = coef(model3)['T']\n",
        ")\n",
        "\n",
        "conf_intervals <- cbind(\n",
        "    'Model 1' = confint(model1)['T', ],\n",
        "    'Model 2' = confint(model2)['T', ],\n",
        "    'Model 3' = confint(model3)['T', ]\n",
        ")\n",
        "\n",
        "# Plot the coefficients with confidence intervals\n",
        "models <- names(coeffs)\n",
        "estimates <- coeffs\n",
        "ci_lower <- conf_intervals[1, ]\n",
        "ci_upper <- conf_intervals[2, ]\n",
        "\n",
        "plot_ci <- function(models, estimates, ci_lower, ci_upper) {\n",
        "  plot(x = as.numeric(factor(models)), y = estimates, ylim = range(ci_lower, ci_upper),\n",
        "       xaxt = 'n', xlab = 'Model', ylab = 'Coefficient for T',\n",
        "       main = 'Comparison of Coefficients for T with Confidence Intervals',\n",
        "       type = 'b', pch = 19, col = 'blue', xlim = c(0.5, length(models) + 0.5))\n",
        "  segments(x0 = as.numeric(factor(models)), y0 = ci_lower, y1 = ci_upper, col = 'blue')\n",
        "  abline(h = 0, col = 'grey', lty = 2)\n",
        "  axis(side = 1, at = as.numeric(factor(models)), labels = models)\n",
        "  grid()\n",
        "}\n",
        "\n",
        "plot_ci(models, estimates, ci_lower, ci_upper)"
      ],
      "metadata": {
        "id": "uDwIVIvaVGeC"
      },
      "execution_count": null,
      "outputs": []
    },
    {
      "cell_type": "markdown",
      "source": [
        "We obtained similar estimates from the three models"
      ],
      "metadata": {
        "id": "PrHYnf9fVTQ5"
      }
    },
    {
      "cell_type": "markdown",
      "source": [
        "# Non-Linear Methods DML"
      ],
      "metadata": {
        "id": "ckibPAsBVWDr"
      }
    },
    {
      "cell_type": "code",
      "source": [
        "# Define the outcome variable and the treatment variable\n",
        "Y <- data$y\n",
        "W <- data$w\n",
        "X <- subset(data, select = -c(y, w))\n",
        "\n",
        "# Set the seed for reproducibility\n",
        "set.seed(42)\n",
        "\n",
        "# Split the data into training and testing sets\n",
        "index <- createDataPartition(Y, p = 0.8, list = FALSE)\n",
        "X_train <- X[index, ]\n",
        "X_test <- X[-index, ]\n",
        "Y_train <- Y[index]\n",
        "Y_test <- Y[-index]\n",
        "T_train <- W[index]\n",
        "T_test <- W[-index]"
      ],
      "metadata": {
        "id": "5vgpghb_VOdp"
      },
      "execution_count": null,
      "outputs": []
    },
    {
      "cell_type": "code",
      "source": [
        "# Function to run DML with Lasso\n",
        "dml_lasso <- function(X_train, X_test, Y_train, Y_test, T_train, T_test) {\n",
        "  # Step 1: Learn Y and T using Lasso\n",
        "  lasso_y <- cv.glmnet(as.matrix(X_train), Y_train, alpha=1, nfolds=5, parallel=TRUE)\n",
        "  lasso_t <- cv.glmnet(as.matrix(X_train), T_train, alpha=1, nfolds=5, parallel=TRUE)\n",
        "\n",
        "  # Step 2: Get residuals\n",
        "  Y_residuals <- Y_test - predict(lasso_y, newx=as.matrix(X_test), s=\"lambda.min\")\n",
        "  T_residuals <- T_test - predict(lasso_t, newx=as.matrix(X_test), s=\"lambda.min\")\n",
        "\n",
        "  # Step 3: Run OLS on residuals\n",
        "  ols_model <- lm(Y_residuals ~ T_residuals)\n",
        "\n",
        "  return(ols_model)\n",
        "}\n",
        "\n",
        "# Run DML with Lasso\n",
        "lasso_model <- dml_lasso(X_train, X_test, Y_train, Y_test, T_train, T_test)\n",
        "summary(lasso_model)"
      ],
      "metadata": {
        "id": "CcQBBj7qV_qZ"
      },
      "execution_count": null,
      "outputs": []
    },
    {
      "cell_type": "code",
      "source": [
        "# Function to run DML with Decision Trees\n",
        "dml_tree <- function(X_train, X_test, Y_train, Y_test, T_train, T_test) {\n",
        "  # Step 1: Learn Y and T using Decision Trees\n",
        "  tree_y <- rpart(Y_train ~ ., data = X_train)\n",
        "  tree_t <- rpart(T_train ~ ., data = X_train)\n",
        "\n",
        "  # Step 2: Get residuals\n",
        "  Y_residuals <- Y_test - predict(tree_y, newdata = X_test)\n",
        "  T_residuals <- T_test - predict(tree_t, newdata = X_test)\n",
        "\n",
        "  # Step 3: Run OLS on residuals\n",
        "  ols_model <- lm(Y_residuals ~ T_residuals)\n",
        "\n",
        "  return(ols_model)\n",
        "}\n",
        "\n",
        "# Run DML with Decision Trees\n",
        "tree_model <- dml_tree(X_train, X_test, Y_train, Y_test, T_train, T_test)\n",
        "summary(tree_model)"
      ],
      "metadata": {
        "id": "zMvSEep7WIVP"
      },
      "execution_count": null,
      "outputs": []
    },
    {
      "cell_type": "code",
      "source": [
        "# Function to run DML with Boosting Trees\n",
        "dml_boosting <- function(X_train, X_test, Y_train, Y_test, T_train, T_test) {\n",
        "  # Step 1: Learn Y and T using Boosting Trees\n",
        "  boost_y <- gbm(Y_train ~ ., data = X_train, distribution = \"gaussian\", n.trees = 100, interaction.depth = 3)\n",
        "  boost_t <- gbm(T_train ~ ., data = X_train, distribution = \"gaussian\", n.trees = 100, interaction.depth = 3)\n",
        "\n",
        "  # Step 2: Get residuals\n",
        "  Y_residuals <- Y_test - predict(boost_y, newdata = X_test, n.trees = 100)\n",
        "  T_residuals <- T_test - predict(boost_t, newdata = X_test, n.trees = 100)\n",
        "\n",
        "  # Step 3: Run OLS on residuals\n",
        "  ols_model <- lm(Y_residuals ~ T_residuals)\n",
        "\n",
        "  return(ols_model)\n",
        "}\n",
        "\n",
        "# Run DML with Boosting Trees\n",
        "boosting_model <- dml_boosting(X_train, X_test, Y_train, Y_test, T_train, T_test)\n",
        "summary(boosting_model)"
      ],
      "metadata": {
        "id": "f9WK2ZGHWQHu"
      },
      "execution_count": null,
      "outputs": []
    },
    {
      "cell_type": "code",
      "source": [
        "# Function to run DML\n",
        "dml_model <- function(X_train, X_test, Y_train, Y_test, T_train, T_test, model_y, model_t) {\n",
        "  # Step 1: Learn Y and T using specified models\n",
        "  model_y <- randomForest(Y_train ~ ., data = X_train)\n",
        "  model_t <- randomForest(T_train ~ ., data = X_train)\n",
        "\n",
        "  # Step 2: Get residuals\n",
        "  Y_residuals <- Y_test - predict(model_y, X_test)\n",
        "  T_residuals <- T_test - predict(model_t, X_test)\n",
        "\n",
        "  # Step 3: Run OLS on residuals\n",
        "  ols_model <- lm(Y_residuals ~ T_residuals)\n",
        "  return(ols_model)\n",
        "}\n",
        "\n",
        "# Create and fit Random Forest models\n",
        "model_y <- randomForest(Y_train ~ ., data = X_train)\n",
        "model_t <- randomForest(T_train ~ ., data = X_train)\n",
        "\n",
        "# Call the DML function\n",
        "forest_model <- dml_model(X_train, X_test, Y_train, Y_test, T_train, T_test, model_y, model_t)\n",
        "\n",
        "summary(forest_model)"
      ],
      "metadata": {
        "id": "DAH2yjCnWXOB"
      },
      "execution_count": null,
      "outputs": []
    },
    {
      "cell_type": "code",
      "source": [
        "# Run DML for each model and store results\n",
        "results <- list()\n",
        "\n",
        "for (name in names(models)) {\n",
        "  model_y <- models[[name]][[1]]\n",
        "  model_t <- models[[name]][[2]]\n",
        "  results[[name]] <- dml_model(X_train, X_test, Y_train, Y_test, T_train, T_test, model_y, model_t)\n",
        "}\n",
        "\n",
        "# Create a table with all results\n",
        "summary_table <- data.frame(\n",
        "  Model = character(),\n",
        "  Coefficient = numeric(),\n",
        "  `Standard Error` = numeric(),\n",
        "  `t-value` = numeric(),\n",
        "  `p-value` = numeric(),\n",
        "  stringsAsFactors = FALSE\n",
        ")\n",
        "\n",
        "for (name in names(results)) {\n",
        "  result <- results[[name]]\n",
        "  coeff <- coef(result)[2]\n",
        "  std_err <- summary(result)$coef[2, 2]\n",
        "  t_value <- summary(result)$coef[2, 3]\n",
        "  p_value <- summary(result)$coef[2, 4]\n",
        "\n",
        "  summary_table <- rbind(summary_table, data.frame(\n",
        "    Model = name,\n",
        "    Coefficient = coeff,\n",
        "    `Standard Error` = std_err,\n",
        "    `t-value` = t_value,\n",
        "    `p-value` = p_value\n",
        "  ))\n",
        "}\n",
        "\n",
        "print(summary_table)\n",
        "\n",
        "# Plot the coefficient estimates as points with confidence intervals\n",
        "plot_ci(summary_table$Model, summary_table$Coefficient, summary_table$`Standard Error`)"
      ],
      "metadata": {
        "id": "IBnjQkOHWf1_"
      },
      "execution_count": null,
      "outputs": []
    },
    {
      "cell_type": "markdown",
      "source": [
        "### Recommendation: Lasso Method for DML\n",
        "\n",
        "1. **Interpretability**: Lasso produces sparse models by forcing some coefficients to be exactly zero, aiding in variable selection and model interpretability.\n",
        "\n",
        "2. **Variable Selection**: Lasso's ability to shrink coefficients to zero effectively performs variable selection, which can improve model generalization and reduce overfitting.\n",
        "\n",
        "3. **Regularization**: Lasso's regularization term helps prevent overfitting by penalizing large coefficients, leading to a more robust model, especially with correlated variables.\n",
        "\n",
        "4. **Performance**: While decision trees, boosting trees, and random forests can be powerful techniques, they might not be as suitable for DML due to complexity and overfitting risks. Lasso is simpler and more interpretable, making it advantageous for DML.\n",
        "\n",
        "In conclusion, the Lasso method offers a balance between model complexity, interpretability, and performance, making it a suitable choice for your DML procedure."
      ],
      "metadata": {
        "id": "6QjJC-yLWtl6"
      }
    }
  ]
}