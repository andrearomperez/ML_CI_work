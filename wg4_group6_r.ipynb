{
  "cells": [
    {
      "cell_type": "markdown",
      "metadata": {
        "id": "avMT_sANw1a6"
      },
      "source": [
        "# Workgroup 4"
      ]
    },
    {
      "cell_type": "markdown",
      "metadata": {
        "id": "9fyRY7lWw79t"
      },
      "source": [
        "- Francisco Arizola"
      ]
    },
    {
      "cell_type": "markdown",
      "metadata": {
        "id": "G9_KWv9KxFiW"
      },
      "source": [
        "# Bootstraping"
      ]
    },
    {
      "cell_type": "code",
      "execution_count": null,
      "metadata": {
        "id": "CDYnHqjyxAdq"
      },
      "outputs": [],
      "source": [
        "library(sandwich)\n",
        "library(lmtest)\n",
        "library(Hmisc)\n",
        "library(ggplot2)\n",
        "library(grf)\n",
        "library(boot)\n",
        "library(rpart)\n",
        "library(randomForest)\n",
        "library(nnet)\n",
        "library(gbm)\n",
        "library(rpart.plot)\n",
        "library(keras)"
      ]
    },
    {
      "cell_type": "code",
      "execution_count": null,
      "metadata": {
        "id": "b1QRB9aPvo_m"
      },
      "outputs": [],
      "source": [
        "## loading the data\n",
        "data <- as.data.frame(read.table(\"/content/penn_jae.dat\", header=T ))\n",
        "attach(data)"
      ]
    },
    {
      "cell_type": "code",
      "execution_count": null,
      "metadata": {
        "colab": {
          "base_uri": "https://localhost:8080/",
          "height": 306
        },
        "id": "RHS8J_a0xQAB",
        "outputId": "008d0592-3a56-45ab-cc02-ed2d279d6353"
      },
      "outputs": [
        {
          "data": {
            "text/html": [
              "<table class=\"dataframe\">\n",
              "<caption>A data.frame: 6 × 23</caption>\n",
              "<thead>\n",
              "\t<tr><th></th><th scope=col>abdt</th><th scope=col>tg</th><th scope=col>inuidur1</th><th scope=col>inuidur2</th><th scope=col>female</th><th scope=col>black</th><th scope=col>hispanic</th><th scope=col>othrace</th><th scope=col>dep</th><th scope=col>q1</th><th scope=col>⋯</th><th scope=col>q5</th><th scope=col>q6</th><th scope=col>recall</th><th scope=col>agelt35</th><th scope=col>agegt54</th><th scope=col>durable</th><th scope=col>nondurable</th><th scope=col>lusd</th><th scope=col>husd</th><th scope=col>muld</th></tr>\n",
              "\t<tr><th></th><th scope=col>&lt;int&gt;</th><th scope=col>&lt;int&gt;</th><th scope=col>&lt;int&gt;</th><th scope=col>&lt;int&gt;</th><th scope=col>&lt;int&gt;</th><th scope=col>&lt;int&gt;</th><th scope=col>&lt;int&gt;</th><th scope=col>&lt;int&gt;</th><th scope=col>&lt;int&gt;</th><th scope=col>&lt;int&gt;</th><th scope=col>⋯</th><th scope=col>&lt;int&gt;</th><th scope=col>&lt;int&gt;</th><th scope=col>&lt;int&gt;</th><th scope=col>&lt;int&gt;</th><th scope=col>&lt;int&gt;</th><th scope=col>&lt;int&gt;</th><th scope=col>&lt;int&gt;</th><th scope=col>&lt;int&gt;</th><th scope=col>&lt;int&gt;</th><th scope=col>&lt;int&gt;</th></tr>\n",
              "</thead>\n",
              "<tbody>\n",
              "\t<tr><th scope=row>1</th><td>10824</td><td>0</td><td>18</td><td>18</td><td>0</td><td>0</td><td>0</td><td>0</td><td>2</td><td>0</td><td>⋯</td><td>1</td><td>0</td><td>0</td><td>0</td><td>0</td><td>0</td><td>0</td><td>0</td><td>1</td><td>0</td></tr>\n",
              "\t<tr><th scope=row>2</th><td>10635</td><td>2</td><td> 7</td><td> 3</td><td>0</td><td>0</td><td>0</td><td>0</td><td>0</td><td>0</td><td>⋯</td><td>0</td><td>0</td><td>0</td><td>1</td><td>0</td><td>0</td><td>0</td><td>1</td><td>0</td><td>0</td></tr>\n",
              "\t<tr><th scope=row>3</th><td>10551</td><td>5</td><td>18</td><td> 6</td><td>1</td><td>0</td><td>0</td><td>0</td><td>0</td><td>0</td><td>⋯</td><td>0</td><td>0</td><td>1</td><td>0</td><td>1</td><td>0</td><td>0</td><td>0</td><td>0</td><td>0</td></tr>\n",
              "\t<tr><th scope=row>4</th><td>10824</td><td>0</td><td> 1</td><td> 1</td><td>0</td><td>0</td><td>0</td><td>0</td><td>0</td><td>0</td><td>⋯</td><td>1</td><td>0</td><td>0</td><td>0</td><td>0</td><td>0</td><td>0</td><td>1</td><td>0</td><td>0</td></tr>\n",
              "\t<tr><th scope=row>5</th><td>10747</td><td>0</td><td>27</td><td>27</td><td>0</td><td>0</td><td>0</td><td>0</td><td>0</td><td>0</td><td>⋯</td><td>0</td><td>0</td><td>0</td><td>0</td><td>0</td><td>0</td><td>0</td><td>1</td><td>0</td><td>0</td></tr>\n",
              "\t<tr><th scope=row>6</th><td>10544</td><td>6</td><td> 7</td><td> 7</td><td>0</td><td>0</td><td>0</td><td>0</td><td>0</td><td>0</td><td>⋯</td><td>0</td><td>0</td><td>0</td><td>0</td><td>0</td><td>0</td><td>0</td><td>0</td><td>0</td><td>1</td></tr>\n",
              "</tbody>\n",
              "</table>\n"
            ],
            "text/latex": [
              "A data.frame: 6 × 23\n",
              "\\begin{tabular}{r|lllllllllllllllllllll}\n",
              "  & abdt & tg & inuidur1 & inuidur2 & female & black & hispanic & othrace & dep & q1 & ⋯ & q5 & q6 & recall & agelt35 & agegt54 & durable & nondurable & lusd & husd & muld\\\\\n",
              "  & <int> & <int> & <int> & <int> & <int> & <int> & <int> & <int> & <int> & <int> & ⋯ & <int> & <int> & <int> & <int> & <int> & <int> & <int> & <int> & <int> & <int>\\\\\n",
              "\\hline\n",
              "\t1 & 10824 & 0 & 18 & 18 & 0 & 0 & 0 & 0 & 2 & 0 & ⋯ & 1 & 0 & 0 & 0 & 0 & 0 & 0 & 0 & 1 & 0\\\\\n",
              "\t2 & 10635 & 2 &  7 &  3 & 0 & 0 & 0 & 0 & 0 & 0 & ⋯ & 0 & 0 & 0 & 1 & 0 & 0 & 0 & 1 & 0 & 0\\\\\n",
              "\t3 & 10551 & 5 & 18 &  6 & 1 & 0 & 0 & 0 & 0 & 0 & ⋯ & 0 & 0 & 1 & 0 & 1 & 0 & 0 & 0 & 0 & 0\\\\\n",
              "\t4 & 10824 & 0 &  1 &  1 & 0 & 0 & 0 & 0 & 0 & 0 & ⋯ & 1 & 0 & 0 & 0 & 0 & 0 & 0 & 1 & 0 & 0\\\\\n",
              "\t5 & 10747 & 0 & 27 & 27 & 0 & 0 & 0 & 0 & 0 & 0 & ⋯ & 0 & 0 & 0 & 0 & 0 & 0 & 0 & 1 & 0 & 0\\\\\n",
              "\t6 & 10544 & 6 &  7 &  7 & 0 & 0 & 0 & 0 & 0 & 0 & ⋯ & 0 & 0 & 0 & 0 & 0 & 0 & 0 & 0 & 0 & 1\\\\\n",
              "\\end{tabular}\n"
            ],
            "text/markdown": [
              "\n",
              "A data.frame: 6 × 23\n",
              "\n",
              "| <!--/--> | abdt &lt;int&gt; | tg &lt;int&gt; | inuidur1 &lt;int&gt; | inuidur2 &lt;int&gt; | female &lt;int&gt; | black &lt;int&gt; | hispanic &lt;int&gt; | othrace &lt;int&gt; | dep &lt;int&gt; | q1 &lt;int&gt; | ⋯ ⋯ | q5 &lt;int&gt; | q6 &lt;int&gt; | recall &lt;int&gt; | agelt35 &lt;int&gt; | agegt54 &lt;int&gt; | durable &lt;int&gt; | nondurable &lt;int&gt; | lusd &lt;int&gt; | husd &lt;int&gt; | muld &lt;int&gt; |\n",
              "|---|---|---|---|---|---|---|---|---|---|---|---|---|---|---|---|---|---|---|---|---|---|\n",
              "| 1 | 10824 | 0 | 18 | 18 | 0 | 0 | 0 | 0 | 2 | 0 | ⋯ | 1 | 0 | 0 | 0 | 0 | 0 | 0 | 0 | 1 | 0 |\n",
              "| 2 | 10635 | 2 |  7 |  3 | 0 | 0 | 0 | 0 | 0 | 0 | ⋯ | 0 | 0 | 0 | 1 | 0 | 0 | 0 | 1 | 0 | 0 |\n",
              "| 3 | 10551 | 5 | 18 |  6 | 1 | 0 | 0 | 0 | 0 | 0 | ⋯ | 0 | 0 | 1 | 0 | 1 | 0 | 0 | 0 | 0 | 0 |\n",
              "| 4 | 10824 | 0 |  1 |  1 | 0 | 0 | 0 | 0 | 0 | 0 | ⋯ | 1 | 0 | 0 | 0 | 0 | 0 | 0 | 1 | 0 | 0 |\n",
              "| 5 | 10747 | 0 | 27 | 27 | 0 | 0 | 0 | 0 | 0 | 0 | ⋯ | 0 | 0 | 0 | 0 | 0 | 0 | 0 | 1 | 0 | 0 |\n",
              "| 6 | 10544 | 6 |  7 |  7 | 0 | 0 | 0 | 0 | 0 | 0 | ⋯ | 0 | 0 | 0 | 0 | 0 | 0 | 0 | 0 | 0 | 1 |\n",
              "\n"
            ],
            "text/plain": [
              "  abdt  tg inuidur1 inuidur2 female black hispanic othrace dep q1 ⋯ q5 q6\n",
              "1 10824 0  18       18       0      0     0        0       2   0  ⋯ 1  0 \n",
              "2 10635 2   7        3       0      0     0        0       0   0  ⋯ 0  0 \n",
              "3 10551 5  18        6       1      0     0        0       0   0  ⋯ 0  0 \n",
              "4 10824 0   1        1       0      0     0        0       0   0  ⋯ 1  0 \n",
              "5 10747 0  27       27       0      0     0        0       0   0  ⋯ 0  0 \n",
              "6 10544 6   7        7       0      0     0        0       0   0  ⋯ 0  0 \n",
              "  recall agelt35 agegt54 durable nondurable lusd husd muld\n",
              "1 0      0       0       0       0          0    1    0   \n",
              "2 0      1       0       0       0          1    0    0   \n",
              "3 1      0       1       0       0          0    0    0   \n",
              "4 0      0       0       0       0          1    0    0   \n",
              "5 0      0       0       0       0          1    0    0   \n",
              "6 0      0       0       0       0          0    0    1   "
            ]
          },
          "metadata": {},
          "output_type": "display_data"
        }
      ],
      "source": [
        "head(data)"
      ]
    },
    {
      "cell_type": "code",
      "execution_count": null,
      "metadata": {
        "colab": {
          "base_uri": "https://localhost:8080/",
          "height": 54
        },
        "id": "Ra1NLGMtxRc-",
        "outputId": "937d2b50-7a4a-4ecc-f6da-ca2a0d948b0d"
      },
      "outputs": [
        {
          "data": {
            "text/plain": [
              "   Mode   FALSE    TRUE \n",
              "logical   12168    1745 "
            ]
          },
          "metadata": {},
          "output_type": "display_data"
        }
      ],
      "source": [
        "T4<- (tg==4)\n",
        "summary(T4)"
      ]
    },
    {
      "cell_type": "code",
      "execution_count": null,
      "metadata": {
        "id": "9K2DWIJuxSFc"
      },
      "outputs": [],
      "source": [
        "boot.fn <- function(data, index)\n",
        "  coef(lm(log(inuidur1)~T4+ (female+black+othrace+factor(dep)+q2+q3+q4+q5+q6+agelt35+agegt54+durable+lusd+husd), data = data, subset = index))\n"
      ]
    },
    {
      "cell_type": "code",
      "execution_count": null,
      "metadata": {
        "colab": {
          "base_uri": "https://localhost:8080/",
          "height": 138
        },
        "id": "IRqAGMj-xX1g",
        "outputId": "bf2be362-cfbd-4f26-ec41-ddfd1ad7a3a9"
      },
      "outputs": [
        {
          "data": {
            "text/html": [
              "<style>\n",
              ".dl-inline {width: auto; margin:0; padding: 0}\n",
              ".dl-inline>dt, .dl-inline>dd {float: none; width: auto; display: inline-block}\n",
              ".dl-inline>dt::after {content: \":\\0020\"; padding-right: .5ex}\n",
              ".dl-inline>dt:not(:first-of-type) {padding-left: .5ex}\n",
              "</style><dl class=dl-inline><dt>(Intercept)</dt><dd>2.06994161550001</dd><dt>T4TRUE</dt><dd>-0.0254536940838515</dd><dt>female</dt><dd>0.105427357495845</dd><dt>black</dt><dd>-0.376030734674504</dd><dt>othrace</dt><dd>-0.292862731825453</dd><dt>factor(dep)1</dt><dd>0.0512594160516867</dd><dt>factor(dep)2</dt><dd>0.0807502424782224</dd><dt>q2</dt><dd>0.160492201775427</dd><dt>q3</dt><dd>0.0565722504343014</dd><dt>q4</dt><dd>0.0266641219422461</dd><dt>q5</dt><dd>-0.0233958814868329</dd><dt>q6</dt><dd>0.190885378628839</dd><dt>agelt35</dt><dd>-0.205122102384272</dd><dt>agegt54</dt><dd>0.228406166060079</dd><dt>durable</dt><dd>0.0488830257249352</dd><dt>lusd</dt><dd>-0.165210565630249</dd><dt>husd</dt><dd>-0.0527862468618967</dd></dl>\n"
            ],
            "text/latex": [
              "\\begin{description*}\n",
              "\\item[(Intercept)] 2.06994161550001\n",
              "\\item[T4TRUE] -0.0254536940838515\n",
              "\\item[female] 0.105427357495845\n",
              "\\item[black] -0.376030734674504\n",
              "\\item[othrace] -0.292862731825453\n",
              "\\item[factor(dep)1] 0.0512594160516867\n",
              "\\item[factor(dep)2] 0.0807502424782224\n",
              "\\item[q2] 0.160492201775427\n",
              "\\item[q3] 0.0565722504343014\n",
              "\\item[q4] 0.0266641219422461\n",
              "\\item[q5] -0.0233958814868329\n",
              "\\item[q6] 0.190885378628839\n",
              "\\item[agelt35] -0.205122102384272\n",
              "\\item[agegt54] 0.228406166060079\n",
              "\\item[durable] 0.0488830257249352\n",
              "\\item[lusd] -0.165210565630249\n",
              "\\item[husd] -0.0527862468618967\n",
              "\\end{description*}\n"
            ],
            "text/markdown": [
              "(Intercept)\n",
              ":   2.06994161550001T4TRUE\n",
              ":   -0.0254536940838515female\n",
              ":   0.105427357495845black\n",
              ":   -0.376030734674504othrace\n",
              ":   -0.292862731825453factor(dep)1\n",
              ":   0.0512594160516867factor(dep)2\n",
              ":   0.0807502424782224q2\n",
              ":   0.160492201775427q3\n",
              ":   0.0565722504343014q4\n",
              ":   0.0266641219422461q5\n",
              ":   -0.0233958814868329q6\n",
              ":   0.190885378628839agelt35\n",
              ":   -0.205122102384272agegt54\n",
              ":   0.228406166060079durable\n",
              ":   0.0488830257249352lusd\n",
              ":   -0.165210565630249husd\n",
              ":   -0.0527862468618967\n",
              "\n"
            ],
            "text/plain": [
              " (Intercept)       T4TRUE       female        black      othrace factor(dep)1 \n",
              "  2.06994162  -0.02545369   0.10542736  -0.37603073  -0.29286273   0.05125942 \n",
              "factor(dep)2           q2           q3           q4           q5           q6 \n",
              "  0.08075024   0.16049220   0.05657225   0.02666412  -0.02339588   0.19088538 \n",
              "     agelt35      agegt54      durable         lusd         husd \n",
              " -0.20512210   0.22840617   0.04888303  -0.16521057  -0.05278625 "
            ]
          },
          "metadata": {},
          "output_type": "display_data"
        }
      ],
      "source": [
        "boot.fn(data, 1:nrow(data))"
      ]
    },
    {
      "cell_type": "code",
      "execution_count": null,
      "metadata": {
        "colab": {
          "base_uri": "https://localhost:8080/",
          "height": 138
        },
        "id": "xdzPC_osxZ2V",
        "outputId": "af708fd3-4fbf-4f81-cf09-5c7bc0300cc9"
      },
      "outputs": [
        {
          "data": {
            "text/html": [
              "<style>\n",
              ".dl-inline {width: auto; margin:0; padding: 0}\n",
              ".dl-inline>dt, .dl-inline>dd {float: none; width: auto; display: inline-block}\n",
              ".dl-inline>dt::after {content: \":\\0020\"; padding-right: .5ex}\n",
              ".dl-inline>dt:not(:first-of-type) {padding-left: .5ex}\n",
              "</style><dl class=dl-inline><dt>(Intercept)</dt><dd>1.98198313309468</dd><dt>T4TRUE</dt><dd>-0.0302220636171456</dd><dt>female</dt><dd>0.0636490280995694</dd><dt>black</dt><dd>-0.402638790678475</dd><dt>othrace</dt><dd>-0.346189245551434</dd><dt>factor(dep)1</dt><dd>0.0323913718740912</dd><dt>factor(dep)2</dt><dd>0.0665757629674091</dd><dt>q2</dt><dd>0.22490654429773</dd><dt>q3</dt><dd>0.177108822718515</dd><dt>q4</dt><dd>0.161039212049751</dd><dt>q5</dt><dd>0.087062960630312</dd><dt>q6</dt><dd>0.305455739707005</dd><dt>agelt35</dt><dd>-0.183505697245418</dd><dt>agegt54</dt><dd>0.261808316187306</dd><dt>durable</dt><dd>-0.0141110953363762</dd><dt>lusd</dt><dd>-0.186078887776073</dd><dt>husd</dt><dd>-0.0121287885892384</dd></dl>\n"
            ],
            "text/latex": [
              "\\begin{description*}\n",
              "\\item[(Intercept)] 1.98198313309468\n",
              "\\item[T4TRUE] -0.0302220636171456\n",
              "\\item[female] 0.0636490280995694\n",
              "\\item[black] -0.402638790678475\n",
              "\\item[othrace] -0.346189245551434\n",
              "\\item[factor(dep)1] 0.0323913718740912\n",
              "\\item[factor(dep)2] 0.0665757629674091\n",
              "\\item[q2] 0.22490654429773\n",
              "\\item[q3] 0.177108822718515\n",
              "\\item[q4] 0.161039212049751\n",
              "\\item[q5] 0.087062960630312\n",
              "\\item[q6] 0.305455739707005\n",
              "\\item[agelt35] -0.183505697245418\n",
              "\\item[agegt54] 0.261808316187306\n",
              "\\item[durable] -0.0141110953363762\n",
              "\\item[lusd] -0.186078887776073\n",
              "\\item[husd] -0.0121287885892384\n",
              "\\end{description*}\n"
            ],
            "text/markdown": [
              "(Intercept)\n",
              ":   1.98198313309468T4TRUE\n",
              ":   -0.0302220636171456female\n",
              ":   0.0636490280995694black\n",
              ":   -0.402638790678475othrace\n",
              ":   -0.346189245551434factor(dep)1\n",
              ":   0.0323913718740912factor(dep)2\n",
              ":   0.0665757629674091q2\n",
              ":   0.22490654429773q3\n",
              ":   0.177108822718515q4\n",
              ":   0.161039212049751q5\n",
              ":   0.087062960630312q6\n",
              ":   0.305455739707005agelt35\n",
              ":   -0.183505697245418agegt54\n",
              ":   0.261808316187306durable\n",
              ":   -0.0141110953363762lusd\n",
              ":   -0.186078887776073husd\n",
              ":   -0.0121287885892384\n",
              "\n"
            ],
            "text/plain": [
              " (Intercept)       T4TRUE       female        black      othrace factor(dep)1 \n",
              "  1.98198313  -0.03022206   0.06364903  -0.40263879  -0.34618925   0.03239137 \n",
              "factor(dep)2           q2           q3           q4           q5           q6 \n",
              "  0.06657576   0.22490654   0.17710882   0.16103921   0.08706296   0.30545574 \n",
              "     agelt35      agegt54      durable         lusd         husd \n",
              " -0.18350570   0.26180832  -0.01411110  -0.18607889  -0.01212879 "
            ]
          },
          "metadata": {},
          "output_type": "display_data"
        }
      ],
      "source": [
        "set.seed(1)\n",
        "boot.fn(data, sample(1:nrow(data), nrow(data), replace = T))\n"
      ]
    },
    {
      "cell_type": "code",
      "execution_count": null,
      "metadata": {
        "colab": {
          "base_uri": "https://localhost:8080/",
          "height": 510
        },
        "id": "x3qU0MBSxbVW",
        "outputId": "6dc0115b-1511-47af-8237-86d6c20427d0"
      },
      "outputs": [
        {
          "data": {
            "text/plain": [
              "\n",
              "ORDINARY NONPARAMETRIC BOOTSTRAP\n",
              "\n",
              "\n",
              "Call:\n",
              "boot(data = data, statistic = boot.fn, R = 1000)\n",
              "\n",
              "\n",
              "Bootstrap Statistics :\n",
              "        original        bias    std. error\n",
              "t1*   2.06994162  4.605030e-03  0.09082654\n",
              "t2*  -0.02545369  7.925207e-04  0.03109526\n",
              "t3*   0.10542736 -1.779291e-04  0.02141159\n",
              "t4*  -0.37603073 -1.643899e-03  0.03645269\n",
              "t5*  -0.29286273 -1.798467e-04  0.14496430\n",
              "t6*   0.05125942  3.699729e-04  0.03237307\n",
              "t7*   0.08075024 -2.542053e-04  0.02822422\n",
              "t8*   0.16049220 -3.564571e-03  0.09018681\n",
              "t9*   0.05657225 -3.305440e-03  0.09012448\n",
              "t10*  0.02666412 -2.998147e-03  0.09045781\n",
              "t11* -0.02339588 -2.609946e-03  0.08964860\n",
              "t12*  0.19088538 -3.295323e-03  0.09324818\n",
              "t13* -0.20512210 -1.117499e-03  0.02150277\n",
              "t14*  0.22840617  3.164339e-05  0.03501137\n",
              "t15*  0.04888303 -6.461105e-04  0.02809768\n",
              "t16* -0.16521057 -3.928852e-04  0.02527114\n",
              "t17* -0.05278625 -1.285427e-03  0.02582292"
            ]
          },
          "metadata": {},
          "output_type": "display_data"
        }
      ],
      "source": [
        "reg_lineal = boot(data, boot.fn, 1000)\n",
        "reg_lineal"
      ]
    },
    {
      "cell_type": "code",
      "execution_count": null,
      "metadata": {
        "colab": {
          "base_uri": "https://localhost:8080/",
          "height": 161
        },
        "id": "m1u35JQ6xqCO",
        "outputId": "1428c0b9-f5c8-482c-90a5-ce1167b7cc3c"
      },
      "outputs": [
        {
          "data": {
            "text/html": [
              "<table class=\"dataframe\">\n",
              "<caption>A matrix: 3 × 4 of type dbl</caption>\n",
              "<thead>\n",
              "\t<tr><th></th><th scope=col>Estimate</th><th scope=col>Std. Error</th><th scope=col>t value</th><th scope=col>Pr(&gt;|t|)</th></tr>\n",
              "</thead>\n",
              "<tbody>\n",
              "\t<tr><th scope=row>T4TRUE</th><td>-0.02545369</td><td>0.03075427</td><td> -0.8276474</td><td>4.078844e-01</td></tr>\n",
              "\t<tr><th scope=row>female</th><td> 0.10542736</td><td>0.02115637</td><td>  4.9832432</td><td>6.327962e-07</td></tr>\n",
              "\t<tr><th scope=row>black</th><td>-0.37603073</td><td>0.03269637</td><td>-11.5006883</td><td>1.797663e-30</td></tr>\n",
              "</tbody>\n",
              "</table>\n"
            ],
            "text/latex": [
              "A matrix: 3 × 4 of type dbl\n",
              "\\begin{tabular}{r|llll}\n",
              "  & Estimate & Std. Error & t value & Pr(>\\textbar{}t\\textbar{})\\\\\n",
              "\\hline\n",
              "\tT4TRUE & -0.02545369 & 0.03075427 &  -0.8276474 & 4.078844e-01\\\\\n",
              "\tfemale &  0.10542736 & 0.02115637 &   4.9832432 & 6.327962e-07\\\\\n",
              "\tblack & -0.37603073 & 0.03269637 & -11.5006883 & 1.797663e-30\\\\\n",
              "\\end{tabular}\n"
            ],
            "text/markdown": [
              "\n",
              "A matrix: 3 × 4 of type dbl\n",
              "\n",
              "| <!--/--> | Estimate | Std. Error | t value | Pr(&gt;|t|) |\n",
              "|---|---|---|---|---|\n",
              "| T4TRUE | -0.02545369 | 0.03075427 |  -0.8276474 | 4.078844e-01 |\n",
              "| female |  0.10542736 | 0.02115637 |   4.9832432 | 6.327962e-07 |\n",
              "| black | -0.37603073 | 0.03269637 | -11.5006883 | 1.797663e-30 |\n",
              "\n"
            ],
            "text/plain": [
              "       Estimate    Std. Error t value     Pr(>|t|)    \n",
              "T4TRUE -0.02545369 0.03075427  -0.8276474 4.078844e-01\n",
              "female  0.10542736 0.02115637   4.9832432 6.327962e-07\n",
              "black  -0.37603073 0.03269637 -11.5006883 1.797663e-30"
            ]
          },
          "metadata": {},
          "output_type": "display_data"
        }
      ],
      "source": [
        "summary(lm(log(inuidur1)~T4+ (female+black+othrace+factor(dep)+q2+q3+q4+q5+q6+agelt35+agegt54+durable+lusd+husd), data = data))$coef[2:4,]\n"
      ]
    },
    {
      "cell_type": "code",
      "execution_count": null,
      "metadata": {
        "colab": {
          "base_uri": "https://localhost:8080/",
          "height": 510
        },
        "id": "qZ1cT7li2Crd",
        "outputId": "07eecaea-aac7-417b-a36f-e0338f1e2bcd"
      },
      "outputs": [
        {
          "data": {
            "text/plain": [
              "\n",
              "ORDINARY NONPARAMETRIC BOOTSTRAP\n",
              "\n",
              "\n",
              "Call:\n",
              "boot(data = data, statistic = boot.fn, R = 1000)\n",
              "\n",
              "\n",
              "Bootstrap Statistics :\n",
              "        original        bias    std. error\n",
              "t1*   2.06994162  4.605030e-03  0.09082654\n",
              "t2*  -0.02545369  7.925207e-04  0.03109526\n",
              "t3*   0.10542736 -1.779291e-04  0.02141159\n",
              "t4*  -0.37603073 -1.643899e-03  0.03645269\n",
              "t5*  -0.29286273 -1.798467e-04  0.14496430\n",
              "t6*   0.05125942  3.699729e-04  0.03237307\n",
              "t7*   0.08075024 -2.542053e-04  0.02822422\n",
              "t8*   0.16049220 -3.564571e-03  0.09018681\n",
              "t9*   0.05657225 -3.305440e-03  0.09012448\n",
              "t10*  0.02666412 -2.998147e-03  0.09045781\n",
              "t11* -0.02339588 -2.609946e-03  0.08964860\n",
              "t12*  0.19088538 -3.295323e-03  0.09324818\n",
              "t13* -0.20512210 -1.117499e-03  0.02150277\n",
              "t14*  0.22840617  3.164339e-05  0.03501137\n",
              "t15*  0.04888303 -6.461105e-04  0.02809768\n",
              "t16* -0.16521057 -3.928852e-04  0.02527114\n",
              "t17* -0.05278625 -1.285427e-03  0.02582292"
            ]
          },
          "metadata": {},
          "output_type": "display_data"
        }
      ],
      "source": [
        "reg_lineal"
      ]
    },
    {
      "cell_type": "markdown",
      "metadata": {
        "id": "qui0yPXuR8En"
      },
      "source": []
    },
    {
      "cell_type": "markdown",
      "metadata": {
        "id": "-3ItCVqrhB2M"
      },
      "source": [
        "# Causal Forest"
      ]
    },
    {
      "cell_type": "markdown",
      "metadata": {
        "id": "Z2_spBRWoO6O"
      },
      "source": [
        "In their paper \"Estimating Treatment Effects with Causal Forests: An Application,\" Susan Athey and Stefan Wager investigate the use of causal forests, a machine learning method, for determining the effects of interventions. They utilize data from the National Study of Learning Mindsets to examine the impact of a program designed to foster a growth mindset on students' academic outcomes. The authors tackle issues such as confounding variables and clustered data to guarantee precise findings."
      ]
    },
    {
      "cell_type": "code",
      "execution_count": null,
      "metadata": {
        "id": "vROYAuYBVjn5"
      },
      "outputs": [],
      "source": [
        "set.seed(1)"
      ]
    },
    {
      "cell_type": "code",
      "execution_count": null,
      "metadata": {
        "id": "PnHA3yubR2Mf"
      },
      "outputs": [],
      "source": [
        "data.all = read.csv(\"synthetic_data.csv\")\n",
        "data.all$schoolid = factor(data.all$schoolid)\n",
        "\n",
        "DF = data.all[,-1]\n",
        "school.id = as.numeric(data.all$schoolid)\n",
        "\n",
        "school.mat = model.matrix(~ schoolid + 0, data = data.all)\n",
        "school.size = colSums(school.mat)"
      ]
    },
    {
      "cell_type": "markdown",
      "metadata": {
        "id": "YrKnsbo4U2Jq"
      },
      "source": [
        "It appears that school ID does not affect pscore.\n"
      ]
    },
    {
      "cell_type": "code",
      "execution_count": null,
      "metadata": {
        "colab": {
          "base_uri": "https://localhost:8080/",
          "height": 1000
        },
        "id": "XClVbTMSR2J_",
        "outputId": "a6edcf26-413d-4a17-bd71-3757bf19227e"
      },
      "outputs": [
        {
          "data": {
            "text/plain": [
              "\n",
              "Call:\n",
              "glm(formula = Z ~ ., family = binomial, data = data.all[, -3])\n",
              "\n",
              "Coefficients: (6 not defined because of singularities)\n",
              "              Estimate Std. Error z value Pr(>|z|)    \n",
              "(Intercept) -0.9524636  0.2845173  -3.348 0.000815 ***\n",
              "schoolid2    0.0697302  0.2766287   0.252 0.800986    \n",
              "schoolid3    0.0382080  0.2911323   0.131 0.895586    \n",
              "schoolid4    0.1761334  0.2784711   0.633 0.527059    \n",
              "schoolid5   -0.0033389  0.2950180  -0.011 0.990970    \n",
              "schoolid6    0.0583548  0.3067481   0.190 0.849124    \n",
              "schoolid7   -0.1313759  0.3188190  -0.412 0.680288    \n",
              "schoolid8    0.1233661  0.3023736   0.408 0.683279    \n",
              "schoolid9   -0.1955428  0.3073344  -0.636 0.524611    \n",
              "schoolid10  -0.1892794  0.2968750  -0.638 0.523752    \n",
              "schoolid11  -0.2224060  0.5461005  -0.407 0.683816    \n",
              "schoolid12  -0.3312420  0.5414374  -0.612 0.540682    \n",
              "schoolid13  -0.0408540  0.3989507  -0.102 0.918436    \n",
              "schoolid14  -0.8681934  0.6033674  -1.439 0.150175    \n",
              "schoolid15  -0.1059135  0.3263162  -0.325 0.745504    \n",
              "schoolid16  -0.1063268  0.2885387  -0.369 0.712500    \n",
              "schoolid17   0.0854323  0.3119435   0.274 0.784184    \n",
              "schoolid18  -0.1924441  0.2997822  -0.642 0.520908    \n",
              "schoolid19  -0.0265326  0.3229712  -0.082 0.934526    \n",
              "schoolid20  -0.2179554  0.3041336  -0.717 0.473594    \n",
              "schoolid21  -0.2147440  0.2982822  -0.720 0.471565    \n",
              "schoolid22  -0.5115966  0.4410779  -1.160 0.246098    \n",
              "schoolid23   0.0039231  0.3475373   0.011 0.990994    \n",
              "schoolid24  -0.0848314  0.3259572  -0.260 0.794668    \n",
              "schoolid25   0.0521087  0.2754586   0.189 0.849959    \n",
              "schoolid26   0.0241212  0.2876511   0.084 0.933171    \n",
              "schoolid27  -0.2300630  0.3104796  -0.741 0.458698    \n",
              "schoolid28  -0.3519010  0.2924774  -1.203 0.228909    \n",
              "schoolid29  -0.2198764  0.3293288  -0.668 0.504357    \n",
              "schoolid30  -0.3146292  0.3257994  -0.966 0.334187    \n",
              "schoolid31   0.1398555  0.6137901   0.228 0.819759    \n",
              "schoolid32   0.1555524  0.3916156   0.397 0.691215    \n",
              "schoolid33  -0.0991693  0.3939370  -0.252 0.801243    \n",
              "schoolid34  -0.0073688  0.2980808  -0.025 0.980278    \n",
              "schoolid35  -0.3528987  0.3997273  -0.883 0.377318    \n",
              "schoolid36  -0.3751465  0.3988972  -0.940 0.346982    \n",
              "schoolid37  -0.0343169  0.3219646  -0.107 0.915117    \n",
              "schoolid38  -0.1346432  0.3851869  -0.350 0.726674    \n",
              "schoolid39  -0.4339936  0.3612869  -1.201 0.229657    \n",
              "schoolid40  -0.3993958  0.3834495  -1.042 0.297604    \n",
              "schoolid41  -0.1490784  0.3542105  -0.421 0.673846    \n",
              "schoolid42  -0.1545715  0.3551857  -0.435 0.663428    \n",
              "schoolid43  -0.5679567  0.4277455  -1.328 0.184247    \n",
              "schoolid44  -0.1425896  0.3774795  -0.378 0.705623    \n",
              "schoolid45  -0.1337888  0.3232493  -0.414 0.678957    \n",
              "schoolid46  -0.2573249  0.3129119  -0.822 0.410874    \n",
              "schoolid47   0.0027726  0.2770108   0.010 0.992014    \n",
              "schoolid48  -0.3406079  0.3470361  -0.981 0.326358    \n",
              "schoolid49  -0.3236117  0.3434541  -0.942 0.346077    \n",
              "schoolid50  -0.1185119  0.4086074  -0.290 0.771787    \n",
              "schoolid51   0.4087898  0.4506822   0.907 0.364382    \n",
              "schoolid52  -0.3144014  0.4118342  -0.763 0.445214    \n",
              "schoolid53  -0.2733677  0.4511280  -0.606 0.544538    \n",
              "schoolid54  -0.0889588  0.3872532  -0.230 0.818311    \n",
              "schoolid55  -0.1558106  0.4155020  -0.375 0.707665    \n",
              "schoolid56   0.1050353  0.3149235   0.334 0.738737    \n",
              "schoolid57  -0.0314901  0.2901719  -0.109 0.913581    \n",
              "schoolid58  -0.0383183  0.2730077  -0.140 0.888379    \n",
              "schoolid59  -0.0529637  0.2934895  -0.180 0.856790    \n",
              "schoolid60  -0.1624792  0.3972885  -0.409 0.682561    \n",
              "schoolid61  -0.0289549  0.3201953  -0.090 0.927946    \n",
              "schoolid62   0.0993158  0.2669678   0.372 0.709882    \n",
              "schoolid63   0.1684702  0.3282167   0.513 0.607749    \n",
              "schoolid64  -0.0693060  0.2770896  -0.250 0.802493    \n",
              "schoolid65  -0.0004197  0.4072922  -0.001 0.999178    \n",
              "schoolid66  -0.2130911  0.2984091  -0.714 0.475171    \n",
              "schoolid67   0.0358440  0.2921158   0.123 0.902341    \n",
              "schoolid68  -0.0871303  0.3290814  -0.265 0.791188    \n",
              "schoolid69  -0.2550387  0.2908992  -0.877 0.380636    \n",
              "schoolid70  -0.0268947  0.4032160  -0.067 0.946820    \n",
              "schoolid71   0.0037464  0.4268290   0.009 0.992997    \n",
              "schoolid72  -0.1304085  0.2881512  -0.453 0.650859    \n",
              "schoolid73  -0.2160697  0.2840030  -0.761 0.446776    \n",
              "schoolid74  -0.0935320  0.2842612  -0.329 0.742129    \n",
              "schoolid75  -0.1056241  0.3024204  -0.349 0.726892    \n",
              "schoolid76  -0.1052261  0.2939262  -0.358 0.720342    \n",
              "S3           0.1036077  0.0197345   5.250 1.52e-07 ***\n",
              "C1          -0.0015919  0.0053900  -0.295 0.767728    \n",
              "C2          -0.1038596  0.0424020  -2.449 0.014309 *  \n",
              "C3          -0.1319218  0.0461833  -2.856 0.004284 ** \n",
              "XC                  NA         NA      NA       NA    \n",
              "X1                  NA         NA      NA       NA    \n",
              "X2                  NA         NA      NA       NA    \n",
              "X3                  NA         NA      NA       NA    \n",
              "X4                  NA         NA      NA       NA    \n",
              "X5                  NA         NA      NA       NA    \n",
              "---\n",
              "Signif. codes:  0 ‘***’ 0.001 ‘**’ 0.01 ‘*’ 0.05 ‘.’ 0.1 ‘ ’ 1\n",
              "\n",
              "(Dispersion parameter for binomial family taken to be 1)\n",
              "\n",
              "    Null deviance: 13115  on 10390  degrees of freedom\n",
              "Residual deviance: 13009  on 10311  degrees of freedom\n",
              "AIC: 13169\n",
              "\n",
              "Number of Fisher Scoring iterations: 4\n"
            ]
          },
          "metadata": {},
          "output_type": "display_data"
        }
      ],
      "source": [
        "w.lm = glm(Z ~ ., data = data.all[,-3], family = binomial)\n",
        "summary(w.lm)\n"
      ]
    },
    {
      "cell_type": "code",
      "execution_count": null,
      "metadata": {
        "id": "j2Ucs-rSR2HR"
      },
      "outputs": [],
      "source": [
        "W = DF$Z\n",
        "Y = DF$Y\n",
        "X.raw = DF[,-(1:2)]"
      ]
    },
    {
      "cell_type": "code",
      "execution_count": null,
      "metadata": {
        "id": "jl5u_RZOR1_E"
      },
      "outputs": [],
      "source": [
        "C1.exp = model.matrix(~ factor(X.raw$C1) + 0)\n",
        "XC.exp = model.matrix(~ factor(X.raw$XC) + 0)"
      ]
    },
    {
      "cell_type": "code",
      "execution_count": null,
      "metadata": {
        "id": "q2aFU8HOR11y"
      },
      "outputs": [],
      "source": [
        "X = cbind(X.raw[,-which(names(X.raw) %in% c(\"C1\", \"XC\"))], C1.exp, XC.exp)"
      ]
    },
    {
      "cell_type": "markdown",
      "metadata": {
        "id": "wYqYIg4tVM5u"
      },
      "source": [
        "## Grow a forest. Add extra trees for the causal forest."
      ]
    },
    {
      "cell_type": "code",
      "execution_count": null,
      "metadata": {
        "id": "ZIQFOGYLR1q3"
      },
      "outputs": [],
      "source": [
        "Y.forest = regression_forest(X, Y, clusters = school.id, equalize.cluster.weights = TRUE)\n",
        "Y.hat = predict(Y.forest)$predictions\n",
        "W.forest = regression_forest(X, W, clusters = school.id, equalize.cluster.weights = TRUE)\n",
        "W.hat = predict(W.forest)$predictions"
      ]
    },
    {
      "cell_type": "code",
      "execution_count": null,
      "metadata": {
        "id": "UBoKb5toR1Jc"
      },
      "outputs": [],
      "source": [
        "cf.raw = causal_forest(X, Y, W,\n",
        "                       Y.hat = Y.hat, W.hat = W.hat,\n",
        "                       clusters = school.id,\n",
        "                       equalize.cluster.weights = TRUE)\n",
        "varimp = variable_importance(cf.raw)\n",
        "selected.idx = which(varimp > mean(varimp))"
      ]
    },
    {
      "cell_type": "code",
      "execution_count": null,
      "metadata": {
        "id": "Msjaaay9V2xI"
      },
      "outputs": [],
      "source": [
        "cf = causal_forest(X[,selected.idx], Y, W,\n",
        "                   Y.hat = Y.hat, W.hat = W.hat,\n",
        "                   clusters = school.id,\n",
        "                   equalize.cluster.weights = TRUE,\n",
        "                   tune.parameters = \"all\")\n",
        "tau.hat = predict(cf)$predictions\n"
      ]
    },
    {
      "cell_type": "markdown",
      "metadata": {
        "id": "9zpcHeRXoO6Q"
      },
      "source": [
        "### 1. How the tree was built?\n",
        "For the construction of the tree two separate regression forests are developed: one to predict the outcome and the other to predict the treatment assignment. These predictions then inform the creation of a causal forest, which estimates the treatment effect while taking into account school-level clustering."
      ]
    },
    {
      "cell_type": "markdown",
      "metadata": {
        "id": "Oz7OJQv4V7N-"
      },
      "source": [
        "## 2. Estimate ATE"
      ]
    },
    {
      "cell_type": "code",
      "execution_count": null,
      "metadata": {
        "colab": {
          "base_uri": "https://localhost:8080/",
          "height": 34
        },
        "id": "GW2xelmYV61l",
        "outputId": "9cf5bd88-f02f-42cb-f34e-6ef2c26fa9b3"
      },
      "outputs": [
        {
          "data": {
            "text/html": [
              "'95% CI for the ATE: 0.248 +/- 0.04'"
            ],
            "text/latex": [
              "'95\\% CI for the ATE: 0.248 +/- 0.04'"
            ],
            "text/markdown": [
              "'95% CI for the ATE: 0.248 +/- 0.04'"
            ],
            "text/plain": [
              "[1] \"95% CI for the ATE: 0.248 +/- 0.04\""
            ]
          },
          "metadata": {},
          "output_type": "display_data"
        }
      ],
      "source": [
        "ATE = average_treatment_effect(cf)\n",
        "paste(\"95% CI for the ATE:\", round(ATE[1], 3),\n",
        "      \"+/-\", round(qnorm(0.975) * ATE[2], 3))\n"
      ]
    },
    {
      "cell_type": "markdown",
      "source": [
        "The Average Treatment Effect (ATE) quantifies the overall impact of mindset training on students' academic scores. It is calculated by aggregating individual treatment effect estimates derived from the causal forest. This metric offers a summary of the average change in academic performance due to the mindset training."
      ],
      "metadata": {
        "id": "c4u86Hj2pjqr"
      }
    },
    {
      "cell_type": "markdown",
      "metadata": {
        "id": "2cdcPXACWDKL"
      },
      "source": [
        "# Omnibus tests for heterogeneity"
      ]
    },
    {
      "cell_type": "markdown",
      "metadata": {
        "id": "JhTbDYWloO6Q"
      },
      "source": [
        "#### 3. Run best linear predictor analysis"
      ]
    },
    {
      "cell_type": "code",
      "execution_count": null,
      "metadata": {
        "colab": {
          "base_uri": "https://localhost:8080/",
          "height": 208
        },
        "id": "pMrgerEkV_V6",
        "outputId": "d27694b1-8cc6-4f6b-f0c7-b46da6c1d483"
      },
      "outputs": [
        {
          "data": {
            "text/plain": [
              "\n",
              "Best linear fit using forest predictions (on held-out data)\n",
              "as well as the mean forest prediction as regressors, along\n",
              "with one-sided heteroskedasticity-robust (HC3) SEs:\n",
              "\n",
              "                               Estimate Std. Error t value Pr(>t)    \n",
              "mean.forest.prediction         1.002872   0.083231 12.0493 <2e-16 ***\n",
              "differential.forest.prediction 0.295629   0.642212  0.4603 0.3226    \n",
              "---\n",
              "Signif. codes:  0 ‘***’ 0.001 ‘**’ 0.01 ‘*’ 0.05 ‘.’ 0.1 ‘ ’ 1\n"
            ]
          },
          "metadata": {},
          "output_type": "display_data"
        },
        {
          "data": {
            "text/html": [
              "'95% CI for difference in ATE: 0.053 +/- 0.076'"
            ],
            "text/latex": [
              "'95\\% CI for difference in ATE: 0.053 +/- 0.076'"
            ],
            "text/markdown": [
              "'95% CI for difference in ATE: 0.053 +/- 0.076'"
            ],
            "text/plain": [
              "[1] \"95% CI for difference in ATE: 0.053 +/- 0.076\""
            ]
          },
          "metadata": {},
          "output_type": "display_data"
        }
      ],
      "source": [
        "test_calibration(cf)\n",
        "\n",
        "# Compare regions with high and low estimated CATEs\n",
        "high_effect = tau.hat > median(tau.hat)\n",
        "ate.high = average_treatment_effect(cf, subset = high_effect)\n",
        "ate.low = average_treatment_effect(cf, subset = !high_effect)\n",
        "paste(\"95% CI for difference in ATE:\",\n",
        "      round(ate.high[1] - ate.low[1], 3), \"+/-\",\n",
        "      round(qnorm(0.975) * sqrt(ate.high[2]^2 + ate.low[2]^2), 3))"
      ]
    },
    {
      "cell_type": "markdown",
      "source": [
        "To examine how student covariates relate to estimated treatment effects, a best linear predictor analysis was undertaken. This involved using a linear regression model, with the predicted treatment effects as the outcome variable and student characteristics as predictors. Through this approach, the analysis determines which student attributes are most strongly connected to the success of the mindset training."
      ],
      "metadata": {
        "id": "TR0ow9xnpuTd"
      }
    },
    {
      "cell_type": "markdown",
      "metadata": {
        "id": "0Tsdn6vvgMg5"
      },
      "source": [
        "### Formal test for X1 and X2\n"
      ]
    },
    {
      "cell_type": "code",
      "execution_count": null,
      "metadata": {
        "colab": {
          "base_uri": "https://localhost:8080/",
          "height": 399
        },
        "id": "PI-M65TdWd9i",
        "outputId": "e6288245-44fe-4715-9227-5762219279d6"
      },
      "outputs": [
        {
          "data": {
            "text/plain": [
              "\n",
              "\tWelch Two Sample t-test\n",
              "\n",
              "data:  school.score[high.X1] and school.score[!high.X1]\n",
              "t = -3.0122, df = 72.046, p-value = 0.003577\n",
              "alternative hypothesis: true difference in means is not equal to 0\n",
              "95 percent confidence interval:\n",
              " -0.1931113 -0.0393012\n",
              "sample estimates:\n",
              "mean of x mean of y \n",
              "0.1897647 0.3059710 \n"
            ]
          },
          "metadata": {},
          "output_type": "display_data"
        },
        {
          "data": {
            "text/plain": [
              "\n",
              "\tWelch Two Sample t-test\n",
              "\n",
              "data:  school.score[high.X2] and school.score[!high.X2]\n",
              "t = 0.98098, df = 72.274, p-value = 0.3299\n",
              "alternative hypothesis: true difference in means is not equal to 0\n",
              "95 percent confidence interval:\n",
              " -0.04111438  0.12079436\n",
              "sample estimates:\n",
              "mean of x mean of y \n",
              "0.2677878 0.2279479 \n"
            ]
          },
          "metadata": {},
          "output_type": "display_data"
        }
      ],
      "source": [
        "dr.score = tau.hat + W / cf$W.hat *\n",
        "  (Y - cf$Y.hat - (1 - cf$W.hat) * tau.hat) -\n",
        "  (1 - W) / (1 - cf$W.hat) * (Y - cf$Y.hat + cf$W.hat * tau.hat)\n",
        "school.score = t(school.mat) %*% dr.score / school.size\n",
        "\n",
        "school.X1 = t(school.mat) %*% X$X1 / school.size\n",
        "high.X1 = school.X1 > median(school.X1)\n",
        "t.test(school.score[high.X1], school.score[!high.X1])\n",
        "\n",
        "school.X2 = (t(school.mat) %*% X$X2) / school.size\n",
        "high.X2 = school.X2 > median(school.X2)\n",
        "t.test(school.score[high.X2], school.score[!high.X2])\n"
      ]
    },
    {
      "cell_type": "code",
      "execution_count": null,
      "metadata": {
        "colab": {
          "base_uri": "https://localhost:8080/",
          "height": 69
        },
        "id": "0rn44zXSXChr",
        "outputId": "dff7c1ca-cc32-48cc-f15e-b8ac3f45a610"
      },
      "outputs": [
        {
          "data": {
            "text/plain": [
              "                 Df Sum Sq Mean Sq F value Pr(>F)\n",
              "school.X2.levels  2 0.0829 0.04143   1.334   0.27\n",
              "Residuals        73 2.2663 0.03105               "
            ]
          },
          "metadata": {},
          "output_type": "display_data"
        }
      ],
      "source": [
        "school.X2.levels = cut(school.X2,\n",
        "  breaks = c(-Inf, quantile(school.X2, c(1/3, 2/3)), Inf))\n",
        "summary(aov(school.score ~ school.X2.levels))\n"
      ]
    },
    {
      "cell_type": "markdown",
      "metadata": {
        "id": "Kcojyw5sXI-x"
      },
      "source": [
        "### Formal test for S3\n",
        "\n"
      ]
    },
    {
      "cell_type": "code",
      "execution_count": null,
      "metadata": {
        "colab": {
          "base_uri": "https://localhost:8080/",
          "height": 628
        },
        "id": "IdoXsAKyXHE7",
        "outputId": "1aa10927-2d9c-40b6-884e-ca58ec15a5bb"
      },
      "outputs": [
        {
          "data": {
            "text/plain": [
              "\n",
              "\tOne Sample t-test\n",
              "\n",
              "data:  school.score.XS3.high - school.score.XS3.low\n",
              "t = 2.1853, df = 75, p-value = 0.03199\n",
              "alternative hypothesis: true mean is not equal to 0\n",
              "95 percent confidence interval:\n",
              " 0.007283702 0.157489740\n",
              "sample estimates:\n",
              " mean of x \n",
              "0.08238672 \n"
            ]
          },
          "metadata": {},
          "output_type": "display_data"
        },
        {
          "data": {
            "image/png": "[encoded data removed]",
            "text/plain": [
              "plot without title"
            ]
          },
          "metadata": {
            "image/png": {
              "height": 420,
              "width": 420
            }
          },
          "output_type": "display_data"
        }
      ],
      "source": [
        "school.score.XS3.high = t(school.mat) %*% (dr.score * (X$S3 >= 6)) /\n",
        "  t(school.mat) %*% (X$S3 >= 6)\n",
        "school.score.XS3.low = t(school.mat) %*% (dr.score * (X$S3 < 6)) /\n",
        "  t(school.mat) %*% (X$S3 < 6)\n",
        "\n",
        "plot(school.score.XS3.low, school.score.XS3.high)\n",
        "t.test(school.score.XS3.high - school.score.XS3.low)"
      ]
    },
    {
      "cell_type": "markdown",
      "metadata": {
        "id": "9mPbQXAMXV4U"
      },
      "source": [
        "## 4. Look at school-wise heterogeneity"
      ]
    },
    {
      "cell_type": "code",
      "execution_count": null,
      "metadata": {
        "colab": {
          "base_uri": "https://localhost:8080/",
          "height": 34
        },
        "id": "NeDmPgzPXRVo",
        "outputId": "0908c931-6669-4895-c0e4-4d18f3a01d88"
      },
      "outputs": [
        {
          "data": {
            "text/html": [
              "<strong>png:</strong> 2"
            ],
            "text/latex": [
              "\\textbf{png:} 2"
            ],
            "text/markdown": [
              "**png:** 2"
            ],
            "text/plain": [
              "png \n",
              "  2 "
            ]
          },
          "metadata": {},
          "output_type": "display_data"
        }
      ],
      "source": [
        "pdf(\"school_hist.pdf\")\n",
        "pardef = par(mar = c(5, 4, 4, 2) + 0.5, cex.lab=1.5, cex.axis=1.5, cex.main=1.5, cex.sub=1.5)\n",
        "hist(school.score, xlab = \"School Treatment Effect Estimate\", main = \"\")\n",
        "dev.off()"
      ]
    },
    {
      "cell_type": "markdown",
      "source": [
        "This analysis investigated the varying impact of mindset training on academic scores across different schools by employing a causal forest with school-specific clusters. This method emphasizes the differences in the effectiveness of mindset training, pinpointing which schools benefit the most or the least from the intervention."
      ],
      "metadata": {
        "id": "dN_RNns4p8DM"
      }
    },
    {
      "cell_type": "markdown",
      "metadata": {
        "id": "JMHPuHPWgUKY"
      },
      "source": [
        "## Re-check ATE... sanity check only"
      ]
    },
    {
      "cell_type": "code",
      "execution_count": null,
      "metadata": {
        "colab": {
          "base_uri": "https://localhost:8080/"
        },
        "id": "ZXLwxvsOXuJH",
        "outputId": "7dbca4ca-5bf0-4173-a505-fa6f6e46e5d3"
      },
      "outputs": [
        {
          "name": "stdout",
          "output_type": "stream",
          "text": [
            "[1] \"0.248 +/- 0.04\"\n"
          ]
        }
      ],
      "source": [
        "ate.hat = mean(school.score)\n",
        "se.hat = sqrt(var(school.score) / length(school.score - 1))\n",
        "print(paste(round(ate.hat, 3), \"+/-\", round(1.96 * se.hat, 3)))\n"
      ]
    },
    {
      "cell_type": "markdown",
      "metadata": {
        "id": "Ru0bIzqygZsX"
      },
      "source": [
        "## Look at variation in propensity scores"
      ]
    },
    {
      "cell_type": "code",
      "execution_count": null,
      "metadata": {
        "colab": {
          "base_uri": "https://localhost:8080/",
          "height": 34
        },
        "id": "WOuTaFJmX0lo",
        "outputId": "c3716fc5-a12a-4842-d5d0-015a5a1ad780"
      },
      "outputs": [
        {
          "data": {
            "text/html": [
              "<strong>png:</strong> 2"
            ],
            "text/latex": [
              "\\textbf{png:} 2"
            ],
            "text/markdown": [
              "**png:** 2"
            ],
            "text/plain": [
              "png \n",
              "  2 "
            ]
          },
          "metadata": {},
          "output_type": "display_data"
        }
      ],
      "source": [
        "DF = X\n",
        "DF$W.hat = cf$W.hat\n",
        "\n",
        "pdf(\"pscore.pdf\")\n",
        "pardef = par(mar = c(5, 4, 4, 2) + 0.5, cex.lab=1.5, cex.axis=1.5, cex.main=1.5, cex.sub=1.5)\n",
        "boxplot(W.hat ~ S3, data = DF, ylab = \"Propensity Score\", xlab = \"Student Expectation of Success\")\n",
        "lines(smooth.spline(X$S3, cf$W.hat), lwd = 2, col = 4)\n",
        "dev.off()\n"
      ]
    },
    {
      "cell_type": "markdown",
      "metadata": {
        "id": "9qhhBjTMX_nX"
      },
      "source": [
        "## 5. Analysis ignoring clusters"
      ]
    },
    {
      "cell_type": "code",
      "execution_count": null,
      "metadata": {
        "colab": {
          "base_uri": "https://localhost:8080/",
          "height": 992
        },
        "id": "RtxuT9vfX9qd",
        "outputId": "c2c16cbe-cb7f-4809-9461-7e57a34cc472"
      },
      "outputs": [
        {
          "data": {
            "text/html": [
              "'95% CI for the ATE: 0.253 +/- 0.022'"
            ],
            "text/latex": [
              "'95\\% CI for the ATE: 0.253 +/- 0.022'"
            ],
            "text/markdown": [
              "'95% CI for the ATE: 0.253 +/- 0.022'"
            ],
            "text/plain": [
              "[1] \"95% CI for the ATE: 0.253 +/- 0.022\""
            ]
          },
          "metadata": {},
          "output_type": "display_data"
        },
        {
          "data": {
            "text/plain": [
              "\n",
              "Best linear fit using forest predictions (on held-out data)\n",
              "as well as the mean forest prediction as regressors, along\n",
              "with one-sided heteroskedasticity-robust (HC3) SEs:\n",
              "\n",
              "                               Estimate Std. Error t value    Pr(>t)    \n",
              "mean.forest.prediction         1.010859   0.045042 22.4427 < 2.2e-16 ***\n",
              "differential.forest.prediction 0.512286   0.122889  4.1687 1.544e-05 ***\n",
              "---\n",
              "Signif. codes:  0 ‘***’ 0.001 ‘**’ 0.01 ‘*’ 0.05 ‘.’ 0.1 ‘ ’ 1\n"
            ]
          },
          "metadata": {},
          "output_type": "display_data"
        },
        {
          "name": "stdout",
          "output_type": "stream",
          "text": [
            "[1] 1\n",
            "[1] 2\n",
            "[1] 3\n",
            "[1] 4\n",
            "[1] 5\n"
          ]
        },
        {
          "data": {
            "text/plain": [
              "\n",
              "Best linear fit using forest predictions (on held-out data)\n",
              "as well as the mean forest prediction as regressors, along\n",
              "with one-sided heteroskedasticity-robust (HC3) SEs:\n",
              "\n",
              "                               Estimate Std. Error t value  Pr(>t)    \n",
              "mean.forest.prediction         1.004175   0.064727 15.5139 < 2e-16 ***\n",
              "differential.forest.prediction 0.374781   0.207144  1.8093 0.03522 *  \n",
              "---\n",
              "Signif. codes:  0 ‘***’ 0.001 ‘**’ 0.01 ‘*’ 0.05 ‘.’ 0.1 ‘ ’ 1\n"
            ]
          },
          "metadata": {},
          "output_type": "display_data"
        },
        {
          "data": {
            "text/html": [
              "<style>\n",
              ".list-inline {list-style: none; margin:0; padding: 0}\n",
              ".list-inline>li {display: inline-block}\n",
              ".list-inline>li:not(:last-child)::after {content: \"\\00b7\"; padding: 0 .5ex}\n",
              "</style>\n",
              "<ol class=list-inline><li>1.28415026132145e-05</li><li>0.00028853034243792</li></ol>\n"
            ],
            "text/latex": [
              "\\begin{enumerate*}\n",
              "\\item 1.28415026132145e-05\n",
              "\\item 0.00028853034243792\n",
              "\\end{enumerate*}\n"
            ],
            "text/markdown": [
              "1. 1.28415026132145e-05\n",
              "2. 0.00028853034243792\n",
              "\n",
              "\n"
            ],
            "text/plain": [
              "[1] 0.0000128415 0.0002885303"
            ]
          },
          "metadata": {},
          "output_type": "display_data"
        },
        {
          "data": {
            "text/plain": [
              "                     Df Sum Sq Mean Sq F value   Pr(>F)    \n",
              "factor(school.id)    75    204   2.725   2.001 7.01e-07 ***\n",
              "Residuals         10315  14043   1.361                     \n",
              "---\n",
              "Signif. codes:  0 ‘***’ 0.001 ‘**’ 0.01 ‘*’ 0.05 ‘.’ 0.1 ‘ ’ 1"
            ]
          },
          "metadata": {},
          "output_type": "display_data"
        },
        {
          "data": {
            "image/png": "[encoded data removed]",
            "text/plain": [
              "plot without title"
            ]
          },
          "metadata": {
            "image/png": {
              "height": 420,
              "width": 420
            }
          },
          "output_type": "display_data"
        }
      ],
      "source": [
        "cf.noclust = causal_forest(X[,selected.idx], Y, W,\n",
        "                           Y.hat = Y.hat, W.hat = W.hat,\n",
        "                           tune.parameters = \"all\")\n",
        "\n",
        "ATE.noclust = average_treatment_effect(cf.noclust)\n",
        "paste(\"95% CI for the ATE:\", round(ATE.noclust[1], 3),\n",
        "      \"+/-\", round(qnorm(0.975) * ATE.noclust[2], 3))\n",
        "\n",
        "test_calibration(cf.noclust)\n",
        "\n",
        "tau.hat.noclust = predict(cf.noclust)$predict\n",
        "plot(school.id, tau.hat.noclust)\n",
        "\n",
        "nfold = 5\n",
        "school.levels = unique(school.id)\n",
        "cluster.folds = sample.int(nfold, length(school.levels), replace = TRUE)\n",
        "\n",
        "tau.hat.crossfold = rep(NA, length(Y))\n",
        "for (foldid in 1:nfold) {\n",
        "  print(foldid)\n",
        "  infold = school.id %in% school.levels[cluster.folds == foldid]\n",
        "  cf.fold = causal_forest(X[!infold, selected.idx], Y[!infold], W[!infold],\n",
        "                          Y.hat = Y.hat[!infold], W.hat = W.hat[!infold],\n",
        "                          tune.parameters = \"all\")\n",
        "  pred.fold = predict(cf.fold, X[infold, selected.idx])$predictions\n",
        "  tau.hat.crossfold[infold] = pred.fold\n",
        "}\n",
        "\n",
        "cf.noclust.cpy = cf.noclust\n",
        "cf.noclust.cpy$predictions = tau.hat.crossfold\n",
        "cf.noclust.cpy$clusters = school.id\n",
        "test_calibration(cf.noclust.cpy)\n",
        "\n",
        "Rloss = mean(((Y - Y.hat) - tau.hat * (W - W.hat))^2)\n",
        "Rloss.noclust = mean(((Y - Y.hat) - tau.hat.noclust * (W - W.hat))^2)\n",
        "Rloss.crossfold = mean(((Y - Y.hat) - tau.hat.crossfold * (W - W.hat))^2)\n",
        "\n",
        "c(Rloss.noclust - Rloss, Rloss.crossfold - Rloss)\n",
        "\n",
        "summary(aov(dr.score ~ factor(school.id)))"
      ]
    },
    {
      "cell_type": "markdown",
      "source": [
        "In this part, they compared results with and without considering school groups. By redoing the model without the school clustering, the authors showed why it's important to think about how data is organized. Accounting for clusters was crucial to address intra-school correlations and variances effectively."
      ],
      "metadata": {
        "id": "MnyBl_n_qHWf"
      }
    },
    {
      "cell_type": "markdown",
      "metadata": {
        "id": "aTeV_KQvYGRb"
      },
      "source": [
        "## 6. Analaysis without fitting the propensity score"
      ]
    },
    {
      "cell_type": "code",
      "execution_count": null,
      "metadata": {
        "colab": {
          "base_uri": "https://localhost:8080/",
          "height": 52
        },
        "id": "dxm7PiXxYEH9",
        "outputId": "6b6680d8-571e-46a9-d4f6-65bba5000e02"
      },
      "outputs": [
        {
          "data": {
            "text/html": [
              "'95% CI for the ATE: 0.255 +/- 0.039'"
            ],
            "text/latex": [
              "'95\\% CI for the ATE: 0.255 +/- 0.039'"
            ],
            "text/markdown": [
              "'95% CI for the ATE: 0.255 +/- 0.039'"
            ],
            "text/plain": [
              "[1] \"95% CI for the ATE: 0.255 +/- 0.039\""
            ]
          },
          "metadata": {},
          "output_type": "display_data"
        },
        {
          "data": {
            "text/html": [
              "<strong>png:</strong> 2"
            ],
            "text/latex": [
              "\\textbf{png:} 2"
            ],
            "text/markdown": [
              "**png:** 2"
            ],
            "text/plain": [
              "png \n",
              "  2 "
            ]
          },
          "metadata": {},
          "output_type": "display_data"
        }
      ],
      "source": [
        "cf.noprop = causal_forest(X[,selected.idx], Y, W,\n",
        "                          Y.hat = Y.hat, W.hat = mean(W),\n",
        "                          tune.parameters = \"all\",\n",
        "                          equalize.cluster.weights = TRUE,\n",
        "                          clusters = school.id)\n",
        "tau.hat.noprop = predict(cf.noprop)$predictions\n",
        "\n",
        "ATE.noprop = average_treatment_effect(cf.noprop)\n",
        "paste(\"95% CI for the ATE:\", round(ATE.noprop[1], 3),\n",
        "      \"+/-\", round(qnorm(0.975) * ATE.noprop[2], 3))\n",
        "\n",
        "pdf(\"tauhat_noprop.pdf\")\n",
        "pardef = par(mar = c(5, 4, 4, 2) + 0.5, cex.lab=1.5, cex.axis=1.5, cex.main=1.5, cex.sub=1.5)\n",
        "plot(tau.hat, tau.hat.noprop,\n",
        "     xlim = range(tau.hat, tau.hat.noprop),\n",
        "     ylim = range(tau.hat, tau.hat.noprop),\n",
        "     xlab = \"orthogonalized causal forest estimates\",\n",
        "     ylab = \"non-orthogonalized causal forest\")\n",
        "abline(0, 1, lwd = 2, lty = 2, col = 4)\n",
        "par = pardef\n",
        "dev.off()"
      ]
    },
    {
      "cell_type": "markdown",
      "source": [
        "In their analysis, the authors evaluated the reliability of treatment effect estimates when the propensity score was excluded. The authors found that excluding the propensity score led to less reliable treatment effect estimates."
      ],
      "metadata": {
        "id": "gtCMbj-MqpwI"
      }
    },
    {
      "cell_type": "markdown",
      "metadata": {
        "id": "iKJj9MG5YLEQ"
      },
      "source": [
        "### Train forest on school-wise DR scores"
      ]
    },
    {
      "cell_type": "code",
      "execution_count": null,
      "metadata": {
        "colab": {
          "base_uri": "https://localhost:8080/",
          "height": 468
        },
        "id": "2aOQx7UDYOfb",
        "outputId": "a22c27cc-af7e-4464-d1d2-bab12a636a14"
      },
      "outputs": [
        {
          "data": {
            "text/plain": [
              "\n",
              "Best linear fit using forest predictions (on held-out data)\n",
              "as well as the mean forest prediction as regressors, along\n",
              "with one-sided heteroskedasticity-robust (HC3) SEs:\n",
              "\n",
              "                               Estimate Std. Error t value Pr(>t)    \n",
              "mean.forest.prediction         1.004597   0.083195 12.0751 <2e-16 ***\n",
              "differential.forest.prediction 0.761064   0.711708  1.0693 0.1442    \n",
              "---\n",
              "Signif. codes:  0 ‘***’ 0.001 ‘**’ 0.01 ‘*’ 0.05 ‘.’ 0.1 ‘ ’ 1\n"
            ]
          },
          "metadata": {},
          "output_type": "display_data"
        },
        {
          "data": {
            "text/plain": [
              "\n",
              "t test of coefficients:\n",
              "\n",
              "               Estimate  Std. Error t value Pr(>|t|)   \n",
              "(Intercept)  0.24066452  0.07701155  3.1250 0.002642 **\n",
              "X1          -0.05087747  0.02913346 -1.7464 0.085401 . \n",
              "X2           0.01379108  0.03386216  0.4073 0.685127   \n",
              "X3           0.00964038  0.02635691  0.3658 0.715712   \n",
              "X4           0.02483639  0.02567419  0.9674 0.336892   \n",
              "X5          -0.03626846  0.02667068 -1.3599 0.178501   \n",
              "XC.1         0.00045043  0.09345896  0.0048 0.996169   \n",
              "XC.2         0.08662630  0.10506074  0.8245 0.412605   \n",
              "XC.3        -0.13687519  0.08789854 -1.5572 0.124207   \n",
              "XC.4         0.04518506  0.08162091  0.5536 0.581726   \n",
              "---\n",
              "Signif. codes:  0 ‘***’ 0.001 ‘**’ 0.01 ‘*’ 0.05 ‘.’ 0.1 ‘ ’ 1\n"
            ]
          },
          "metadata": {},
          "output_type": "display_data"
        }
      ],
      "source": [
        "school.X = (t(school.mat) %*% as.matrix(X[,c(4:8, 25:28)])) / school.size\n",
        "school.X = data.frame(school.X)\n",
        "colnames(school.X) = c(\"X1\", \"X2\", \"X3\", \"X4\", \"X5\",\n",
        "                    \"XC.1\", \"XC.2\", \"XC.3\", \"XC.4\")\n",
        "\n",
        "dr.score = tau.hat + W / cf$W.hat * (Y - cf$Y.hat - (1 - cf$W.hat) * tau.hat) -\n",
        "  (1 - W) / (1 - cf$W.hat) * (Y - cf$Y.hat + cf$W.hat * tau.hat)\n",
        "school.score = t(school.mat) %*% dr.score / school.size\n",
        "\n",
        "school.forest = regression_forest(school.X, school.score)\n",
        "school.pred = predict(school.forest)$predictions\n",
        "test_calibration(school.forest)\n",
        "\n",
        "\n",
        "# Alternative OLS analysis\n",
        "school.DF = data.frame(school.X, school.score=school.score)\n",
        "coeftest(lm(school.score ~ ., data = school.DF), vcov = vcovHC)"
      ]
    },
    {
      "cell_type": "markdown",
      "metadata": {
        "id": "V1JZ-em9Zahx"
      },
      "source": [
        "# Experiment with no orthogonalization"
      ]
    },
    {
      "cell_type": "code",
      "execution_count": null,
      "metadata": {
        "colab": {
          "base_uri": "https://localhost:8080/",
          "height": 52
        },
        "id": "IUccevqGZNg_",
        "outputId": "94ba0a54-0b77-4db0-af5f-b4575e5a97f9"
      },
      "outputs": [
        {
          "data": {
            "text/html": [
              "'95% CI for the ATE: 0.094 +/- 0.147'"
            ],
            "text/latex": [
              "'95\\% CI for the ATE: 0.094 +/- 0.147'"
            ],
            "text/markdown": [
              "'95% CI for the ATE: 0.094 +/- 0.147'"
            ],
            "text/plain": [
              "[1] \"95% CI for the ATE: 0.094 +/- 0.147\""
            ]
          },
          "metadata": {},
          "output_type": "display_data"
        },
        {
          "data": {
            "text/html": [
              "'95% CI for the ATE: 0.184 +/- 0.139'"
            ],
            "text/latex": [
              "'95\\% CI for the ATE: 0.184 +/- 0.139'"
            ],
            "text/markdown": [
              "'95% CI for the ATE: 0.184 +/- 0.139'"
            ],
            "text/plain": [
              "[1] \"95% CI for the ATE: 0.184 +/- 0.139\""
            ]
          },
          "metadata": {},
          "output_type": "display_data"
        }
      ],
      "source": [
        "n.synth = 1000\n",
        "p.synth = 10\n",
        "X.synth = matrix(rnorm(n.synth * p.synth), n.synth, p.synth)\n",
        "W.synth = rbinom(n.synth, 1, 1 / (1 + exp(-X.synth[,1])))\n",
        "Y.synth = 2 * rowMeans(X.synth[,1:6]) + rnorm(n.synth)\n",
        "\n",
        "Y.forest.synth = regression_forest(X.synth, Y.synth)\n",
        "Y.hat.synth = predict(Y.forest.synth)$predictions\n",
        "W.forest.synth = regression_forest(X.synth, W.synth)\n",
        "W.hat.synth = predict(W.forest.synth)$predictions\n",
        "\n",
        "cf.synth = causal_forest(X.synth, Y.synth, W.synth,\n",
        "                         Y.hat = Y.hat.synth, W.hat = W.hat.synth)\n",
        "ATE.synth = average_treatment_effect(cf.synth)\n",
        "paste(\"95% CI for the ATE:\", round(ATE.synth[1], 3),\n",
        "      \"+/-\", round(qnorm(0.975) * ATE.synth[2], 3))\n",
        "\n",
        "cf.synth.noprop = causal_forest(X.synth, Y.synth, W.synth,\n",
        "                                Y.hat = Y.hat.synth, W.hat = mean(W.synth))\n",
        "ATE.synth.noprop = average_treatment_effect(cf.synth.noprop)\n",
        "paste(\"95% CI for the ATE:\", round(ATE.synth.noprop[1], 3),\n",
        "      \"+/-\", round(qnorm(0.975) * ATE.synth.noprop[2], 3))\n"
      ]
    },
    {
      "cell_type": "markdown",
      "metadata": {
        "id": "PdksjwgRZiYr"
      },
      "source": [
        "# Visualize school-level covariates by treatment heterogeneity"
      ]
    },
    {
      "cell_type": "code",
      "execution_count": null,
      "metadata": {
        "colab": {
          "base_uri": "https://localhost:8080/",
          "height": 472
        },
        "id": "hCPG5mRKZk6L",
        "outputId": "0faa7231-d610-496b-a413-17bf9594fdc9"
      },
      "outputs": [
        {
          "data": {
            "text/html": [
              "0.210526315789474"
            ],
            "text/latex": [
              "0.210526315789474"
            ],
            "text/markdown": [
              "0.210526315789474"
            ],
            "text/plain": [
              "[1] 0.2105263"
            ]
          },
          "metadata": {},
          "output_type": "display_data"
        },
        {
          "data": {
            "text/html": [
              "0.538461538461538"
            ],
            "text/latex": [
              "0.538461538461538"
            ],
            "text/markdown": [
              "0.538461538461538"
            ],
            "text/plain": [
              "[1] 0.5384615"
            ]
          },
          "metadata": {},
          "output_type": "display_data"
        },
        {
          "data": {
            "image/png": "[encoded data removed]",
            "text/plain": [
              "plot without title"
            ]
          },
          "metadata": {
            "image/png": {
              "height": 420,
              "width": 420
            }
          },
          "output_type": "display_data"
        }
      ],
      "source": [
        "school.X.std = scale(school.X)\n",
        "school.tercile = cut(school.pred,\n",
        "                     breaks = c(-Inf, quantile(school.pred, c(1/3, 2/3)), Inf))\n",
        "school.tercile.mat = model.matrix(~ school.tercile + 0)\n",
        "school.means = diag(1 / colSums(school.tercile.mat)) %*% t(school.tercile.mat) %*% as.matrix(school.X.std)\n",
        "\n",
        "MM = max(abs(school.means))\n",
        "HC = heat.colors(21)\n",
        "school.col = apply(school.means, 1:2, function(aa) HC[1 + round(20 * (0.5 + aa))])\n",
        "\n",
        "DF.plot = data.frame(tercile=rep(factor(1:3, labels=c(\"low\", \"mid\", \"high\")), 9), mean=as.numeric(school.means),\n",
        "                     feature = factor(rbind(colnames(school.X), colnames(school.X), colnames(school.X))))\n",
        "\n",
        "ggplot(data = DF.plot, aes(x = feature, y = tercile, fill = mean)) +\n",
        "    geom_tile() + scale_fill_gradient(low = \"white\", high = \"steelblue\") +\n",
        "    theme(axis.text = element_text(size=12), axis.title = element_text(size=14),\n",
        "          legend.title = element_text(size=14), legend.text = element_text(size=12)) +\n",
        "    theme(panel.background = element_blank())\n",
        "ggsave(\"tercile_plot.pdf\", width = 8, height = 4.5, dpi = 120)\n",
        "\n",
        "mean(school.X$XC.3)\n",
        "mean(school.X$XC.3[as.numeric(school.tercile) == 1])"
      ]
    },
    {
      "cell_type": "markdown",
      "metadata": {
        "id": "6yvLU6d6Zrnc"
      },
      "source": [
        "# CATE by school"
      ]
    },
    {
      "cell_type": "code",
      "execution_count": null,
      "metadata": {
        "colab": {
          "base_uri": "https://localhost:8080/",
          "height": 52
        },
        "id": "PkoS0EBwZlbG",
        "outputId": "92b154c8-525d-47e6-b3f0-8faf2359d2f5"
      },
      "outputs": [
        {
          "data": {
            "text/html": [
              "<strong>png:</strong> 2"
            ],
            "text/latex": [
              "\\textbf{png:} 2"
            ],
            "text/markdown": [
              "**png:** 2"
            ],
            "text/plain": [
              "png \n",
              "  2 "
            ]
          },
          "metadata": {},
          "output_type": "display_data"
        },
        {
          "data": {
            "text/html": [
              "<strong>png:</strong> 2"
            ],
            "text/latex": [
              "\\textbf{png:} 2"
            ],
            "text/markdown": [
              "**png:** 2"
            ],
            "text/plain": [
              "png \n",
              "  2 "
            ]
          },
          "metadata": {},
          "output_type": "display_data"
        }
      ],
      "source": [
        "ord = order(order(school.pred))\n",
        "school.sort = ord[school.id]\n",
        "\n",
        "pdf(\"school_boxplot.pdf\")\n",
        "pardef = par(mar = c(5, 4, 4, 2) + 0.5, cex.lab=1.5, cex.axis=1.5, cex.main=1.5, cex.sub=1.5)\n",
        "boxplot(tau.hat.noclust ~ school.sort, xaxt = \"n\",\n",
        "        xlab = \"school\", ylab = \"estimated CATE\")\n",
        "points(1:76, sort(school.pred), col = 4, pch = 16)\n",
        "legend(\"topleft\", c(\"school mean CATE\", \"CATE w/o clustering\"), pch = c(16, 1), col = c(4, 1), cex = 1.5)\n",
        "par = pardef\n",
        "dev.off()"
      ]
    },
    {
      "cell_type": "markdown",
      "source": [
        "These graphics emphasize the differences in how mindset training affects students, both within each school and across schools as a whole. They help identify schools where the training has a particularly strong or weak impact. This information is crucial for understanding how effective the training is in different contexts and for directing interventions where they're needed most."
      ],
      "metadata": {
        "id": "M2MG4AZkrHrn"
      }
    }
  ],
  "metadata": {
    "colab": {
      "provenance": []
    },
    "kernelspec": {
      "display_name": "R",
      "language": "R",
      "name": "ir"
    },
    "language_info": {
      "codemirror_mode": "r",
      "file_extension": ".r",
      "mimetype": "text/x-r-source",
      "name": "R",
      "pygments_lexer": "r",
      "version": "3.6.1"
    }
  },
  "nbformat": 4,
  "nbformat_minor": 0
}