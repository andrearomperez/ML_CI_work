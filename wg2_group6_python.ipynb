{
 "cells": [
  {
   "cell_type": "markdown",
   "id": "5d67f64e",
   "metadata": {},
   "source": [
    "Integrantes: Francisco Arizola, Andrea Romero y Nicolas Trujillo"
   ]
  },
  {
   "cell_type": "code",
   "execution_count": 1,
   "id": "159c6031",
   "metadata": {},
   "outputs": [
    {
     "name": "stdout",
     "output_type": "stream",
     "text": [
      "Requirement already satisfied: pyreadr in c:\\users\\franc\\anaconda3\\lib\\site-packages (0.5.0)\n",
      "Requirement already satisfied: pandas>=1.2.0 in c:\\users\\franc\\anaconda3\\lib\\site-packages (from pyreadr) (2.0.3)\n",
      "Requirement already satisfied: python-dateutil>=2.8.2 in c:\\users\\franc\\anaconda3\\lib\\site-packages (from pandas>=1.2.0->pyreadr) (2.8.2)\n",
      "Requirement already satisfied: pytz>=2020.1 in c:\\users\\franc\\anaconda3\\lib\\site-packages (from pandas>=1.2.0->pyreadr) (2023.3.post1)\n",
      "Requirement already satisfied: tzdata>=2022.1 in c:\\users\\franc\\anaconda3\\lib\\site-packages (from pandas>=1.2.0->pyreadr) (2023.3)\n",
      "Requirement already satisfied: numpy>=1.21.0 in c:\\users\\franc\\anaconda3\\lib\\site-packages (from pandas>=1.2.0->pyreadr) (1.24.3)\n",
      "Requirement already satisfied: six>=1.5 in c:\\users\\franc\\anaconda3\\lib\\site-packages (from python-dateutil>=2.8.2->pandas>=1.2.0->pyreadr) (1.16.0)\n"
     ]
    }
   ],
   "source": [
    "#Import libraries\n",
    "import numpy as np\n",
    "import pandas as pd\n",
    "import seaborn as sns\n",
    "import matplotlib.pyplot as plt\n",
    "import statsmodels.api as sm\n",
    "import statsmodels.formula.api as smf\n",
    "import patsy\n",
    "\n",
    "#To read data from R\n",
    "!pip install pyreadr\n",
    "import pyreadr\n",
    "\n",
    "#Hdmpy\n",
    "import sys\n",
    "sys.path.insert(0, r\"C:\\Users\\Franc\\Python_ML\\hdmpy\")\n",
    "import hdmpy"
   ]
  },
  {
   "cell_type": "markdown",
   "id": "0e4b5f8e",
   "metadata": {},
   "source": [
    "# Potential outcomes and RCTs"
   ]
  },
  {
   "cell_type": "markdown",
   "id": "d0cc524c",
   "metadata": {},
   "source": [
    "## Multiconilearity"
   ]
  },
  {
   "cell_type": "markdown",
   "id": "d0722311",
   "metadata": {},
   "source": [
    "Multicollinearity occurs when two or more predictors in a regression model are highly correlated. \n",
    "This correlation makes it difficult to isolate the individual effects of each predictor on the response variable. \n",
    "It generally results in unstable parameter estimates in the regression, making it tricky to interpret the model."
   ]
  },
  {
   "cell_type": "markdown",
   "id": "0cce9658",
   "metadata": {},
   "source": [
    "### Examples and Equation\n",
    "\n",
    "Consider a multiple regression scenario where we are trying to predict the outcome $ Y $ based on variables $ X_1, X_2,  $ and $ X_3 $. The model can be expressed as:\n",
    "\n",
    "$$ Y = \\beta_0 + \\beta_1X_1 + \\beta_2X_2 + \\beta_3X_3 + \\epsilon $$\n",
    "Where:\n",
    "- $ \\beta_0 $ is the intercept,\n",
    "- $ \\beta_1, \\beta_2, \\beta_3 $ are coefficients,\n",
    "- $ \\epsilon $ is the error term.\n",
    "\n",
    "If $ X_1 $ and $ X_2 $ are highly correlated, then changes in $ X_1 $ could be associated with changes in $ X_2 $, making it difficult to separate their individual effects on $ Y $.\n",
    "\n",
    "### Example of Multicollinearity\n",
    "\n",
    "#### Scenario\n",
    "\n",
    "Imagine a study intended to explore factors influencing the success of startup companies, where:\n",
    "- $ X_1 $ is the total funding received from investors,\n",
    "- $ X_2 $ is the number of funding rounds,\n",
    "- $ X_3 $ is the total number of employees.\n",
    "\n",
    "#### Issue\n",
    "\n",
    "In such scenarios, the total funding $ X_1 $ and the number of funding rounds $ X_2 $ could be highly correlated because startups often receive more funds as they go through more rounds of funding. This multicollinearity can make it difficult to determine whether the amount of funding or the number of funding rounds has a more significant impact on the success of the startup.\n",
    "\n",
    "### Consequences\n",
    "\n",
    "- **Increased Variance**: The standard errors of the coefficients $ \\beta_1 $ and $ \\beta_2 $ become inflated, which may lead to broader confidence intervals and less reliable statistical tests.\n",
    "- **Impaired Coefficient Interpretation**: It becomes challenging to parse out which variable between $ X_1 $ and $ X_2 $ contributes more to startup success, as they both share information that could be overlapping in the model.\n",
    "\n",
    "This example underscores how multicollinearity can obscure the interpretation of variables in a regression model, emphasizing the importance of diagnosing and mitigating it in analytical studies."
   ]
  },
  {
   "cell_type": "code",
   "execution_count": 13,
   "id": "4913aaaf",
   "metadata": {},
   "outputs": [
    {
     "name": "stdout",
     "output_type": "stream",
     "text": [
      "First five observations of the matrix:\n",
      "[[ 1.76405235  0.40015721  0.97873798  2.2408932   1.86755799 -0.97727788\n",
      "   0.95008842 -0.15135721 -0.10321885  9.32420228]\n",
      " [ 0.4105985   0.14404357  1.45427351  0.76103773  0.12167502  0.44386323\n",
      "   0.33367433  1.49407907 -0.20515826  3.68417057]\n",
      " [ 0.3130677  -0.85409574 -2.55298982  0.6536186   0.8644362  -0.74216502\n",
      "   2.26975462 -1.45436567  0.04575852 -2.19960333]\n",
      " [-0.18718385  1.53277921  1.46935877  0.15494743  0.37816252 -0.88778575\n",
      "  -1.98079647 -0.34791215  0.15634897  3.88602125]\n",
      " [ 1.23029068  1.20237985 -0.38732682 -0.30230275 -1.04855297 -1.42001794\n",
      "  -1.70627019  1.9507754  -0.50965218 -2.69002185]]\n",
      "Inverse calculated successfully\n",
      "[[-1.01704351e+15  1.52692635e+15  1.18050254e+15  1.19993169e+15\n",
      "   8.18203205e+13  2.75725750e+14 -4.57057992e+14 -3.48151089e+14\n",
      "   1.97833276e+14  2.25372013e+14]\n",
      " [ 8.77845194e-01 -1.63689907e+00 -1.51004740e+00 -1.22419455e+00\n",
      "   1.02372773e+00  1.71941842e+00  5.14368491e-01 -8.91416336e-01\n",
      "  -2.56626593e+00 -1.76676146e-02]\n",
      " [-2.03408703e+15  3.05385270e+15  2.36100508e+15  2.39986338e+15\n",
      "   1.63640641e+14  5.51451500e+14 -9.14115985e+14 -6.96302177e+14\n",
      "   3.95666551e+14  4.50744027e+14]\n",
      " [-1.31052942e+00  1.61010435e+00  2.45262139e+00  1.61580037e+00\n",
      "  -8.25461874e-01 -1.47701721e+00 -2.28916229e-01  5.65928986e-01\n",
      "   1.90194214e+00 -2.00826624e-01]\n",
      " [-3.05113054e+15  4.58077905e+15  3.54150761e+15  3.59979508e+15\n",
      "   2.45460962e+14  8.27177250e+14 -1.37117398e+15 -1.04445327e+15\n",
      "   5.93499827e+14  6.76116040e+14]]\n"
     ]
    }
   ],
   "source": [
    "# Set the seed\n",
    "np.random.seed(0)\n",
    "\n",
    "# Create a 10x10 matrix with the first 9 columns following a normal distribution\n",
    "matrix = np.random.normal(0, 1, (10, 9))  # Normal distribution with mean 0 and standard deviation 1\n",
    "\n",
    "# Add a 10th column as a linear combination of three other columns (In this case, we used 1st, 3rd, and 5th)\n",
    "# The linear combination can be defined as: col_10 = col_1 + 2 * col_3 + 3 * col_5\n",
    "linear_combination = matrix[:, 0] + 2 * matrix[:, 2] + 3 * matrix[:, 4]\n",
    "matrix = np.column_stack((matrix, linear_combination))\n",
    "\n",
    "# Print matrix\n",
    "print(\"First five observations of the matrix:\")\n",
    "print(matrix[:5, :])\n",
    "\n",
    "# Try to find the inverse of the matrix\n",
    "try:\n",
    "    inverse = np.linalg.inv(matrix)\n",
    "    print(\"Inverse calculated successfully\")\n",
    "    print(inverse[:5, :])\n",
    "except np.linalg.LinAlgError:\n",
    "    print(\"Inverse cannot be calculated\")"
   ]
  },
  {
   "cell_type": "markdown",
   "id": "e0d65ab0",
   "metadata": {},
   "source": [
    "### Observations\n",
    "Although multicollinearity doesn't inherently lead to different results across programming languages, it can exacerbate the effects of numerical precision issues and computational methods. In a matrix with multicollinearity, small changes in values can lead to large swings in results due to unstable parameter estimates or high condition numbers. This can lead to:\n",
    "\n",
    "Higher Variance in Estimates: Multicollinearity increases the variance in regression coefficients, making them more sensitive to minor changes in data or computational methods.\n",
    "Matrix Singularity: Inverting a matrix with high multicollinearity can lead to singularity or near-singularity, which may be handled differently by Python, R, and Julia."
   ]
  },
  {
   "cell_type": "markdown",
   "id": "c5a73930",
   "metadata": {},
   "source": [
    "# Analyzing RCT data with Precision Adjustment"
   ]
  },
  {
   "cell_type": "markdown",
   "id": "e2a9679a",
   "metadata": {},
   "source": [
    "### Data\n",
    "In this lab, we analyze the Pennsylvania re-employment bonus experiment, which was previously studied in \"Sequential testing of duration data: the case of the Pennsylvania ‘reemployment bonus’ experiment\" (Bilias, 2000), among others. These experiments were conducted in the 1980s by the U.S. Department of Labor to test the incentive effects of alternative compensation schemes for unemployment insurance (UI). In these experiments, UI claimants were randomly assigned either to a control group or one of five treatment groups. Actually, there are six treatment groups in the experiments.Here we focus on treatment group 2. Individuals in the treatment groups were offered a cash bonus if they found a job within some pre-specified period of time (qualification period), provided that the job was retained for a specified duration. The treatments differed in the level of the bonus, the length of the qualification period, and whether the bonus was declining over time in the qualification period."
   ]
  },
  {
   "cell_type": "code",
   "execution_count": 3,
   "id": "99d66667",
   "metadata": {},
   "outputs": [
    {
     "data": {
      "text/html": [
       "<div>\n",
       "<style scoped>\n",
       "    .dataframe tbody tr th:only-of-type {\n",
       "        vertical-align: middle;\n",
       "    }\n",
       "\n",
       "    .dataframe tbody tr th {\n",
       "        vertical-align: top;\n",
       "    }\n",
       "\n",
       "    .dataframe thead th {\n",
       "        text-align: right;\n",
       "    }\n",
       "</style>\n",
       "<table border=\"1\" class=\"dataframe\">\n",
       "  <thead>\n",
       "    <tr style=\"text-align: right;\">\n",
       "      <th></th>\n",
       "      <th>abdt</th>\n",
       "      <th>tg</th>\n",
       "      <th>inuidur1</th>\n",
       "      <th>inuidur2</th>\n",
       "      <th>female</th>\n",
       "      <th>black</th>\n",
       "      <th>hispanic</th>\n",
       "      <th>othrace</th>\n",
       "      <th>dep</th>\n",
       "      <th>q1</th>\n",
       "      <th>...</th>\n",
       "      <th>q5</th>\n",
       "      <th>q6</th>\n",
       "      <th>recall</th>\n",
       "      <th>agelt35</th>\n",
       "      <th>agegt54</th>\n",
       "      <th>durable</th>\n",
       "      <th>nondurable</th>\n",
       "      <th>lusd</th>\n",
       "      <th>husd</th>\n",
       "      <th>muld</th>\n",
       "    </tr>\n",
       "  </thead>\n",
       "  <tbody>\n",
       "    <tr>\n",
       "      <th>0</th>\n",
       "      <td>10824</td>\n",
       "      <td>0</td>\n",
       "      <td>18</td>\n",
       "      <td>18</td>\n",
       "      <td>0</td>\n",
       "      <td>0</td>\n",
       "      <td>0</td>\n",
       "      <td>0</td>\n",
       "      <td>2</td>\n",
       "      <td>0</td>\n",
       "      <td>...</td>\n",
       "      <td>0</td>\n",
       "      <td>0</td>\n",
       "      <td>0</td>\n",
       "      <td>0</td>\n",
       "      <td>0</td>\n",
       "      <td>0</td>\n",
       "      <td>0</td>\n",
       "      <td>1</td>\n",
       "      <td>0</td>\n",
       "      <td>NaN</td>\n",
       "    </tr>\n",
       "    <tr>\n",
       "      <th>1</th>\n",
       "      <td>10635</td>\n",
       "      <td>2</td>\n",
       "      <td>7</td>\n",
       "      <td>3</td>\n",
       "      <td>0</td>\n",
       "      <td>0</td>\n",
       "      <td>0</td>\n",
       "      <td>0</td>\n",
       "      <td>0</td>\n",
       "      <td>0</td>\n",
       "      <td>...</td>\n",
       "      <td>0</td>\n",
       "      <td>0</td>\n",
       "      <td>1</td>\n",
       "      <td>0</td>\n",
       "      <td>0</td>\n",
       "      <td>0</td>\n",
       "      <td>1</td>\n",
       "      <td>0</td>\n",
       "      <td>0</td>\n",
       "      <td>NaN</td>\n",
       "    </tr>\n",
       "    <tr>\n",
       "      <th>3</th>\n",
       "      <td>10824</td>\n",
       "      <td>0</td>\n",
       "      <td>1</td>\n",
       "      <td>1</td>\n",
       "      <td>0</td>\n",
       "      <td>0</td>\n",
       "      <td>0</td>\n",
       "      <td>0</td>\n",
       "      <td>0</td>\n",
       "      <td>0</td>\n",
       "      <td>...</td>\n",
       "      <td>0</td>\n",
       "      <td>0</td>\n",
       "      <td>0</td>\n",
       "      <td>0</td>\n",
       "      <td>0</td>\n",
       "      <td>0</td>\n",
       "      <td>1</td>\n",
       "      <td>0</td>\n",
       "      <td>0</td>\n",
       "      <td>NaN</td>\n",
       "    </tr>\n",
       "    <tr>\n",
       "      <th>4</th>\n",
       "      <td>10747</td>\n",
       "      <td>0</td>\n",
       "      <td>27</td>\n",
       "      <td>27</td>\n",
       "      <td>0</td>\n",
       "      <td>0</td>\n",
       "      <td>0</td>\n",
       "      <td>0</td>\n",
       "      <td>0</td>\n",
       "      <td>0</td>\n",
       "      <td>...</td>\n",
       "      <td>0</td>\n",
       "      <td>0</td>\n",
       "      <td>0</td>\n",
       "      <td>0</td>\n",
       "      <td>0</td>\n",
       "      <td>0</td>\n",
       "      <td>1</td>\n",
       "      <td>0</td>\n",
       "      <td>0</td>\n",
       "      <td>NaN</td>\n",
       "    </tr>\n",
       "    <tr>\n",
       "      <th>9</th>\n",
       "      <td>10754</td>\n",
       "      <td>2</td>\n",
       "      <td>20</td>\n",
       "      <td>20</td>\n",
       "      <td>1</td>\n",
       "      <td>0</td>\n",
       "      <td>0</td>\n",
       "      <td>0</td>\n",
       "      <td>0</td>\n",
       "      <td>0</td>\n",
       "      <td>...</td>\n",
       "      <td>0</td>\n",
       "      <td>0</td>\n",
       "      <td>0</td>\n",
       "      <td>0</td>\n",
       "      <td>0</td>\n",
       "      <td>0</td>\n",
       "      <td>0</td>\n",
       "      <td>0</td>\n",
       "      <td>1</td>\n",
       "      <td>NaN</td>\n",
       "    </tr>\n",
       "  </tbody>\n",
       "</table>\n",
       "<p>5 rows × 24 columns</p>\n",
       "</div>"
      ],
      "text/plain": [
       "    abdt  tg  inuidur1  inuidur2  female  black  hispanic  othrace  dep  q1  \\\n",
       "0  10824   0        18        18       0      0         0        0    2   0   \n",
       "1  10635   2         7         3       0      0         0        0    0   0   \n",
       "3  10824   0         1         1       0      0         0        0    0   0   \n",
       "4  10747   0        27        27       0      0         0        0    0   0   \n",
       "9  10754   2        20        20       1      0         0        0    0   0   \n",
       "\n",
       "   ...  q5  q6  recall  agelt35  agegt54  durable  nondurable  lusd  husd  \\\n",
       "0  ...   0   0       0        0        0        0           0     1     0   \n",
       "1  ...   0   0       1        0        0        0           1     0     0   \n",
       "3  ...   0   0       0        0        0        0           1     0     0   \n",
       "4  ...   0   0       0        0        0        0           1     0     0   \n",
       "9  ...   0   0       0        0        0        0           0     0     1   \n",
       "\n",
       "   muld  \n",
       "0   NaN  \n",
       "1   NaN  \n",
       "3   NaN  \n",
       "4   NaN  \n",
       "9   NaN  \n",
       "\n",
       "[5 rows x 24 columns]"
      ]
     },
     "execution_count": 3,
     "metadata": {},
     "output_type": "execute_result"
    }
   ],
   "source": [
    "## loading the data\n",
    "Penn = pd.read_csv(\"../Documentos/Github/CausalAI-Course/data/penn_jae.dat\" , sep='\\s', engine='python')\n",
    "n = Penn.shape[0]\n",
    "p_1 = Penn.shape[1]\n",
    "\n",
    "## We keep the treatment group n°2\n",
    "Penn = Penn[ (Penn['tg'] == 2) | (Penn['tg'] == 0) ]\n",
    "\n",
    "Penn.head()"
   ]
  },
  {
   "cell_type": "code",
   "execution_count": 4,
   "id": "7d7cf8cd",
   "metadata": {},
   "outputs": [
    {
     "data": {
      "text/plain": [
       "(5782, 24)"
      ]
     },
     "execution_count": 4,
     "metadata": {},
     "output_type": "execute_result"
    }
   ],
   "source": [
    "Penn.shape"
   ]
  },
  {
   "cell_type": "code",
   "execution_count": 5,
   "id": "1dadab59",
   "metadata": {},
   "outputs": [
    {
     "name": "stdout",
     "output_type": "stream",
     "text": [
      "<class 'pandas.core.frame.DataFrame'>\n",
      "Index: 5782 entries, 0 to 13911\n",
      "Data columns (total 24 columns):\n",
      " #   Column       Non-Null Count  Dtype  \n",
      "---  ------       --------------  -----  \n",
      " 0   abdt         5782 non-null   int64  \n",
      " 1   tg           5782 non-null   int64  \n",
      " 2   inuidur1     5782 non-null   int64  \n",
      " 3   inuidur2     5782 non-null   int64  \n",
      " 4   female       5782 non-null   int64  \n",
      " 5   black        5782 non-null   int64  \n",
      " 6   hispanic     5782 non-null   int64  \n",
      " 7   othrace      5782 non-null   int64  \n",
      " 8   dep          5782 non-null   int64  \n",
      " 9   q1           5782 non-null   int64  \n",
      " 10  q2           5782 non-null   int64  \n",
      " 11  q3           5782 non-null   int64  \n",
      " 12  q4           5782 non-null   int64  \n",
      " 13  Unnamed: 13  5782 non-null   int64  \n",
      " 14  q5           5782 non-null   int64  \n",
      " 15  q6           5782 non-null   int64  \n",
      " 16  recall       5782 non-null   int64  \n",
      " 17  agelt35      5782 non-null   int64  \n",
      " 18  agegt54      5782 non-null   int64  \n",
      " 19  durable      5782 non-null   int64  \n",
      " 20  nondurable   5782 non-null   int64  \n",
      " 21  lusd         5782 non-null   int64  \n",
      " 22  husd         5782 non-null   int64  \n",
      " 23  muld         0 non-null      float64\n",
      "dtypes: float64(1), int64(23)\n",
      "memory usage: 1.1 MB\n"
     ]
    }
   ],
   "source": [
    "# Info from the df\n",
    "Penn.columns\n",
    "Penn.info()"
   ]
  },
  {
   "cell_type": "markdown",
   "id": "82e2673d",
   "metadata": {},
   "source": [
    "There are no missing values"
   ]
  },
  {
   "cell_type": "code",
   "execution_count": 6,
   "id": "378c7f74",
   "metadata": {},
   "outputs": [
    {
     "data": {
      "text/html": [
       "<div>\n",
       "<style scoped>\n",
       "    .dataframe tbody tr th:only-of-type {\n",
       "        vertical-align: middle;\n",
       "    }\n",
       "\n",
       "    .dataframe tbody tr th {\n",
       "        vertical-align: top;\n",
       "    }\n",
       "\n",
       "    .dataframe thead th {\n",
       "        text-align: right;\n",
       "    }\n",
       "</style>\n",
       "<table border=\"1\" class=\"dataframe\">\n",
       "  <thead>\n",
       "    <tr style=\"text-align: right;\">\n",
       "      <th></th>\n",
       "      <th>abdt</th>\n",
       "      <th>tg</th>\n",
       "      <th>inuidur1</th>\n",
       "      <th>inuidur2</th>\n",
       "      <th>female</th>\n",
       "      <th>black</th>\n",
       "      <th>hispanic</th>\n",
       "      <th>othrace</th>\n",
       "      <th>dep</th>\n",
       "      <th>q1</th>\n",
       "      <th>...</th>\n",
       "      <th>q6</th>\n",
       "      <th>recall</th>\n",
       "      <th>agelt35</th>\n",
       "      <th>agegt54</th>\n",
       "      <th>durable</th>\n",
       "      <th>nondurable</th>\n",
       "      <th>lusd</th>\n",
       "      <th>husd</th>\n",
       "      <th>muld</th>\n",
       "      <th>T2</th>\n",
       "    </tr>\n",
       "  </thead>\n",
       "  <tbody>\n",
       "    <tr>\n",
       "      <th>0</th>\n",
       "      <td>10824</td>\n",
       "      <td>0</td>\n",
       "      <td>18</td>\n",
       "      <td>18</td>\n",
       "      <td>0</td>\n",
       "      <td>0</td>\n",
       "      <td>0</td>\n",
       "      <td>0</td>\n",
       "      <td>2</td>\n",
       "      <td>0</td>\n",
       "      <td>...</td>\n",
       "      <td>0</td>\n",
       "      <td>0</td>\n",
       "      <td>0</td>\n",
       "      <td>0</td>\n",
       "      <td>0</td>\n",
       "      <td>0</td>\n",
       "      <td>1</td>\n",
       "      <td>0</td>\n",
       "      <td>NaN</td>\n",
       "      <td>0</td>\n",
       "    </tr>\n",
       "    <tr>\n",
       "      <th>1</th>\n",
       "      <td>10635</td>\n",
       "      <td>2</td>\n",
       "      <td>7</td>\n",
       "      <td>3</td>\n",
       "      <td>0</td>\n",
       "      <td>0</td>\n",
       "      <td>0</td>\n",
       "      <td>0</td>\n",
       "      <td>0</td>\n",
       "      <td>0</td>\n",
       "      <td>...</td>\n",
       "      <td>0</td>\n",
       "      <td>1</td>\n",
       "      <td>0</td>\n",
       "      <td>0</td>\n",
       "      <td>0</td>\n",
       "      <td>1</td>\n",
       "      <td>0</td>\n",
       "      <td>0</td>\n",
       "      <td>NaN</td>\n",
       "      <td>1</td>\n",
       "    </tr>\n",
       "    <tr>\n",
       "      <th>3</th>\n",
       "      <td>10824</td>\n",
       "      <td>0</td>\n",
       "      <td>1</td>\n",
       "      <td>1</td>\n",
       "      <td>0</td>\n",
       "      <td>0</td>\n",
       "      <td>0</td>\n",
       "      <td>0</td>\n",
       "      <td>0</td>\n",
       "      <td>0</td>\n",
       "      <td>...</td>\n",
       "      <td>0</td>\n",
       "      <td>0</td>\n",
       "      <td>0</td>\n",
       "      <td>0</td>\n",
       "      <td>0</td>\n",
       "      <td>1</td>\n",
       "      <td>0</td>\n",
       "      <td>0</td>\n",
       "      <td>NaN</td>\n",
       "      <td>0</td>\n",
       "    </tr>\n",
       "    <tr>\n",
       "      <th>4</th>\n",
       "      <td>10747</td>\n",
       "      <td>0</td>\n",
       "      <td>27</td>\n",
       "      <td>27</td>\n",
       "      <td>0</td>\n",
       "      <td>0</td>\n",
       "      <td>0</td>\n",
       "      <td>0</td>\n",
       "      <td>0</td>\n",
       "      <td>0</td>\n",
       "      <td>...</td>\n",
       "      <td>0</td>\n",
       "      <td>0</td>\n",
       "      <td>0</td>\n",
       "      <td>0</td>\n",
       "      <td>0</td>\n",
       "      <td>1</td>\n",
       "      <td>0</td>\n",
       "      <td>0</td>\n",
       "      <td>NaN</td>\n",
       "      <td>0</td>\n",
       "    </tr>\n",
       "    <tr>\n",
       "      <th>9</th>\n",
       "      <td>10754</td>\n",
       "      <td>2</td>\n",
       "      <td>20</td>\n",
       "      <td>20</td>\n",
       "      <td>1</td>\n",
       "      <td>0</td>\n",
       "      <td>0</td>\n",
       "      <td>0</td>\n",
       "      <td>0</td>\n",
       "      <td>0</td>\n",
       "      <td>...</td>\n",
       "      <td>0</td>\n",
       "      <td>0</td>\n",
       "      <td>0</td>\n",
       "      <td>0</td>\n",
       "      <td>0</td>\n",
       "      <td>0</td>\n",
       "      <td>0</td>\n",
       "      <td>1</td>\n",
       "      <td>NaN</td>\n",
       "      <td>1</td>\n",
       "    </tr>\n",
       "  </tbody>\n",
       "</table>\n",
       "<p>5 rows × 25 columns</p>\n",
       "</div>"
      ],
      "text/plain": [
       "    abdt  tg  inuidur1  inuidur2  female  black  hispanic  othrace dep  q1  \\\n",
       "0  10824   0        18        18       0      0         0        0   2   0   \n",
       "1  10635   2         7         3       0      0         0        0   0   0   \n",
       "3  10824   0         1         1       0      0         0        0   0   0   \n",
       "4  10747   0        27        27       0      0         0        0   0   0   \n",
       "9  10754   2        20        20       1      0         0        0   0   0   \n",
       "\n",
       "   ...  q6  recall  agelt35  agegt54  durable  nondurable  lusd  husd  muld  \\\n",
       "0  ...   0       0        0        0        0           0     1     0   NaN   \n",
       "1  ...   0       1        0        0        0           1     0     0   NaN   \n",
       "3  ...   0       0        0        0        0           1     0     0   NaN   \n",
       "4  ...   0       0        0        0        0           1     0     0   NaN   \n",
       "9  ...   0       0        0        0        0           0     0     1   NaN   \n",
       "\n",
       "   T2  \n",
       "0   0  \n",
       "1   1  \n",
       "3   0  \n",
       "4   0  \n",
       "9   1  \n",
       "\n",
       "[5 rows x 25 columns]"
      ]
     },
     "execution_count": 6,
     "metadata": {},
     "output_type": "execute_result"
    }
   ],
   "source": [
    "# Dependent variable\n",
    "Penn['T2'] = (Penn[['tg']]==2).astype(int)\n",
    "\n",
    "# Create category variable\n",
    "Penn['dep'] = Penn['dep'].astype( 'category' )\n",
    "Penn.head()"
   ]
  },
  {
   "cell_type": "code",
   "execution_count": 7,
   "id": "0180db66",
   "metadata": {},
   "outputs": [
    {
     "data": {
      "image/png": "[encoded data removed]",
      "text/plain": [
       "<Figure size 1200x600 with 2 Axes>"
      ]
     },
     "metadata": {},
     "output_type": "display_data"
    }
   ],
   "source": [
    "# Plotting histograms for treatment and control groups\n",
    "fig, (ax1, ax2) = plt.subplots(1, 2, figsize=(12, 6))\n",
    "\n",
    "# Histogram for the treatment group (left subplot)\n",
    "sns.histplot(Penn[Penn['T2'] == 1]['inuidur1'], kde=True, color='blue', ax=ax1)\n",
    "ax1.set_title(\"Treatment Group\")\n",
    "ax1.set_xlabel(\"Unemployment weeks\")\n",
    "ax1.set_ylabel(\"Count\")\n",
    "\n",
    "# Histogram for the control group (right subplot)\n",
    "sns.histplot(Penn[Penn['T2'] == 0]['inuidur1'], kde=True, color='orange', ax=ax2)\n",
    "ax2.set_title(\"Control Group\")\n",
    "ax2.set_xlabel(\"Unemployment weeks\")\n",
    "ax2.set_ylabel(\"Count\")\n",
    "\n",
    "# Set a common title for the whole figure\n",
    "fig.suptitle(\"Histograms of Treatment and Control Groups\")\n",
    "\n",
    "# Display the plots\n",
    "plt.show()"
   ]
  },
  {
   "cell_type": "markdown",
   "id": "8764cd2b",
   "metadata": {},
   "source": [
    "### Model \n",
    "To evaluate the impact of the treatments on unemployment duration, we consider the linear regression model:\n",
    "\n",
    "$$\n",
    "Y =  D \\beta_1 + W'\\beta_2 + \\varepsilon, \\quad E \\varepsilon (D,W')' = 0,\n",
    "$$\n",
    "\n",
    "where $Y$ is  the  log of duration of unemployment, $D$ is a treatment  indicators,  and $W$ is a set of controls including age group dummies, gender, race, number of dependents, quarter of the experiment, location within the state, existence of recall expectations, and type of occupation.   Here $\\beta_1$ is the ATE, if the RCT assumptions hold rigorously.\n",
    "\n",
    "\n",
    "We also consider interactive regression model:\n",
    "\n",
    "$$\n",
    "Y =  D \\alpha_1 + D W' \\alpha_2 + W'\\beta_2 + \\varepsilon, \\quad E \\varepsilon (D,W', DW')' = 0,\n",
    "$$\n",
    "where $W$'s are demeaned (apart from the intercept), so that $\\alpha_1$ is the ATE, if the RCT assumptions hold rigorously."
   ]
  },
  {
   "cell_type": "markdown",
   "id": "05df50c4",
   "metadata": {},
   "source": [
    "Under RCT, the projection coefficient $\\beta_1$ has\n",
    "the interpretation of the causal effect of the treatment on\n",
    "the average outcome. We thus refer to $\\beta_1$ as the average\n",
    "treatment effect (ATE). Note that the covariates, here are\n",
    "independent of the treatment $D$, so we can identify $\\beta_1$ by\n",
    "just linear regression of $Y$ on $D$, without adding covariates.\n",
    "However we do add covariates in an effort to improve the\n",
    "precision of our estimates of the average treatment effect."
   ]
  },
  {
   "cell_type": "markdown",
   "id": "06cc00c2",
   "metadata": {},
   "source": [
    "### Analysis\n",
    "\n",
    "We consider \n",
    "\n",
    "*  classical 2-sample approach, no adjustment (CL)\n",
    "*  classical linear regression adjustment (CRA)\n",
    "*  interactive regression adjusment (IRA)\n",
    "\n",
    "and carry out robust inference using the *estimatr* R packages. "
   ]
  },
  {
   "cell_type": "markdown",
   "id": "acde341e",
   "metadata": {},
   "source": [
    "## Carry out covariate balance check"
   ]
  },
  {
   "cell_type": "markdown",
   "id": "e43a275c",
   "metadata": {},
   "source": [
    "This is done using \"lm_robust\" command which unlike \"lm\" in the base command automatically does the correct Eicher-Huber-White standard errors, instead othe classical non-robus formula based on the homoscdedasticity command."
   ]
  },
  {
   "cell_type": "code",
   "execution_count": 8,
   "id": "97039337",
   "metadata": {},
   "outputs": [
    {
     "name": "stdout",
     "output_type": "stream",
     "text": [
      "                            OLS Regression Results                            \n",
      "==============================================================================\n",
      "Dep. Variable:                     T2   R-squared:                       0.019\n",
      "Model:                            OLS   Adj. R-squared:                  0.000\n",
      "Method:                 Least Squares   F-statistic:                     4.748\n",
      "Date:                Tue, 23 Apr 2024   Prob (F-statistic):           5.79e-51\n",
      "Time:                        18:05:54   Log-Likelihood:                -4065.8\n",
      "No. Observations:                5782   AIC:                             8352.\n",
      "Df Residuals:                    5672   BIC:                             9084.\n",
      "Df Model:                         109                                         \n",
      "Covariance Type:                  HC1                                         \n",
      "=======================================================================================\n",
      "                          coef    std err          t      P>|t|      [0.025      0.975]\n",
      "---------------------------------------------------------------------------------------\n",
      "Intercept               0.5090      0.032     15.741      0.000       0.446       0.572\n",
      "C(dep)[T.1]             0.0747      0.057      1.307      0.191      -0.037       0.187\n",
      "C(dep)[T.2]             0.0381      0.049      0.773      0.440      -0.058       0.135\n",
      "female                 -0.0182      0.036     -0.511      0.609      -0.088       0.052\n",
      "female:C(dep)[T.1]     -0.0185      0.045     -0.413      0.680      -0.106       0.069\n",
      "female:C(dep)[T.2]      0.0158      0.040      0.396      0.692      -0.062       0.094\n",
      "black                  -0.0108      0.068     -0.159      0.873      -0.144       0.122\n",
      "black:C(dep)[T.1]      -0.0020      0.067     -0.031      0.976      -0.132       0.128\n",
      "black:C(dep)[T.2]      -0.0110      0.063     -0.175      0.861      -0.134       0.112\n",
      "othrace                -0.1295      0.250     -0.519      0.604      -0.619       0.360\n",
      "othrace:C(dep)[T.1]     0.6118      0.232      2.636      0.008       0.157       1.067\n",
      "othrace:C(dep)[T.2]    -0.1486      0.269     -0.552      0.581      -0.676       0.379\n",
      "q2                     -0.0788      0.045     -1.767      0.077      -0.166       0.009\n",
      "C(dep)[T.1]:q2          0.0431      0.062      0.696      0.486      -0.078       0.164\n",
      "C(dep)[T.2]:q2          0.0090      0.053      0.170      0.865      -0.095       0.113\n",
      "q3                     -0.1042      0.042     -2.501      0.012      -0.186      -0.023\n",
      "C(dep)[T.1]:q3         -0.0303      0.058     -0.519      0.604      -0.145       0.084\n",
      "C(dep)[T.2]:q3          0.0386      0.052      0.737      0.461      -0.064       0.141\n",
      "q4                     -0.0646      0.042     -1.522      0.128      -0.148       0.019\n",
      "C(dep)[T.1]:q4         -0.0482      0.058     -0.829      0.407      -0.162       0.066\n",
      "C(dep)[T.2]:q4         -0.0112      0.054     -0.208      0.835      -0.117       0.094\n",
      "q5                     -0.1248      0.061     -2.031      0.042      -0.245      -0.004\n",
      "C(dep)[T.1]:q5         -0.0347      0.089     -0.388      0.698      -0.210       0.141\n",
      "C(dep)[T.2]:q5          0.0339      0.076      0.449      0.653      -0.114       0.182\n",
      "q6                     -0.0296      0.082     -0.360      0.719      -0.191       0.132\n",
      "C(dep)[T.1]:q6         -0.0186      0.069     -0.270      0.787      -0.154       0.117\n",
      "C(dep)[T.2]:q6          0.0447      0.060      0.745      0.456      -0.073       0.162\n",
      "agelt35                -0.0553      0.059     -0.930      0.353      -0.172       0.061\n",
      "C(dep)[T.1]:agelt35    -0.0869      0.061     -1.436      0.151      -0.206       0.032\n",
      "C(dep)[T.2]:agelt35    -0.1097      0.154     -0.713      0.476      -0.411       0.192\n",
      "agegt54                -0.0555      0.047     -1.173      0.241      -0.148       0.037\n",
      "C(dep)[T.1]:agegt54    -0.0006      0.058     -0.011      0.991      -0.115       0.114\n",
      "C(dep)[T.2]:agegt54    -0.1089      0.051     -2.127      0.033      -0.209      -0.009\n",
      "durable                -0.1152      0.060     -1.914      0.056      -0.233       0.003\n",
      "C(dep)[T.1]:durable    -0.0628      0.071     -0.880      0.379      -0.203       0.077\n",
      "C(dep)[T.2]:durable    -0.1011      0.059     -1.699      0.089      -0.218       0.016\n",
      "lusd                   -0.0655      0.042     -1.543      0.123      -0.149       0.018\n",
      "C(dep)[T.1]:lusd       -0.0247      0.055     -0.446      0.656      -0.133       0.084\n",
      "C(dep)[T.2]:lusd       -0.0528      0.050     -1.055      0.292      -0.151       0.045\n",
      "husd                   -0.0608      0.037     -1.625      0.104      -0.134       0.013\n",
      "C(dep)[T.1]:husd       -0.0272      0.049     -0.554      0.579      -0.124       0.069\n",
      "C(dep)[T.2]:husd       -0.0549      0.043     -1.267      0.205      -0.140       0.030\n",
      "female:black            0.0069      0.044      0.155      0.877      -0.080       0.094\n",
      "female:othrace          0.0383      0.174      0.219      0.826      -0.304       0.380\n",
      "female:q2              -0.0406      0.041     -1.000      0.317      -0.120       0.039\n",
      "female:q3               0.0383      0.039      0.989      0.323      -0.038       0.114\n",
      "female:q4               0.0362      0.039      0.932      0.351      -0.040       0.112\n",
      "female:q5               0.1090      0.061      1.791      0.073      -0.010       0.228\n",
      "female:q6              -0.0133      0.048     -0.277      0.782      -0.108       0.081\n",
      "female:agelt35         -0.0228      0.047     -0.480      0.631      -0.116       0.070\n",
      "female:agegt54         -0.0634      0.044     -1.446      0.148      -0.149       0.023\n",
      "female:durable         -0.0285      0.043     -0.657      0.511      -0.114       0.057\n",
      "female:lusd             0.0128      0.038      0.338      0.736      -0.062       0.087\n",
      "female:husd            -0.0166      0.032     -0.516      0.606      -0.080       0.047\n",
      "black:othrace       -3.363e-16   2.33e-16     -1.445      0.148   -7.92e-16     1.2e-16\n",
      "black:q2                0.1424      0.064      2.230      0.026       0.017       0.268\n",
      "black:q3                0.0355      0.058      0.607      0.544      -0.079       0.150\n",
      "black:q4               -0.0941      0.060     -1.564      0.118      -0.212       0.024\n",
      "black:q5                0.0064      0.089      0.072      0.942      -0.169       0.181\n",
      "black:q6               -0.0286      0.099     -0.289      0.773      -0.223       0.165\n",
      "black:agelt35          -0.0863      0.080     -1.079      0.281      -0.243       0.071\n",
      "black:agegt54          -0.0247      0.070     -0.353      0.724      -0.162       0.113\n",
      "black:durable          -0.0363      0.077     -0.471      0.637      -0.187       0.115\n",
      "black:lusd              0.1510      0.186      0.811      0.417      -0.214       0.516\n",
      "black:husd             -0.0033      0.054     -0.060      0.952      -0.109       0.103\n",
      "othrace:q2             -0.5813      0.367     -1.585      0.113      -1.300       0.138\n",
      "othrace:q3              0.1171      0.217      0.540      0.589      -0.308       0.542\n",
      "othrace:q4             -0.0792      0.220     -0.361      0.718      -0.510       0.352\n",
      "othrace:q5             -0.1960      0.195     -1.007      0.314      -0.578       0.186\n",
      "othrace:q6          -3.739e-16   1.65e-16     -2.263      0.024   -6.98e-16      -5e-17\n",
      "othrace:agelt35        -0.1305      0.379     -0.344      0.731      -0.873       0.612\n",
      "othrace:agegt54         0.0312      0.215      0.145      0.885      -0.390       0.453\n",
      "othrace:durable         0.4016      0.226      1.775      0.076      -0.042       0.845\n",
      "othrace:lusd           -0.8868      0.347     -2.554      0.011      -1.568      -0.206\n",
      "othrace:husd           -0.0610      0.183     -0.333      0.739      -0.419       0.298\n",
      "q2:q3                6.489e-17   2.17e-16      0.299      0.765    -3.6e-16     4.9e-16\n",
      "q2:q4                 7.23e-17   4.58e-16      0.158      0.875   -8.26e-16     9.7e-16\n",
      "q2:q5               -3.692e-16   2.45e-16     -1.508      0.132   -8.49e-16    1.11e-16\n",
      "q2:q6                  -0.0154      0.078     -0.198      0.843      -0.168       0.137\n",
      "q2:agelt35              0.1697      0.064      2.637      0.008       0.044       0.296\n",
      "q2:agegt54              0.0474      0.056      0.847      0.397      -0.062       0.157\n",
      "q2:durable              0.1072      0.063      1.697      0.090      -0.017       0.231\n",
      "q2:lusd                 0.0503      0.053      0.943      0.346      -0.054       0.155\n",
      "q2:husd                -0.0097      0.046     -0.208      0.835      -0.101       0.081\n",
      "q3:q4                1.568e-16   1.08e-16      1.455      0.146   -5.44e-17    3.68e-16\n",
      "q3:q5               -2.982e-16   2.63e-16     -1.133      0.257   -8.14e-16    2.18e-16\n",
      "q3:q6                  -0.1296      0.079     -1.639      0.101      -0.285       0.025\n",
      "q3:agelt35              0.1499      0.060      2.483      0.013       0.032       0.268\n",
      "q3:agegt54              0.1074      0.053      2.010      0.045       0.003       0.212\n",
      "q3:durable              0.1372      0.061      2.236      0.025       0.017       0.257\n",
      "q3:lusd                 0.0479      0.051      0.931      0.352      -0.053       0.149\n",
      "q3:husd                 0.0454      0.044      1.026      0.305      -0.041       0.132\n",
      "q4:q5                8.984e-17   1.01e-16      0.893      0.372   -1.07e-16    2.87e-16\n",
      "q4:q6                   0.0342      0.080      0.428      0.668      -0.122       0.191\n",
      "q4:agelt35              0.0759      0.060      1.276      0.202      -0.041       0.193\n",
      "q4:agegt54              0.0284      0.055      0.518      0.605      -0.079       0.136\n",
      "q4:durable              0.0608      0.060      1.008      0.314      -0.058       0.179\n",
      "q4:lusd                 0.0334      0.051      0.651      0.515      -0.067       0.134\n",
      "q4:husd                 0.0611      0.045      1.352      0.177      -0.028       0.150\n",
      "q5:q6                  -0.0330      0.129     -0.255      0.799      -0.287       0.221\n",
      "q5:agelt35              0.0551      0.091      0.606      0.544      -0.123       0.233\n",
      "q5:agegt54              0.1332      0.076      1.744      0.081      -0.017       0.283\n",
      "q5:durable              0.0982      0.100      0.987      0.324      -0.097       0.293\n",
      "q5:lusd                -0.0596      0.080     -0.745      0.456      -0.216       0.097\n",
      "q5:husd                -0.0066      0.067     -0.098      0.922      -0.139       0.125\n",
      "q6:agelt35             -0.0164      0.071     -0.231      0.818      -0.156       0.123\n",
      "q6:agegt54              0.0623      0.067      0.925      0.355      -0.070       0.194\n",
      "q6:durable              0.0175      0.072      0.241      0.809      -0.124       0.159\n",
      "q6:lusd                 0.0419      0.054      0.779      0.436      -0.064       0.147\n",
      "q6:husd                 0.0823      0.052      1.584      0.113      -0.020       0.184\n",
      "agelt35:agegt54        -0.0283      0.062     -0.457      0.648      -0.150       0.093\n",
      "agelt35:durable         0.0207      0.063      0.328      0.743      -0.103       0.145\n",
      "agelt35:lusd           -0.0533      0.056     -0.948      0.343      -0.164       0.057\n",
      "agelt35:husd           -0.0164      0.053     -0.312      0.755      -0.120       0.087\n",
      "agegt54:durable              0          0        nan        nan           0           0\n",
      "agegt54:lusd            0.0501      0.052      0.959      0.337      -0.052       0.152\n",
      "agegt54:husd            0.0508      0.043      1.181      0.238      -0.034       0.135\n",
      "durable:lusd            0.1570      0.056      2.822      0.005       0.048       0.266\n",
      "durable:husd            0.1278      0.053      2.414      0.016       0.024       0.232\n",
      "lusd:husd                    0          0        nan        nan           0           0\n",
      "==============================================================================\n",
      "Omnibus:                    22532.679   Durbin-Watson:                   2.015\n",
      "Prob(Omnibus):                  0.000   Jarque-Bera (JB):              902.476\n",
      "Skew:                           0.315   Prob(JB):                    1.07e-196\n",
      "Kurtosis:                       1.170   Cond. No.                     1.40e+16\n",
      "==============================================================================\n",
      "\n",
      "Notes:\n",
      "[1] Standard Errors are heteroscedasticity robust (HC1)\n",
      "[2] The smallest eigenvalue is 5.77e-29. This might indicate that there are\n",
      "strong multicollinearity problems or that the design matrix is singular.\n",
      "Number of regressors in the basic model: 120 \n",
      "\n"
     ]
    },
    {
     "name": "stderr",
     "output_type": "stream",
     "text": [
      "C:\\Users\\Franc\\anaconda3\\Lib\\site-packages\\statsmodels\\base\\model.py:1888: ValueWarning: covariance of constraints does not have full rank. The number of constraints is 119, but rank is 108\n",
      "  warnings.warn('covariance of constraints does not have full '\n"
     ]
    }
   ],
   "source": [
    "formula1 = \"T2~(female+black+othrace+C(dep)+q2+q3+q4+q5+q6+agelt35+agegt54+durable+lusd+husd)**2\"\n",
    "\n",
    "model_results = smf.ols(formula1, data = Penn).fit().get_robustcov_results(cov_type = \"HC1\")\n",
    "\n",
    "\n",
    "print(model_results.summary())\n",
    "print( \"Number of regressors in the basic model:\",len(model_results.params), '\\n')"
   ]
  },
  {
   "cell_type": "markdown",
   "id": "3ffca49d",
   "metadata": {},
   "source": [
    "## Regress treatment on all covariates using data from R"
   ]
  },
  {
   "cell_type": "code",
   "execution_count": 9,
   "id": "ed176d39",
   "metadata": {},
   "outputs": [],
   "source": [
    "y = Penn[['T2']].reset_index( drop = True )"
   ]
  },
  {
   "cell_type": "code",
   "execution_count": 10,
   "id": "57673884",
   "metadata": {},
   "outputs": [],
   "source": [
    "# Get data from R\n",
    "result = pyreadr.read_r('../Documentos/Github/CausalAI-Course/data/m_reg_g2.RData')\n",
    "X_vars = result['X1']"
   ]
  },
  {
   "cell_type": "code",
   "execution_count": 11,
   "id": "759cb3a5",
   "metadata": {},
   "outputs": [
    {
     "name": "stdout",
     "output_type": "stream",
     "text": [
      "                            OLS Regression Results                            \n",
      "==============================================================================\n",
      "Dep. Variable:                     T2   R-squared:                       0.016\n",
      "Model:                            OLS   Adj. R-squared:                 -0.002\n",
      "Method:                 Least Squares   F-statistic:                     4.204\n",
      "Date:                Tue, 23 Apr 2024   Prob (F-statistic):           2.42e-39\n",
      "Time:                        18:05:55   Log-Likelihood:                -4075.6\n",
      "No. Observations:                5782   AIC:                             8357.\n",
      "Df Residuals:                    5679   BIC:                             9043.\n",
      "Df Model:                         102                                         \n",
      "Covariance Type:                  HC1                                         \n",
      "========================================================================================\n",
      "                           coef    std err          t      P>|t|      [0.025      0.975]\n",
      "----------------------------------------------------------------------------------------\n",
      "(Intercept)              0.5171      0.157      3.296      0.001       0.210       0.825\n",
      "female                   0.0056      0.132      0.042      0.966      -0.254       0.265\n",
      "black                   -0.0308      0.085     -0.363      0.716      -0.197       0.135\n",
      "othrace                 -0.4279      0.301     -1.424      0.155      -1.017       0.161\n",
      "factor(dep)1             0.1577      0.185      0.851      0.395      -0.205       0.521\n",
      "factor(dep)2            -0.1928      0.151     -1.278      0.201      -0.489       0.103\n",
      "q2                      -0.1092      0.158     -0.690      0.490      -0.420       0.201\n",
      "q3                      -0.1076      0.158     -0.681      0.496      -0.417       0.202\n",
      "q4                      -0.0621      0.158     -0.393      0.694      -0.372       0.248\n",
      "q5                      -0.0499      0.158     -0.317      0.752      -0.359       0.259\n",
      "q6                      -0.2176      0.156     -1.397      0.163      -0.523       0.088\n",
      "agelt35                 -0.0643      0.133     -0.485      0.628      -0.324       0.196\n",
      "agegt54                  0.0259      0.240      0.108      0.914      -0.444       0.496\n",
      "durable                 -0.1256      0.176     -0.712      0.476      -0.471       0.220\n",
      "lusd                     0.0861      0.069      1.246      0.213      -0.049       0.221\n",
      "husd                    -0.0182      0.076     -0.238      0.812      -0.167       0.131\n",
      "female:black             0.0027      0.044      0.061      0.951      -0.083       0.089\n",
      "female:othrace           0.1015      0.206      0.492      0.623      -0.303       0.506\n",
      "female:factor(dep)1     -0.0179      0.045     -0.398      0.691      -0.106       0.070\n",
      "female:factor(dep)2      0.0219      0.040      0.553      0.581      -0.056       0.100\n",
      "female:q2               -0.0995      0.132     -0.753      0.452      -0.359       0.160\n",
      "female:q3               -0.0144      0.132     -0.109      0.913      -0.273       0.244\n",
      "female:q4               -0.0167      0.132     -0.127      0.899      -0.275       0.241\n",
      "female:q5               -0.0586      0.131     -0.447      0.655      -0.316       0.198\n",
      "female:q6                0.0550      0.140      0.394      0.694      -0.219       0.329\n",
      "female:agelt35           0.0333      0.030      1.127      0.260      -0.025       0.091\n",
      "female:agegt54          -0.0110      0.050     -0.219      0.826      -0.109       0.087\n",
      "female:durable          -0.0586      0.044     -1.340      0.180      -0.144       0.027\n",
      "female:lusd              0.0051      0.033      0.153      0.878      -0.060       0.070\n",
      "female:husd              0.0187      0.037      0.509      0.611      -0.053       0.091\n",
      "black:factor(dep)1      -0.0139      0.068     -0.206      0.837      -0.146       0.118\n",
      "black:factor(dep)2      -0.0230      0.062     -0.370      0.712      -0.145       0.099\n",
      "black:q2                 0.1311      0.091      1.440      0.150      -0.047       0.309\n",
      "black:q3                 0.0357      0.088      0.407      0.684      -0.136       0.207\n",
      "black:q4                -0.1095      0.089     -1.227      0.220      -0.284       0.065\n",
      "black:q5                -0.0108      0.087     -0.124      0.901      -0.181       0.159\n",
      "black:agelt35            0.0295      0.045      0.659      0.510      -0.058       0.117\n",
      "black:agegt54           -0.0575      0.082     -0.701      0.484      -0.218       0.103\n",
      "black:durable           -0.0122      0.069     -0.176      0.860      -0.148       0.124\n",
      "black:lusd               0.0106      0.055      0.192      0.848      -0.097       0.119\n",
      "black:husd               0.1309      0.181      0.724      0.469      -0.224       0.486\n",
      "othrace:factor(dep)1     0.5857      0.223      2.631      0.009       0.149       1.022\n",
      "othrace:factor(dep)2    -0.1436      0.332     -0.433      0.665      -0.794       0.506\n",
      "othrace:q2              -0.4009      0.345     -1.162      0.245      -1.077       0.276\n",
      "othrace:q3               0.6009      0.236      2.544      0.011       0.138       1.064\n",
      "othrace:q4               0.2964      0.287      1.033      0.302      -0.266       0.859\n",
      "othrace:q5               0.2727      0.192      1.418      0.156      -0.104       0.650\n",
      "othrace:agelt35          0.0078      0.208      0.037      0.970      -0.400       0.416\n",
      "othrace:agegt54          0.2412      0.319      0.755      0.450      -0.385       0.867\n",
      "othrace:durable         -0.1464      0.214     -0.684      0.494      -0.566       0.273\n",
      "othrace:lusd             0.0925      0.207      0.447      0.655      -0.313       0.498\n",
      "othrace:husd            -0.8587      0.318     -2.702      0.007      -1.482      -0.236\n",
      "factor(dep)1:q2         -0.0779      0.186     -0.419      0.675      -0.442       0.286\n",
      "factor(dep)2:q2          0.1434      0.150      0.957      0.339      -0.150       0.437\n",
      "factor(dep)1:q3         -0.1494      0.185     -0.808      0.419      -0.512       0.213\n",
      "factor(dep)2:q3          0.1687      0.150      1.125      0.261      -0.125       0.463\n",
      "factor(dep)1:q4         -0.1595      0.184     -0.868      0.386      -0.520       0.201\n",
      "factor(dep)2:q4          0.1210      0.150      0.805      0.421      -0.174       0.416\n",
      "factor(dep)1:q5         -0.1177      0.183     -0.642      0.521      -0.477       0.242\n",
      "factor(dep)2:q5          0.1390      0.149      0.934      0.350      -0.153       0.431\n",
      "factor(dep)1:q6         -0.1531      0.195     -0.785      0.432      -0.535       0.229\n",
      "factor(dep)2:q6          0.1619      0.159      1.016      0.310      -0.150       0.474\n",
      "factor(dep)1:agelt35    -0.0036      0.047     -0.077      0.939      -0.095       0.088\n",
      "factor(dep)2:agelt35     0.0615      0.037      1.657      0.098      -0.011       0.134\n",
      "factor(dep)1:agegt54    -0.0883      0.065     -1.359      0.174      -0.216       0.039\n",
      "factor(dep)2:agegt54    -0.0785      0.151     -0.520      0.603      -0.374       0.217\n",
      "factor(dep)1:durable     0.0088      0.058      0.152      0.879      -0.104       0.122\n",
      "factor(dep)2:durable    -0.0924      0.051     -1.814      0.070      -0.192       0.007\n",
      "factor(dep)1:lusd        0.0359      0.050      0.710      0.478      -0.063       0.135\n",
      "factor(dep)2:lusd        0.0707      0.046      1.537      0.124      -0.019       0.161\n",
      "factor(dep)1:husd       -0.0181      0.054     -0.333      0.739      -0.124       0.088\n",
      "factor(dep)2:husd        0.0066      0.048      0.138      0.890      -0.087       0.100\n",
      "q2:agelt35               0.0306      0.133      0.231      0.818      -0.229       0.291\n",
      "q2:agegt54               0.0590      0.239      0.247      0.805      -0.410       0.528\n",
      "q2:durable               0.1371      0.175      0.783      0.434      -0.206       0.480\n",
      "q2:lusd                 -0.0531      0.072     -0.737      0.461      -0.194       0.088\n",
      "q2:husd                  0.0860      0.078      1.107      0.268      -0.066       0.238\n",
      "q3:agelt35               0.0303      0.132      0.229      0.819      -0.229       0.290\n",
      "q3:agegt54               0.0251      0.238      0.106      0.916      -0.441       0.491\n",
      "q3:durable               0.1905      0.175      1.089      0.276      -0.153       0.533\n",
      "q3:lusd                 -0.0706      0.071     -1.001      0.317      -0.209       0.068\n",
      "q3:husd                  0.0444      0.077      0.575      0.566      -0.107       0.196\n",
      "q4:agelt35               0.0723      0.132      0.546      0.585      -0.187       0.332\n",
      "q4:agegt54              -0.0193      0.237     -0.081      0.935      -0.484       0.445\n",
      "q4:durable               0.1229      0.176      0.699      0.485      -0.222       0.467\n",
      "q4:lusd                 -0.1132      0.071     -1.590      0.112      -0.253       0.026\n",
      "q4:husd                  0.0103      0.077      0.134      0.894      -0.141       0.162\n",
      "q5:agelt35               0.0465      0.132      0.353      0.724      -0.211       0.304\n",
      "q5:agegt54              -0.1165      0.236     -0.493      0.622      -0.579       0.346\n",
      "q5:durable               0.1025      0.173      0.591      0.555      -0.238       0.442\n",
      "q5:lusd                 -0.0357      0.070     -0.508      0.611      -0.174       0.102\n",
      "q5:husd                  0.0270      0.076      0.357      0.721      -0.121       0.175\n",
      "q6:agelt35               0.1099      0.140      0.787      0.431      -0.164       0.384\n",
      "q6:agegt54              -0.0174      0.248     -0.070      0.944      -0.503       0.469\n",
      "q6:durable               0.2161      0.183      1.179      0.239      -0.143       0.576\n",
      "agelt35:durable          0.0323      0.040      0.801      0.423      -0.047       0.111\n",
      "agelt35:lusd            -0.0092      0.035     -0.265      0.791      -0.077       0.059\n",
      "agelt35:husd            -0.0250      0.039     -0.641      0.521      -0.101       0.051\n",
      "agegt54:durable         -0.0155      0.065     -0.236      0.813      -0.144       0.113\n",
      "agegt54:lusd             0.0287      0.057      0.504      0.614      -0.083       0.140\n",
      "agegt54:husd            -0.0423      0.061     -0.694      0.488      -0.162       0.077\n",
      "durable:lusd            -0.0386      0.043     -0.901      0.368      -0.122       0.045\n",
      "durable:husd             0.0093      0.053      0.178      0.859      -0.094       0.112\n",
      "==============================================================================\n",
      "Omnibus:                    22320.003   Durbin-Watson:                   2.010\n",
      "Prob(Omnibus):                  0.000   Jarque-Bera (JB):              913.891\n",
      "Skew:                           0.316   Prob(JB):                    3.56e-199\n",
      "Kurtosis:                       1.158   Cond. No.                         236.\n",
      "==============================================================================\n",
      "\n",
      "Notes:\n",
      "[1] Standard Errors are heteroscedasticity robust (HC1)\n",
      "Number of regressors in the basic model: 103 \n",
      "\n"
     ]
    },
    {
     "name": "stderr",
     "output_type": "stream",
     "text": [
      "C:\\Users\\Franc\\anaconda3\\Lib\\site-packages\\statsmodels\\base\\model.py:1888: ValueWarning: covariance of constraints does not have full rank. The number of constraints is 102, but rank is 101\n",
      "  warnings.warn('covariance of constraints does not have full '\n"
     ]
    }
   ],
   "source": [
    "# model = \"T2~(female+black+othrace+C(dep)+q2+q3+q4+q5+q6+agelt35+agegt54+durable+lusd+husd)**2\"\n",
    "\n",
    "model_results = sm.OLS( y, X_vars ).fit().get_robustcov_results(cov_type = \"HC1\")\n",
    "\n",
    "print(model_results.summary())\n",
    "print( \"Number of regressors in the basic model:\",len(model_results.params), '\\n')"
   ]
  },
  {
   "cell_type": "markdown",
   "id": "5d0463fb",
   "metadata": {},
   "source": [
    "We see that that even though this is a randomized experiment, balance conditions are failed."
   ]
  },
  {
   "cell_type": "markdown",
   "id": "9904deb8",
   "metadata": {},
   "source": [
    "# Model Specification"
   ]
  },
  {
   "cell_type": "markdown",
   "id": "392d655a",
   "metadata": {},
   "source": [
    "### Classical 2-sample approach, no adjustment (CL)"
   ]
  },
  {
   "cell_type": "code",
   "execution_count": 12,
   "id": "91fccee3",
   "metadata": {},
   "outputs": [
    {
     "name": "stdout",
     "output_type": "stream",
     "text": [
      "                            OLS Regression Results                            \n",
      "==============================================================================\n",
      "Dep. Variable:           log_inuidur1   R-squared:                       0.001\n",
      "Model:                            OLS   Adj. R-squared:                  0.001\n",
      "Method:                 Least Squares   F-statistic:                     5.879\n",
      "Date:                Tue, 23 Apr 2024   Prob (F-statistic):             0.0154\n",
      "Time:                        18:05:55   Log-Likelihood:                -9344.7\n",
      "No. Observations:                5782   AIC:                         1.869e+04\n",
      "Df Residuals:                    5780   BIC:                         1.871e+04\n",
      "Df Model:                           1                                         \n",
      "Covariance Type:                  HC1                                         \n",
      "==============================================================================\n",
      "                 coef    std err          t      P>|t|      [0.025      0.975]\n",
      "------------------------------------------------------------------------------\n",
      "Intercept      2.0568      0.021     98.158      0.000       2.016       2.098\n",
      "T2            -0.0788      0.033     -2.425      0.015      -0.143      -0.015\n",
      "==============================================================================\n",
      "Omnibus:                     3220.110   Durbin-Watson:                   1.978\n",
      "Prob(Omnibus):                  0.000   Jarque-Bera (JB):              593.120\n",
      "Skew:                          -0.541   Prob(JB):                    1.61e-129\n",
      "Kurtosis:                       1.865   Cond. No.                         2.47\n",
      "==============================================================================\n",
      "\n",
      "Notes:\n",
      "[1] Standard Errors are heteroscedasticity robust (HC1)\n"
     ]
    },
    {
     "ename": "NameError",
     "evalue": "name 'ols_cra' is not defined",
     "output_type": "error",
     "traceback": [
      "\u001b[1;31m---------------------------------------------------------------------------\u001b[0m",
      "\u001b[1;31mNameError\u001b[0m                                 Traceback (most recent call last)",
      "Cell \u001b[1;32mIn[12], line 12\u001b[0m\n\u001b[0;32m      9\u001b[0m ols_cl \u001b[38;5;241m=\u001b[39m smf\u001b[38;5;241m.\u001b[39mols( formula \u001b[38;5;241m=\u001b[39m formula_cl, data \u001b[38;5;241m=\u001b[39m Penn )\u001b[38;5;241m.\u001b[39mfit()\u001b[38;5;241m.\u001b[39mget_robustcov_results(cov_type \u001b[38;5;241m=\u001b[39m \u001b[38;5;124m\"\u001b[39m\u001b[38;5;124mHC1\u001b[39m\u001b[38;5;124m\"\u001b[39m)\n\u001b[0;32m     11\u001b[0m \u001b[38;5;28mprint\u001b[39m(ols_cl\u001b[38;5;241m.\u001b[39msummary())\n\u001b[1;32m---> 12\u001b[0m \u001b[38;5;28mprint\u001b[39m( \u001b[38;5;124m\"\u001b[39m\u001b[38;5;124mNumber of regressors in the control model:\u001b[39m\u001b[38;5;124m\"\u001b[39m,\u001b[38;5;28mlen\u001b[39m(ols_cra\u001b[38;5;241m.\u001b[39mparams), \u001b[38;5;124m'\u001b[39m\u001b[38;5;130;01m\\n\u001b[39;00m\u001b[38;5;124m'\u001b[39m)\n",
      "\u001b[1;31mNameError\u001b[0m: name 'ols_cra' is not defined"
     ]
    }
   ],
   "source": [
    "# model specifications\n",
    "# take log of inuidur1\n",
    "Penn[\"log_inuidur1\"] = np.log( Penn[\"inuidur1\"] ) \n",
    "log_inuidur1 = pd.DataFrame(np.log( Penn[\"inuidur1\"] ) ).reset_index( drop = True )\n",
    "\n",
    "# No adjustment (2-sample approach)\n",
    "formula_cl = 'log_inuidur1 ~ T2'\n",
    "\n",
    "ols_cl = smf.ols( formula = formula_cl, data = Penn ).fit().get_robustcov_results(cov_type = \"HC1\")\n",
    "\n",
    "print(ols_cl.summary())\n",
    "print( \"Number of regressors in the control model:\",len(ols_cra.params), '\\n')"
   ]
  },
  {
   "cell_type": "code",
   "execution_count": null,
   "id": "31a8f10e",
   "metadata": {},
   "outputs": [],
   "source": [
    "# Adding controls\n",
    "\n",
    "formula_cra = 'log_inuidur1 ~ T2 + (female+black+othrace+C(dep)+q2+q3+q4+q5+q6+agelt35+agegt54+durable+lusd+husd)**2'\n",
    "# Omitted dummies: q1, nondurable, muld\n",
    "\n",
    "ols_cra = smf.ols( formula = formula_cra, data = Penn ).fit().get_robustcov_results(cov_type = \"HC1\")\n",
    "\n",
    "print(ols_cra.summary())\n",
    "print( \"Number of regressors in the control model:\",len(ols_cra.params), '\\n')"
   ]
  },
  {
   "cell_type": "markdown",
   "id": "30b7260a",
   "metadata": {},
   "source": [
    "## Model Specification using data from R."
   ]
  },
  {
   "cell_type": "code",
   "execution_count": null,
   "id": "c11a5e05",
   "metadata": {},
   "outputs": [],
   "source": [
    "# model specifications\n",
    "# take log of inuidur1\n",
    "\n",
    "log_inuidur1 = pd.DataFrame(np.log( Penn[\"inuidur1\"] ) ).reset_index( drop = True )\n",
    "\n",
    "# no adjustment (2-sample approach)\n",
    "formula_cl = 'log_inuidur1 ~ T2'\n",
    "\n",
    "# adding controls\n",
    "# formula_cra = 'log_inuidur1 ~ T2 + (female+black+othrace+dep+q2+q3+q4+q5+q6+agelt35+agegt54+durable+lusd+husd)**2'\n",
    "# Omitted dummies: q1, nondurable, muld\n",
    "\n",
    "ols_cl = smf.ols( formula = formula_cl, data = Penn ).fit().get_robustcov_results(cov_type = \"HC1\")\n",
    "\n",
    "#getting data\n",
    "# Get data from R\n",
    "result = pyreadr.read_r('../Documentos/Github/CausalAI-Course/data/ols_ira_reg_g2.RData')\n",
    "X_vars = result['S1']\n",
    "\n",
    "ols_cra = sm.OLS( log_inuidur1, X_vars ).fit().get_robustcov_results(cov_type = \"HC1\")\n",
    "\n",
    "# Results \n",
    "print(ols_cl.summary())\n",
    "print(ols_cra.summary())\n",
    "print( \"Number of regressors in the interactive model:\",len(ols_cra.params), '\\n')"
   ]
  },
  {
   "cell_type": "code",
   "execution_count": null,
   "id": "dd08c32e",
   "metadata": {},
   "outputs": [],
   "source": [
    "# create Y variable \n",
    "log_inuidur1 = pd.DataFrame(np.log( Penn[\"inuidur1\"] )).reset_index( drop = True )"
   ]
  },
  {
   "cell_type": "code",
   "execution_count": null,
   "id": "f3081687",
   "metadata": {},
   "outputs": [],
   "source": [
    "# Reset index to estimation\n",
    "# Get data from R\n",
    "result = pyreadr.read_r('ols_ira_reg_g2.RData')\n",
    "X_vars = result['S1']\n",
    "\n",
    "# Interactive regression adjustment (IRA)\n",
    "ols_ira = sm.OLS( log_inuidur1, X_vars ).fit().get_robustcov_results(cov_type = \"HC1\")\n",
    "\n",
    "# Results \n",
    "print(ols_ira.summary())"
   ]
  },
  {
   "cell_type": "markdown",
   "id": "3b1cfff9",
   "metadata": {},
   "source": [
    "## Next we try out partialling out with lasso"
   ]
  },
  {
   "cell_type": "markdown",
   "id": "6f021417",
   "metadata": {},
   "source": [
    "Next we try out partialling out with lasso"
   ]
  },
  {
   "cell_type": "code",
   "execution_count": null,
   "id": "0ec48e11",
   "metadata": {},
   "outputs": [],
   "source": [
    "# Get data from R\n",
    "result = pyreadr.read_r('../Documentos/Github/CausalAI-Course/data/rlasso_ira_reg_g2.RData')\n",
    "X_vars = result['S']\n",
    "X_vars"
   ]
  },
  {
   "cell_type": "code",
   "execution_count": null,
   "id": "07af60f4",
   "metadata": {},
   "outputs": [],
   "source": [
    "result = hdmpy.rlassoEffects( X_vars, log_inuidur1, index = 0 )       \n",
    "\n",
    "rlasso_ira = pd.DataFrame(np.array( (result.res['coefficients'][0] , result.res['se'][0] , \\\n",
    "           result.res['t'][0] , result.res['pval'][0] ) ).reshape(1, 4) , columns = ['Coef.' , \\\n",
    "                            \"Std.Err.\" , \"t\" , 'P>|t|'] , index = ['T2'])"
   ]
  },
  {
   "cell_type": "code",
   "execution_count": null,
   "id": "6c3c2eae",
   "metadata": {},
   "outputs": [],
   "source": [
    "# result.res is a object dictionary\n",
    "\n",
    "result.res.keys()"
   ]
  },
  {
   "cell_type": "code",
   "execution_count": null,
   "id": "f3725243",
   "metadata": {},
   "outputs": [],
   "source": [
    "result.res['coefficients']"
   ]
  },
  {
   "cell_type": "code",
   "execution_count": null,
   "id": "1a4acf5c",
   "metadata": {},
   "outputs": [],
   "source": [
    "rlasso_ira"
   ]
  },
  {
   "cell_type": "markdown",
   "id": "d11f1246",
   "metadata": {},
   "source": [
    "### Results"
   ]
  },
  {
   "cell_type": "code",
   "execution_count": null,
   "id": "6a18a0a3",
   "metadata": {},
   "outputs": [],
   "source": [
    "table2 = np.zeros((2, 4))\n",
    "table2[0,0] = ols_cl.summary2().tables[1]['Coef.']['T2']\n",
    "table2[0,1] = ols_cra.summary2().tables[1]['Coef.']['T2']\n",
    "table2[0,2] = ols_ira.summary2().tables[1]['Coef.']['T2']\n",
    "table2[0,3] = rlasso_ira['Coef.']['T2']\n",
    "\n",
    "table2[1,0] = ols_cl.summary2().tables[1]['Std.Err.']['T2']\n",
    "table2[1,1] = ols_cra.summary2().tables[1]['Std.Err.']['T2']\n",
    "table2[1,2] = ols_ira.summary2().tables[1]['Std.Err.']['T2']\n",
    "table2[1,3] = rlasso_ira['Std.Err.']['T2']\n",
    "\n",
    "table2 = pd.DataFrame(table2, columns = [\"CL\", \"CRA\", \"IRA\", \"IRA Lasso\"], \\\n",
    "                      index = [\"estimate\",\"standard error\"])\n",
    "\n",
    "table2"
   ]
  },
  {
   "cell_type": "markdown",
   "id": "9366f428",
   "metadata": {},
   "source": [
    "Treatment group 4 experiences an average decrease of about $7.5\\%$ in the length of unemployment spell.\n",
    "\n",
    "\n",
    "Observe that regression estimators delivers estimates that are slighly more efficient (lower standard errors) than the simple 2 mean estimator, but essentially all methods have very similar standard errors. From IRA results we also see that there is not any statistically detectable heterogeneity.  We also see the regression estimators offer slightly lower estimates -- these difference occur perhaps to due minor imbalance in the treatment allocation, which the regression estimators try to correct."
   ]
  },
  {
   "cell_type": "markdown",
   "id": "4ad12d20",
   "metadata": {},
   "source": [
    "## Plotting the coefficients"
   ]
  },
  {
   "cell_type": "code",
   "execution_count": null,
   "id": "efc16614",
   "metadata": {},
   "outputs": [],
   "source": [
    "# Results \n",
    "ols_ira.summary2()"
   ]
  },
  {
   "cell_type": "code",
   "execution_count": null,
   "id": "b81ce254",
   "metadata": {},
   "outputs": [],
   "source": [
    "err_series1 = ols_ira.params[104] - ols_ira.conf_int()[104,0]\n",
    "coef_df1 = pd.DataFrame({'coef': ols_ira.params[104],\n",
    "                        'err': err_series1,\n",
    "                        'varname': ['T2*Female']\n",
    "                      })\n",
    "coef_df1"
   ]
  },
  {
   "cell_type": "code",
   "execution_count": null,
   "id": "2405a61d",
   "metadata": {},
   "outputs": [],
   "source": [
    "err_series2 = ols_ira.params[105] - ols_ira.conf_int()[105,0]\n",
    "coef_df2 = pd.DataFrame({'coef': ols_ira.params[105],\n",
    "                        'err': err_series2,\n",
    "                        'varname': ['T2*Black']\n",
    "                      })\n",
    "coef_df2"
   ]
  },
  {
   "cell_type": "code",
   "execution_count": null,
   "id": "620ed903",
   "metadata": {},
   "outputs": [],
   "source": [
    "err_series3 = ols_ira.params[114] - ols_ira.conf_int()[114,0]\n",
    "coef_df3 = pd.DataFrame({'coef': ols_ira.params[114],\n",
    "                        'err': err_series3,\n",
    "                        'varname': ['T2*agelt35']\n",
    "                      })\n",
    "coef_df3"
   ]
  },
  {
   "cell_type": "code",
   "execution_count": null,
   "id": "4852aedd",
   "metadata": {},
   "outputs": [],
   "source": [
    "err_series4 = ols_ira.params[107] - ols_ira.conf_int()[107,0]\n",
    "coef_df4 = pd.DataFrame({'coef': ols_ira.params[107],\n",
    "                        'err': err_series4,\n",
    "                        'varname': ['T2*factor(dep)1']\n",
    "                      })\n",
    "coef_df4"
   ]
  },
  {
   "cell_type": "code",
   "execution_count": null,
   "id": "e016ae07",
   "metadata": {},
   "outputs": [],
   "source": [
    "table = pd.concat([coef_df1,coef_df2,coef_df3,coef_df4])\n",
    "table"
   ]
  },
  {
   "cell_type": "code",
   "execution_count": null,
   "id": "e82d9552",
   "metadata": {},
   "outputs": [],
   "source": [
    "fig, ax = plt.subplots(figsize=(8, 5))\n",
    "table.plot(x='varname', y='coef', kind='bar', \n",
    "             ax=ax, color='none', \n",
    "             yerr='err', legend=False)\n",
    "ax.set_ylabel('')\n",
    "ax.set_xlabel('')\n",
    "ax.scatter(x=np.arange(table.shape[0]), \n",
    "        marker='s', s=120, \n",
    "        y=table['coef'], color='black')\n",
    "plt.title('Interval confidence')"
   ]
  },
  {
   "cell_type": "markdown",
   "id": "d38b6a5f-25f6-449c-a134-d3b25a755a6a",
   "metadata": {},
   "source": [
    "# A Crash Course in Good and Bad Controls"
   ]
  },
  {
   "cell_type": "code",
   "execution_count": null,
   "id": "5822cc6c-487c-40a3-8398-b95a478233de",
   "metadata": {},
   "outputs": [],
   "source": [
    "!pip install numpy pandas statsmodels\n",
    "!pip install causalgraphicalmodels \n",
    "!pip install Graphviz\n",
    "!pip install sympy matplotlib networkx"
   ]
  },
  {
   "cell_type": "code",
   "execution_count": null,
   "id": "fcbcda3b-7854-43e6-8d72-e44dd5e086ac",
   "metadata": {},
   "outputs": [],
   "source": [
    "# Libraries\n",
    "import pandas as pd, numpy as np, statsmodels.api as sm, statsmodels.formula.api as smf\n",
    "import sympy, matplotlib, math, random, networkx\n",
    "from causalgraphicalmodels import CausalGraphicalModel\n",
    "from statsmodels.iolib.summary2 import summary_col"
   ]
  },
  {
   "cell_type": "markdown",
   "id": "d7294c3b-e737-4701-a13a-b28288e29a6c",
   "metadata": {},
   "source": [
    "## Model 1\n",
    "In the scenario of model 1, variable Z serves as a confounding factor for the relationship between variables X and Y. Therefore, if our aim is to determine the impact of X on Y while accounting for factors unrelated to Z, it is necessary to include Z as a control variable in the analysis."
   ]
  },
  {
   "cell_type": "markdown",
   "id": "14ff5d09-3f60-4fbb-b9a5-bd44685e4d14",
   "metadata": {},
   "source": [
    "### Application with real data\n",
    "One example where Model 1 could be applied is in studying the effect of education (E) on income (I), controlling for factors such as intelligence (L) that influence both education and income. This allows researchers to determine the extent to which changes in income can be attributed to differences in education levels, after accounting for the influence of intelligence. For example, if it is found that higher education levels are associated with higher incomes even after controlling for intelligence, it suggests that education has a direct effect on income beyond what can be explained by differences in intelligence levels. This insight can inform policy decisions or interventions that are focused at improving education and income levels."
   ]
  },
  {
   "cell_type": "code",
   "execution_count": null,
   "id": "26286601-b073-44e7-9907-fbdc74d3d2ea",
   "metadata": {},
   "outputs": [],
   "source": [
    "sprinkler = CausalGraphicalModel(\n",
    "    nodes=[\"L\",\"I\",\"E\"],\n",
    "    edges=[(\"L\",\"I\"),(\"L\",\"E\"),(\"E\",\"I\")])\n",
    "sprinkler.draw()"
   ]
  },
  {
   "cell_type": "code",
   "execution_count": null,
   "id": "db79c5f0-0739-480f-9d2a-899cda0e7faf",
   "metadata": {},
   "outputs": [],
   "source": [
    "np.random.seed(1234) #set seed\n",
    "N = 1000\n",
    "L = np.random.normal(0,1,1000).reshape((1000,1))\n",
    "E = 1.5*L + np.random.normal(0,1,1000).reshape((1000,1))\n",
    "I = E + 3*L + np.random.normal(0,1,1000).reshape((1000,1))\n",
    "\n",
    "# Create dataframe\n",
    "D = np.hstack((L,E,I))\n",
    "data = pd.DataFrame(D,columns=[\"L\",\"E\",\"I\"])"
   ]
  },
  {
   "cell_type": "code",
   "execution_count": null,
   "id": "5c35ac06-488e-49d5-9d9a-1d1e22545722",
   "metadata": {},
   "outputs": [],
   "source": [
    "# Regressions\n",
    "no_control = \"I ~ E\"         \n",
    "using_control = \"I ~ E + L\"   \n",
    "\n",
    "no_control = smf.ols(no_control , data=data).fit()\n",
    "using_control = smf.ols(using_control , data=data).fit()\n",
    "\n",
    "# Summary results\n",
    "dfoutput = summary_col([no_control,using_control],stars=True)\n",
    "print(dfoutput)"
   ]
  },
  {
   "cell_type": "markdown",
   "id": "797d47ff-3d7b-4443-81f4-a5de3b58be1b",
   "metadata": {},
   "source": [
    "## Model 7"
   ]
  },
  {
   "cell_type": "markdown",
   "id": "a99621d7-82e9-4273-9652-ca2d588971d0",
   "metadata": {},
   "source": [
    "### Application with real data\n",
    "One example where Model 7 could be applied is when researchers want to analize the effect of a new medication (X) on patient health outcomes (Y), controlling for the severity of the illness (U). However, the dummy variable of hospitalization (Z) could be mistakenly considered as a control variable, thinking it reflects the overall health status. Nevertheless, in reality, hospitalization might be a collider variable influenced by both the severity of illness and the effectiveness of the medication. In consequence, controlling for hospitalization could introduce bias into our estimation of the medication's effect on patient outcomes."
   ]
  },
  {
   "cell_type": "code",
   "execution_count": null,
   "id": "258e5a66-4bf7-4542-b7d6-d676fdfbcde3",
   "metadata": {},
   "outputs": [],
   "source": [
    "sprinkler = CausalGraphicalModel(nodes=[\"Z\",\"Y\",\"X\"],\n",
    "                                 edges=[(\"X\",\"Y\"),(\"Z\",\"Y\")],\n",
    "                                 latent_edges=[(\"X\",\"Z\"),(\"Z\",\"Y\")]\n",
    "                                )\n",
    "sprinkler.draw()"
   ]
  },
  {
   "cell_type": "code",
   "execution_count": null,
   "id": "8d46e8cc-b052-4a18-8e46-fc0d1c7c09a7",
   "metadata": {},
   "outputs": [],
   "source": [
    "np.random.seed(5678)     #set seed\n",
    "n = 1000                \n",
    "U_1 = np.random.normal(0, 1, 1000).reshape((1000, 1))\n",
    "U_2 = np.random.normal(0, 1, 1000).reshape((1000, 1))\n",
    "\n",
    "Z = 0.4*U_1 + 0.6*U_2 + np.random.normal(0, 1, 1000).reshape((1000, 1))\n",
    "X = 1.5*U_2 + np.random.normal(0, 1, 1000).reshape((1000, 1))\n",
    "Y = X + 1.5*U_1 + 1.5*Z + np.random.normal(0, 1, 1000).reshape((1000, 1))\n",
    "\n",
    "# Create dataframe\n",
    "D = np.hstack((U_1,U_2, Z, X, Y))\n",
    "data = pd.DataFrame(D, columns = [\"U_1\", \"U_2\", \"Z\", \"X\", \"Y\"])"
   ]
  },
  {
   "cell_type": "code",
   "execution_count": null,
   "id": "ff6f2946-0265-4643-bd6c-f2de4aba2958",
   "metadata": {},
   "outputs": [],
   "source": [
    "# Regressions\n",
    "no_control = \"Y ~ X\"          \n",
    "using_control = \"Y ~ X + Z\"  \n",
    "\n",
    "no_control = smf.ols(no_control , data=data).fit()\n",
    "using_control = smf.ols(using_control , data=data).fit()\n",
    "\n",
    "# Summary results\n",
    "dfoutput = summary_col([no_control,using_control],stars=True)\n",
    "print(dfoutput)"
   ]
  },
  {
   "cell_type": "markdown",
   "id": "20bf1b3e-afb2-4fac-bbf0-1728a1080603",
   "metadata": {},
   "source": [
    "## Model 8"
   ]
  },
  {
   "cell_type": "markdown",
   "id": "e8639ada-0c68-4f0b-be58-9afbe788306e",
   "metadata": {},
   "source": [
    "### Applications with real data\n",
    "One example where Model 8 could be applied is in the nutrition field, specifically when researchers want to study the effect of physical exercise (P) on weight loss (W), mediated by changes in metabolism (Z). In this scenario, physical exercise directly influences metabolism, which in turn affects weight loss. In this way, controlling for metabolism may reduce the variation in weight loss and improve the precision of the estimated effect of physical exercise on weight loss."
   ]
  },
  {
   "cell_type": "code",
   "execution_count": null,
   "id": "967bdf32-cff4-48a4-9161-8a745680f59c",
   "metadata": {},
   "outputs": [],
   "source": [
    "sprinkler = CausalGraphicalModel(nodes=[\"Z\",\"W\",\"E\"],\n",
    "                                 edges=[(\"Z\",\"W\"),(\"E\",\"W\")])\n",
    "sprinkler.draw()"
   ]
  },
  {
   "cell_type": "code",
   "execution_count": null,
   "id": "81aad797-badb-4596-976c-eecb216ea921",
   "metadata": {},
   "outputs": [],
   "source": [
    "np.random.seed(1614) #set seed\n",
    "n = 1000              \n",
    "Z = np.random.normal(0, 1, 1000).reshape((1000, 1))\n",
    "E = np.random.normal(0, 1, 1000).reshape((1000, 1))\n",
    "W = E + 1.2*Z + np.random.normal(0, 1, 1000).reshape((1000, 1))\n",
    "\n",
    "# Create dataframe\n",
    "D = np.hstack((Z, E, W))\n",
    "data = pd.DataFrame(D, columns = [\"Z\", \"E\", \"W\"])"
   ]
  },
  {
   "cell_type": "code",
   "execution_count": null,
   "id": "8ae81fa3-bd85-4925-a8f4-4a041b2770b3",
   "metadata": {},
   "outputs": [],
   "source": [
    "# Regressions\n",
    "no_control = \"W ~ E\"          \n",
    "using_control = \"W ~ E + Z\"      #classical\n",
    "\n",
    "no_control = smf.ols(no_control , data=data).fit()\n",
    "using_control = smf.ols(using_control , data=data).fit()\n",
    "\n",
    "# Summary results\n",
    "dfoutput = summary_col([no_control,using_control],stars=True)\n",
    "print(dfoutput)"
   ]
  },
  {
   "cell_type": "markdown",
   "id": "a0700268-9900-45bb-ac02-815bd55fa18a",
   "metadata": {},
   "source": [
    "## Model 11"
   ]
  },
  {
   "cell_type": "markdown",
   "id": "69dfdbd5-476d-4aac-b7b0-ab8a79cb7f73",
   "metadata": {},
   "source": [
    "### Applications with real data\n",
    "One example where model 11 could be applied in a real context is when researchers want to investigate about the effect of government policies (P) on economic growth (G), mediated by investment in infrastructure (I). For instance, government policies directly influence investment in infrastructure, which subsequently affects economic growth. In this sense,  controlling for investment in infrastructure, which acts as a mediator, might block the effect on the total effect of government policies on economic growth. This could introduce bias into our estimates, leading to inaccurate conclusions about the effectiveness of government policies in stimulating economic growth."
   ]
  },
  {
   "cell_type": "code",
   "execution_count": null,
   "id": "ba7ef533-ea30-48c0-abc8-d09536a82fd4",
   "metadata": {},
   "outputs": [],
   "source": [
    "sprinkler = CausalGraphicalModel(nodes=[\"I\",\"G\",\"P\"],\n",
    "                                 edges=[(\"P\",\"I\"),(\"I\",\"G\")])\n",
    "sprinkler.draw()"
   ]
  },
  {
   "cell_type": "code",
   "execution_count": null,
   "id": "ea6d94d0-31c0-4833-84d3-999793bdd5e2",
   "metadata": {},
   "outputs": [],
   "source": [
    "np.random.seed(777)     #set seed\n",
    "\n",
    "n = 1000               \n",
    "P = np.random.normal(0, 1, 1000).reshape((1000, 1))\n",
    "I = 1.3*P + np.random.normal(0, 1, 1000).reshape((1000, 1))\n",
    "G = 3*I + np.random.normal(0, 1, 1000).reshape((1000, 1))\n",
    "\n",
    "# Create dataframe\n",
    "D = np.hstack((Z, P, G))\n",
    "data = pd.DataFrame(D, columns = [\"I\", \"P\", \"G\"])"
   ]
  },
  {
   "cell_type": "code",
   "execution_count": null,
   "id": "bc457eb5-b43f-444d-a052-b6a5bcbd459b",
   "metadata": {},
   "outputs": [],
   "source": [
    "# Regressions\n",
    "no_control = \"G ~ P\"          \n",
    "using_control = \"G ~ P + I\"    \n",
    "\n",
    "no_control = smf.ols(no_control , data=data).fit()\n",
    "using_control = smf.ols(using_control , data=data).fit()\n",
    "\n",
    "# Summary results\n",
    "dfoutput = summary_col([no_control,using_control],stars=True)\n",
    "print(dfoutput)"
   ]
  },
  {
   "cell_type": "markdown",
   "id": "de053045-9070-45e6-9712-e77a56d2fd2a",
   "metadata": {},
   "source": [
    "## Model 14"
   ]
  },
  {
   "cell_type": "markdown",
   "id": "5fb385b4-b8ef-4c5d-9c10-7b26985260c8",
   "metadata": {},
   "source": [
    "### Applications with real data\n",
    "Finally, for model 14, we're considering three variables: X (the treatment variable), Z (a potentially confounding variable), and Y (the outcome variable). Here's a hypothetical example:\n",
    "\n",
    "Let's say we're investigating the effect of exercise (X) on weight loss (Y), while also considering the influence of diet quality (Z).\n",
    "\n",
    "X (Exercise): The number of hours spent exercising per week.\n",
    "Z (Diet Quality): A score indicating the overall nutritional quality of the diet.\n",
    "Y (Weight Loss): The amount of weight lost in kilograms over a certain period.\n",
    "For this example, we hypothesize that both exercise and diet quality can independently influence weight loss. However, we want to control for diet quality (Z) to isolate the effect of exercise (X) on weight loss (Y) and ensure that any observed relationship is not confounded by diet quality.\n",
    "\n",
    "We collect data on a sample of individuals, measuring their exercise habits (X), diet quality (Z), and weight loss (Y) over a 12-week period. By controlling for diet quality (Z) in our analysis, we aim to better understand the direct impact of exercise (X) on weight loss (Y), without the potential bias introduced by variations in diet quality."
   ]
  },
  {
   "cell_type": "code",
   "execution_count": null,
   "id": "eb158c8a-58e8-4842-823b-14018da206d8",
   "metadata": {},
   "outputs": [],
   "source": [
    "sprinkler = CausalGraphicalModel(nodes=[\"Z\",\"Y\",\"X\"],\n",
    "                                 edges=[(\"X\",\"Z\"),(\"X\",\"Y\")])\n",
    "sprinkler.draw()"
   ]
  },
  {
   "cell_type": "code",
   "execution_count": null,
   "id": "b7d8e8a7-5755-4f85-9381-1f26973fcc04",
   "metadata": {},
   "outputs": [],
   "source": [
    "np.random.seed(432)     # set seed\n",
    "\n",
    "n = 1000               \n",
    "X = np.random.normal(0, 1, 1000).reshape((1000, 1)) \n",
    "Z = X + np.random.normal(0, 1, 1000).reshape((1000, 1))\n",
    "Y = 2*X + np.random.normal(0, 1, 1000).reshape((1000, 1))\n",
    "\n",
    "# Create dataframe\n",
    "D = np.hstack((Z, X, Y))\n",
    "data = pd.DataFrame(D, columns = [\"Z\", \"X\", \"Y\"])\n",
    "\n",
    "data = pd.DataFrame(D, columns = [\"Z\", \"X\", \"Y\"])"
   ]
  },
  {
   "cell_type": "code",
   "execution_count": null,
   "id": "40ce10fc-4b95-4e85-a792-81a8273ff4df",
   "metadata": {},
   "outputs": [],
   "source": [
    "# Regressions\n",
    "no_control = \"Y ~ X\"          \n",
    "using_control = \"Y ~ X + Z\"      #classical\n",
    "\n",
    "no_control = smf.ols(no_control , data=data).fit()\n",
    "using_control = smf.ols(using_control , data=data).fit()\n",
    "\n",
    "# Summary results\n",
    "dfoutput = summary_col([no_control,using_control],stars=True)\n",
    "print(dfoutput)"
   ]
  }
 ],
 "metadata": {
  "kernelspec": {
   "display_name": "Python 3 (ipykernel)",
   "language": "python",
   "name": "python3"
  },
  "language_info": {
   "codemirror_mode": {
    "name": "ipython",
    "version": 3
   },
   "file_extension": ".py",
   "mimetype": "text/x-python",
   "name": "python",
   "nbconvert_exporter": "python",
   "pygments_lexer": "ipython3",
   "version": "3.11.7"
  }
 },
 "nbformat": 4,
 "nbformat_minor": 5
}
