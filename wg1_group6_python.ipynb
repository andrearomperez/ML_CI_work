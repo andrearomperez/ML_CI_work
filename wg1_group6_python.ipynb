{
 "cells": [
  {
   "cell_type": "markdown",
   "id": "9f9e5002",
   "metadata": {},
   "source": [
    "# Math"
   ]
  },
  {
   "cell_type": "markdown",
   "id": "1d4553fe",
   "metadata": {},
   "source": [
    "Part 1: Make the proof of the Frisch–Waugh–Lovell theorem using Matrix Algebra."
   ]
  },
  {
   "cell_type": "markdown",
   "id": "42c3d483",
   "metadata": {},
   "source": [
    "\\begin{align*}\n",
    "&\\text{First, we run } y \\text{ on } W: \\\\\n",
    "&y = W\\hat{\\theta_1} + \\epsilon_{y} \\\\\n",
    "&\\epsilon_{y} = y - W\\hat{\\theta_1} \\\\\n",
    "\\\\\n",
    "&\\text{Next, we run } D \\text{ on } W: \\\\\n",
    "&D = W\\hat{\\theta_2} + \\epsilon_{D} \\\\\n",
    "&\\epsilon_{D} = D - W\\hat{\\theta_2} \\\\\n",
    "\\\\\n",
    "&\\text{When running } \\epsilon_{y} \\text{ on } \\epsilon_{D}, \\text{ we get:} \\\\\n",
    "&y = W\\hat{\\theta_1} + D\\psi - W\\hat{\\theta_2}\\psi + \\xi \\\\\n",
    "&y = W\\hat{\\theta_1} + D\\psi - W\\hat{\\theta_2}\\psi + \\xi \\\\\n",
    "&y = D\\psi + W\\hat{\\theta_1} - W\\hat{\\theta_2}\\psi + \\xi \\\\\n",
    "&y = D\\psi + W(\\hat{\\theta_1} - \\hat{\\theta_2}\\psi) + \\xi \\\\\n",
    "\\\\\n",
    "&\\text{Comparing with the exercise } (y = D\\beta_{1} + W\\beta_{1} + \\mu), \\text{ we can conclude:} \\\\\n",
    "&\\bullet \\ \\beta_{1} = \\psi \\\\\n",
    "&\\bullet \\ \\beta_{2} = \\hat{\\theta_1} - \\hat{\\theta_2}\\psi \\\\\n",
    "&\\bullet \\ \\mu = \\xi \\\\\n",
    "\\end{align*}"
   ]
  },
  {
   "cell_type": "markdown",
   "id": "30d91ff0",
   "metadata": {},
   "source": [
    "Part 2: Show that the Conditional Expectation Function minimizes expected squared error."
   ]
  },
  {
   "cell_type": "markdown",
   "id": "886cff02",
   "metadata": {},
   "source": [
    "\\begin{align*}\n",
    "E[(Y - g(x))^2] &= E[(Y - E(Y \\mid x) + E(Y \\mid x) - g(x))^2] \\\\\n",
    "&= E[(Y - E(Y \\mid x))^2] + E[(E(Y \\mid x) - g(x))^2] + 2E[(Y - E(Y \\mid x))E[E(Y \\mid x) - g(x)]] \\\\\n",
    "&= E[(Y - E(Y \\mid x))^2] + E[(E(Y \\mid x) - g(x))^2] + 2E[(Y - E(Y \\mid x))E[E(Y \\mid x) - g(x)]] \\\\\n",
    "&= E[(Y - E(Y \\mid x))^2] + E[(E(Y \\mid x) - g(x))^2] + 2E[(Y - E(Y \\mid x))E[E(Y \\mid x) - g(x)]] \\\\\n",
    "&= 2E[(Y - E(Y \\mid x))E[E(Y \\mid x) - g(x)]] \\\\\n",
    "&= E[E[(Y - E(Y \\mid x))[E(Y \\mid x) - g(x)] \\mid x]] \\\\\n",
    "&= E[(E(Y \\mid x))(E(Y \\mid x) - g(x))] \\\\\n",
    "&= 0 \\text{ (Where: } E(Y \\mid x) = 0) \\\\\n",
    "&= E[(Y - g(x))^2] = E[(Y - E(Y \\mid x))^2] + E[(E(Y \\mid x) - g(x))^2] \\\\\n",
    "&\\text{(Where: } E[(E(Y \\mid x) - g(x))^2 \\geq 0) \\\\\n",
    "&\\Rightarrow E[(Y - g(x))^2] \\geq E[(Y - E(Y \\mid x))^2] \\\\\n",
    "&\\Rightarrow E[(Y - g(x))^2] \\geq E[(\\epsilon^2)] \\\\\n",
    "&\\Rightarrow E[(Y - g(x))^2] = E[(\\epsilon^2)]\n",
    "\\end{align*}"
   ]
  },
  {
   "cell_type": "markdown",
   "id": "d944aff6",
   "metadata": {},
   "source": [
    "# Replication"
   ]
  },
  {
   "cell_type": "code",
   "execution_count": 2,
   "id": "a6e60612",
   "metadata": {},
   "outputs": [],
   "source": [
    "import pandas as pd\n",
    "import numpy as np\n",
    "import math"
   ]
  },
  {
   "cell_type": "code",
   "execution_count": 3,
   "id": "3c82fd3b",
   "metadata": {},
   "outputs": [
    {
     "data": {
      "text/plain": [
       "(5150, 21)"
      ]
     },
     "execution_count": 3,
     "metadata": {},
     "output_type": "execute_result"
    }
   ],
   "source": [
    "#rdata_read = pyreadr.read_r(\"../../data/wage2015_subsample_inference.Rdata\")\n",
    "\n",
    "data  = pd.read_csv(r'wage2015_subsample_inference.csv')\n",
    "\n",
    "data['occ']=pd.Categorical(data.occ)\n",
    "data['occ2']=pd.Categorical(data.occ2)\n",
    "data['ind']=pd.Categorical(data.ind)\n",
    "data['ind2']=pd.Categorical(data.ind2)\n",
    "\n",
    "data.shape"
   ]
  },
  {
   "cell_type": "code",
   "execution_count": 4,
   "id": "40d3f0d8",
   "metadata": {},
   "outputs": [
    {
     "name": "stdout",
     "output_type": "stream",
     "text": [
      "<class 'pandas.core.frame.DataFrame'>\n",
      "RangeIndex: 5150 entries, 0 to 5149\n",
      "Data columns (total 21 columns):\n",
      " #   Column    Non-Null Count  Dtype   \n",
      "---  ------    --------------  -----   \n",
      " 0   rownames  5150 non-null   int64   \n",
      " 1   wage      5150 non-null   float64 \n",
      " 2   lwage     5150 non-null   float64 \n",
      " 3   sex       5150 non-null   float64 \n",
      " 4   shs       5150 non-null   float64 \n",
      " 5   hsg       5150 non-null   float64 \n",
      " 6   scl       5150 non-null   float64 \n",
      " 7   clg       5150 non-null   float64 \n",
      " 8   ad        5150 non-null   float64 \n",
      " 9   mw        5150 non-null   float64 \n",
      " 10  so        5150 non-null   float64 \n",
      " 11  we        5150 non-null   float64 \n",
      " 12  ne        5150 non-null   float64 \n",
      " 13  exp1      5150 non-null   float64 \n",
      " 14  exp2      5150 non-null   float64 \n",
      " 15  exp3      5150 non-null   float64 \n",
      " 16  exp4      5150 non-null   float64 \n",
      " 17  occ       5150 non-null   category\n",
      " 18  occ2      5150 non-null   category\n",
      " 19  ind       5150 non-null   category\n",
      " 20  ind2      5150 non-null   category\n",
      "dtypes: category(4), float64(16), int64(1)\n",
      "memory usage: 736.5 KB\n"
     ]
    }
   ],
   "source": [
    "data.info()"
   ]
  },
  {
   "cell_type": "markdown",
   "id": "65f332a0",
   "metadata": {},
   "source": [
    "***Variable description***\n",
    "\n",
    "- occ : occupational classification\n",
    "- ind : industry classification\n",
    "- lwage : log hourly wage\n",
    "- sex : gender (1 female) (0 male)\n",
    "- shs : some high school\n",
    "- hsg : High school graduated\n",
    "- scl : Some College\n",
    "- clg: College Graduate\n",
    "- ad: Advanced Degree\n",
    "- ne: Northeast\n",
    "- mw: Midwest\n",
    "- so: South\n",
    "- we: West\n",
    "- exp1: experience"
   ]
  },
  {
   "cell_type": "code",
   "execution_count": 5,
   "id": "b7aa62f3",
   "metadata": {},
   "outputs": [
    {
     "name": "stdout",
     "output_type": "stream",
     "text": [
      "<class 'pandas.core.frame.DataFrame'>\n",
      "Index: 3774 entries, 0 to 5149\n",
      "Data columns (total 21 columns):\n",
      " #   Column    Non-Null Count  Dtype   \n",
      "---  ------    --------------  -----   \n",
      " 0   rownames  3774 non-null   int64   \n",
      " 1   wage      3774 non-null   float64 \n",
      " 2   lwage     3774 non-null   float64 \n",
      " 3   sex       3774 non-null   float64 \n",
      " 4   shs       3774 non-null   float64 \n",
      " 5   hsg       3774 non-null   float64 \n",
      " 6   scl       3774 non-null   float64 \n",
      " 7   clg       3774 non-null   float64 \n",
      " 8   ad        3774 non-null   float64 \n",
      " 9   mw        3774 non-null   float64 \n",
      " 10  so        3774 non-null   float64 \n",
      " 11  we        3774 non-null   float64 \n",
      " 12  ne        3774 non-null   float64 \n",
      " 13  exp1      3774 non-null   float64 \n",
      " 14  exp2      3774 non-null   float64 \n",
      " 15  exp3      3774 non-null   float64 \n",
      " 16  exp4      3774 non-null   float64 \n",
      " 17  occ       3774 non-null   category\n",
      " 18  occ2      3774 non-null   category\n",
      " 19  ind       3774 non-null   category\n",
      " 20  ind2      3774 non-null   category\n",
      "dtypes: category(4), float64(16), int64(1)\n",
      "memory usage: 575.0 KB\n"
     ]
    }
   ],
   "source": [
    "#Filter the college-advanced educated workers\n",
    "data = data[(data['scl']==1)|(data['clg']==1)|(data['ad']==1)]\n",
    "\n",
    "data.info()"
   ]
  },
  {
   "cell_type": "code",
   "execution_count": 6,
   "id": "45c64c4f",
   "metadata": {},
   "outputs": [
    {
     "data": {
      "text/html": [
       "<div>\n",
       "<style scoped>\n",
       "    .dataframe tbody tr th:only-of-type {\n",
       "        vertical-align: middle;\n",
       "    }\n",
       "\n",
       "    .dataframe tbody tr th {\n",
       "        vertical-align: top;\n",
       "    }\n",
       "\n",
       "    .dataframe thead th {\n",
       "        text-align: right;\n",
       "    }\n",
       "</style>\n",
       "<table border=\"1\" class=\"dataframe\">\n",
       "  <thead>\n",
       "    <tr style=\"text-align: right;\">\n",
       "      <th></th>\n",
       "      <th>All</th>\n",
       "      <th>Men</th>\n",
       "      <th>Women</th>\n",
       "    </tr>\n",
       "  </thead>\n",
       "  <tbody>\n",
       "    <tr>\n",
       "      <th>Log Wage</th>\n",
       "      <td>3.062748</td>\n",
       "      <td>3.099449</td>\n",
       "      <td>3.024417</td>\n",
       "    </tr>\n",
       "    <tr>\n",
       "      <th>Sex</th>\n",
       "      <td>0.489136</td>\n",
       "      <td>0.000000</td>\n",
       "      <td>1.000000</td>\n",
       "    </tr>\n",
       "    <tr>\n",
       "      <th>Some College</th>\n",
       "      <td>0.379438</td>\n",
       "      <td>0.405602</td>\n",
       "      <td>0.352113</td>\n",
       "    </tr>\n",
       "    <tr>\n",
       "      <th>Gollage Graduate</th>\n",
       "      <td>0.433492</td>\n",
       "      <td>0.436203</td>\n",
       "      <td>0.430661</td>\n",
       "    </tr>\n",
       "    <tr>\n",
       "      <th>Advanced Degree</th>\n",
       "      <td>0.187069</td>\n",
       "      <td>0.158195</td>\n",
       "      <td>0.217226</td>\n",
       "    </tr>\n",
       "    <tr>\n",
       "      <th>Northeast</th>\n",
       "      <td>0.229200</td>\n",
       "      <td>0.219917</td>\n",
       "      <td>0.238895</td>\n",
       "    </tr>\n",
       "    <tr>\n",
       "      <th>Midwest</th>\n",
       "      <td>0.249868</td>\n",
       "      <td>0.245851</td>\n",
       "      <td>0.254063</td>\n",
       "    </tr>\n",
       "    <tr>\n",
       "      <th>South</th>\n",
       "      <td>0.298357</td>\n",
       "      <td>0.303423</td>\n",
       "      <td>0.293066</td>\n",
       "    </tr>\n",
       "    <tr>\n",
       "      <th>West</th>\n",
       "      <td>0.222576</td>\n",
       "      <td>0.230809</td>\n",
       "      <td>0.213976</td>\n",
       "    </tr>\n",
       "    <tr>\n",
       "      <th>Experience</th>\n",
       "      <td>12.510201</td>\n",
       "      <td>12.202282</td>\n",
       "      <td>12.831798</td>\n",
       "    </tr>\n",
       "  </tbody>\n",
       "</table>\n",
       "</div>"
      ],
      "text/plain": [
       "                        All        Men      Women\n",
       "Log Wage           3.062748   3.099449   3.024417\n",
       "Sex                0.489136   0.000000   1.000000\n",
       "Some College       0.379438   0.405602   0.352113\n",
       "Gollage Graduate   0.433492   0.436203   0.430661\n",
       "Advanced Degree    0.187069   0.158195   0.217226\n",
       "Northeast          0.229200   0.219917   0.238895\n",
       "Midwest            0.249868   0.245851   0.254063\n",
       "South              0.298357   0.303423   0.293066\n",
       "West               0.222576   0.230809   0.213976\n",
       "Experience        12.510201  12.202282  12.831798"
      ]
     },
     "execution_count": 6,
     "metadata": {},
     "output_type": "execute_result"
    }
   ],
   "source": [
    "#We keep the most relevant regressors\n",
    "Z = data[ [\"lwage\",\"sex\",\"scl\",\"clg\",\"ad\",\"ne\",\"mw\",\"so\",\"we\",\"exp1\"] ]\n",
    "\n",
    "#Data for women\n",
    "data_female = data[data[ 'sex' ] == 1 ]\n",
    "Z_female = data_female[ [\"lwage\",\"sex\",\"scl\",\"clg\",\"ad\",\"ne\",\"mw\",\"so\",\"we\",\"exp1\"] ]\n",
    "\n",
    "#Data for men\n",
    "data_male = data[ data[ 'sex' ] == 0 ]\n",
    "Z_male = data_male[ [ \"lwage\",\"sex\",\"scl\",\"clg\",\"ad\",\"ne\",\"mw\",\"so\",\"we\",\"exp1\" ] ]\n",
    "\n",
    "#Means by regressor and sex\n",
    "table = np.zeros( (10, 3) )\n",
    "table[:, 0] = Z.mean().values\n",
    "table[:, 1] = Z_male.mean().values\n",
    "table[:, 2] = Z_female.mean().values\n",
    "table_pandas = pd.DataFrame( table, columns = [ 'All', 'Men', 'Women']) # from table to dataframe\n",
    "table_pandas.index = [\"Log Wage\",\"Sex\",\"Some College\",\"Gollage Graduate\",\"Advanced Degree\", \"Northeast\",\"Midwest\",\"South\",\"West\",\"Experience\"]\n",
    "\n",
    "table_pandas"
   ]
  },
  {
   "cell_type": "code",
   "execution_count": 7,
   "id": "921f585b",
   "metadata": {},
   "outputs": [
    {
     "data": {
      "text/plain": [
       "-0.07503200512595809"
      ]
     },
     "execution_count": 7,
     "metadata": {},
     "output_type": "execute_result"
    }
   ],
   "source": [
    "#Average difference in logwage between college educated workers\n",
    "data_female['lwage'].mean()- data_male['lwage'].mean()"
   ]
  },
  {
   "cell_type": "markdown",
   "id": "b9df5a36",
   "metadata": {},
   "source": [
    "Thus, the unconditional gender wage gap is about $7,5$\\% (women get paid less on average in our sample). We also observe that working women are relatively more educated than working men and have lower working experience (on average)."
   ]
  },
  {
   "cell_type": "code",
   "execution_count": 8,
   "id": "ef8833f8",
   "metadata": {},
   "outputs": [
    {
     "name": "stdout",
     "output_type": "stream",
     "text": [
      "Requirement already satisfied: statsmodels in c:\\users\\franc\\anaconda3\\lib\\site-packages (0.14.0)\n",
      "Requirement already satisfied: numpy>=1.18 in c:\\users\\franc\\anaconda3\\lib\\site-packages (from statsmodels) (1.24.3)\n",
      "Requirement already satisfied: scipy!=1.9.2,>=1.4 in c:\\users\\franc\\anaconda3\\lib\\site-packages (from statsmodels) (1.11.1)\n",
      "Requirement already satisfied: pandas>=1.0 in c:\\users\\franc\\anaconda3\\lib\\site-packages (from statsmodels) (2.0.3)\n",
      "Requirement already satisfied: patsy>=0.5.2 in c:\\users\\franc\\anaconda3\\lib\\site-packages (from statsmodels) (0.5.3)\n",
      "Requirement already satisfied: packaging>=21.3 in c:\\users\\franc\\anaconda3\\lib\\site-packages (from statsmodels) (23.1)\n",
      "Requirement already satisfied: python-dateutil>=2.8.2 in c:\\users\\franc\\anaconda3\\lib\\site-packages (from pandas>=1.0->statsmodels) (2.8.2)\n",
      "Requirement already satisfied: pytz>=2020.1 in c:\\users\\franc\\anaconda3\\lib\\site-packages (from pandas>=1.0->statsmodels) (2023.3.post1)\n",
      "Requirement already satisfied: tzdata>=2022.1 in c:\\users\\franc\\anaconda3\\lib\\site-packages (from pandas>=1.0->statsmodels) (2023.3)\n",
      "Requirement already satisfied: six in c:\\users\\franc\\anaconda3\\lib\\site-packages (from patsy>=0.5.2->statsmodels) (1.16.0)\n",
      "Note: you may need to restart the kernel to use updated packages.\n"
     ]
    }
   ],
   "source": [
    "pip install statsmodels"
   ]
  },
  {
   "cell_type": "code",
   "execution_count": 9,
   "id": "bfcd30fd",
   "metadata": {},
   "outputs": [],
   "source": [
    "#Import libraries for regressions and statistical models\n",
    "import statsmodels.api as sm\n",
    "import statsmodels.formula.api as smf"
   ]
  },
  {
   "cell_type": "markdown",
   "id": "18477ef5",
   "metadata": {},
   "source": [
    "# Regression without controls"
   ]
  },
  {
   "cell_type": "code",
   "execution_count": 10,
   "id": "60e1be27",
   "metadata": {},
   "outputs": [
    {
     "data": {
      "text/plain": [
       "-0.0750320051259581"
      ]
     },
     "execution_count": 10,
     "metadata": {},
     "output_type": "execute_result"
    }
   ],
   "source": [
    "#OLS regression without any additional regressors\n",
    "nocontrol_model = smf.ols( formula = 'lwage ~ sex', data = data )\n",
    "nocontrol_est = nocontrol_model.fit().summary2().tables[1]['Coef.']['sex'] #keep the estimator of sex in an object\n",
    "nocontrol_est"
   ]
  },
  {
   "cell_type": "code",
   "execution_count": 11,
   "id": "c58a4139",
   "metadata": {},
   "outputs": [
    {
     "data": {
      "text/plain": [
       "0.01837383714154331"
      ]
     },
     "execution_count": 11,
     "metadata": {},
     "output_type": "execute_result"
    }
   ],
   "source": [
    "nocontrol_se2 = nocontrol_model.fit().summary2().tables[1]['Std.Err.']['sex'] #keep the std error of sex in an object\n",
    "nocontrol_se2"
   ]
  },
  {
   "cell_type": "code",
   "execution_count": 12,
   "id": "a21f001c",
   "metadata": {},
   "outputs": [
    {
     "data": {
      "text/plain": [
       "0.018342600934807274"
      ]
     },
     "execution_count": 12,
     "metadata": {},
     "output_type": "execute_result"
    }
   ],
   "source": [
    "# robust standar erros\n",
    "HCV_coefs = nocontrol_model.fit().cov_HC0\n",
    "nocontrol_se = np.power( HCV_coefs.diagonal() , 0.5)[1]\n",
    "nocontrol_se"
   ]
  },
  {
   "cell_type": "code",
   "execution_count": 13,
   "id": "a8a777a7",
   "metadata": {},
   "outputs": [
    {
     "name": "stdout",
     "output_type": "stream",
     "text": [
      "The estimated gender coefficient is -0.0750320051259581 and the corresponding standard error is 0.01837383714154331\n",
      "The estimated gender coefficient is -0.0750320051259581 and the corresponding robust standard error is 0.018342600934807274 \n",
      "\n"
     ]
    }
   ],
   "source": [
    "# robust standar erros\n",
    "HCV_coefs = nocontrol_model.fit().cov_HC0\n",
    "nocontrol_se = np.power( HCV_coefs.diagonal() , 0.5)[1]\n",
    "nocontrol_se\n",
    "\n",
    "# print unconditional effect of gender and the corresponding standard error\n",
    "\n",
    "print( f'The estimated gender coefficient is {nocontrol_est} and the corresponding standard error is {nocontrol_se2}' )\n",
    "print( f'The estimated gender coefficient is {nocontrol_est} and the corresponding robust standard error is {nocontrol_se}','\\n' )"
   ]
  },
  {
   "cell_type": "markdown",
   "id": "eb6228b5",
   "metadata": {},
   "source": [
    "# Controlled regression"
   ]
  },
  {
   "cell_type": "code",
   "execution_count": 14,
   "id": "f0074b6c",
   "metadata": {},
   "outputs": [
    {
     "name": "stdout",
     "output_type": "stream",
     "text": [
      "              Coef.  Std.Err.         t         P>|t|    [0.025    0.975]\n",
      "Intercept  3.880838  0.463424  8.374276  7.905787e-17  2.972233  4.789442\n",
      "occ2[T.2]  0.148912  0.134319  1.108643  2.676598e-01 -0.114439  0.412263\n",
      "occ2[T.3]  0.151683  0.173250  0.875516  3.813527e-01 -0.187997  0.491363\n",
      "occ2[T.4]  0.024109  0.189196  0.127429  8.986084e-01 -0.346835  0.395053\n",
      "occ2[T.5] -0.435165  0.197117 -2.207651  2.733256e-02 -0.821639 -0.048691\n",
      "...             ...       ...       ...           ...       ...       ...\n",
      "exp4:scl   0.024112  0.025867  0.932148  3.513237e-01 -0.026604  0.074829\n",
      "exp4:clg   0.008900  0.023652  0.376285  7.067278e-01 -0.037473  0.055273\n",
      "exp4:mw    0.012197  0.022784  0.535335  5.924519e-01 -0.032474  0.056868\n",
      "exp4:so    0.006360  0.019596  0.324536  7.455511e-01 -0.032061  0.044780\n",
      "exp4:we    0.033250  0.020541  1.618716  1.055976e-01 -0.007023  0.073524\n",
      "\n",
      "[236 rows x 6 columns]\n",
      "Coefficient for OLS with controls -0.06763389814418622 and the corresponding robust standard error is 0.016765360629537134\n"
     ]
    },
    {
     "data": {
      "text/html": [
       "<div>\n",
       "<style scoped>\n",
       "    .dataframe tbody tr th:only-of-type {\n",
       "        vertical-align: middle;\n",
       "    }\n",
       "\n",
       "    .dataframe tbody tr th {\n",
       "        vertical-align: top;\n",
       "    }\n",
       "\n",
       "    .dataframe thead th {\n",
       "        text-align: right;\n",
       "    }\n",
       "</style>\n",
       "<table border=\"1\" class=\"dataframe\">\n",
       "  <thead>\n",
       "    <tr style=\"text-align: right;\">\n",
       "      <th></th>\n",
       "      <th>0</th>\n",
       "      <th>1</th>\n",
       "    </tr>\n",
       "  </thead>\n",
       "  <tbody>\n",
       "    <tr>\n",
       "      <th>sex</th>\n",
       "      <td>-0.101899</td>\n",
       "      <td>-0.033369</td>\n",
       "    </tr>\n",
       "  </tbody>\n",
       "</table>\n",
       "</div>"
      ],
      "text/plain": [
       "            0         1\n",
       "sex -0.101899 -0.033369"
      ]
     },
     "execution_count": 14,
     "metadata": {},
     "output_type": "execute_result"
    }
   ],
   "source": [
    "flex = 'lwage ~ sex + (exp1+exp2+exp3+exp4)*(scl+clg+occ2+ind2+mw+so+we)'\n",
    "\n",
    "# The smf api replicates R script when it transform data\n",
    "control_model = smf.ols( formula = flex, data = data )\n",
    "control_est = control_model.fit().summary2().tables[1]['Coef.']['sex']\n",
    "\n",
    "print(control_model.fit().summary2().tables[1])\n",
    "\n",
    "HCV_coefs = control_model.fit().cov_HC0\n",
    "control_se = np.power( HCV_coefs.diagonal() , 0.5)[42]  # error standard for sex's coefficients \n",
    "\n",
    "control_se\n",
    "\n",
    "\n",
    "print( f\"Coefficient for OLS with controls {control_est} and the corresponding robust standard error is {control_se}\" )\n",
    "\n",
    "# confidence interval\n",
    "control_model.fit().conf_int( alpha=0.05 ).loc[['sex']]"
   ]
  },
  {
   "cell_type": "markdown",
   "id": "367ec7f5",
   "metadata": {},
   "source": [
    "# Partialling-Out using ols"
   ]
  },
  {
   "cell_type": "code",
   "execution_count": 15,
   "id": "edbb4d7a",
   "metadata": {},
   "outputs": [
    {
     "name": "stdout",
     "output_type": "stream",
     "text": [
      "Coefficient for D via partialling-out -0.06763389814419274 and the corresponding robust standard error is 0.01676536062953696\n"
     ]
    },
    {
     "data": {
      "text/html": [
       "<div>\n",
       "<style scoped>\n",
       "    .dataframe tbody tr th:only-of-type {\n",
       "        vertical-align: middle;\n",
       "    }\n",
       "\n",
       "    .dataframe tbody tr th {\n",
       "        vertical-align: top;\n",
       "    }\n",
       "\n",
       "    .dataframe thead th {\n",
       "        text-align: right;\n",
       "    }\n",
       "</style>\n",
       "<table border=\"1\" class=\"dataframe\">\n",
       "  <thead>\n",
       "    <tr style=\"text-align: right;\">\n",
       "      <th></th>\n",
       "      <th>0</th>\n",
       "      <th>1</th>\n",
       "    </tr>\n",
       "  </thead>\n",
       "  <tbody>\n",
       "    <tr>\n",
       "      <th>t_D</th>\n",
       "      <td>-0.100823</td>\n",
       "      <td>-0.034445</td>\n",
       "    </tr>\n",
       "  </tbody>\n",
       "</table>\n",
       "</div>"
      ],
      "text/plain": [
       "            0         1\n",
       "t_D -0.100823 -0.034445"
      ]
     },
     "execution_count": 15,
     "metadata": {},
     "output_type": "execute_result"
    }
   ],
   "source": [
    "# models\n",
    "# model for Y\n",
    "flex_y = 'lwage ~  (exp1+exp2+exp3+exp4)*(shs+hsg+scl+clg+occ2+ind2+mw+so+we)'\n",
    "# model for D\n",
    "flex_d = 'sex ~ (exp1+exp2+exp3+exp4)*(shs+hsg+scl+clg+occ2+ind2+mw+so+we)' \n",
    "\n",
    "# partialling-out the linear effect of W from Y\n",
    "t_Y = smf.ols( formula = flex_y , data = data ).fit().resid\n",
    "\n",
    "# partialling-out the linear effect of W from D\n",
    "t_D = smf.ols( formula = flex_d , data = data ).fit().resid\n",
    "\n",
    "\n",
    "data_res = pd.DataFrame( np.vstack(( t_Y.values , t_D.values )).T , columns = [ 't_Y', 't_D' ] )\n",
    "\n",
    "\n",
    "# regression of Y on D after partialling-out the effect of W\n",
    "partial_fit =  smf.ols( formula = 't_Y ~ t_D' , data = data_res ).fit()\n",
    "partial_est = partial_fit.summary2().tables[1]['Coef.']['t_D']\n",
    "\n",
    "\n",
    "# standard error\n",
    "HCV_coefs = partial_fit.cov_HC0\n",
    "partial_se = np.power( HCV_coefs.diagonal() , 0.5)[1]\n",
    "\n",
    "print( f\"Coefficient for D via partialling-out {partial_est} and the corresponding robust standard error is {partial_se}\" )\n",
    "\n",
    "# confidence interval\n",
    "partial_fit.conf_int( alpha=0.05 ).loc[['t_D']]"
   ]
  },
  {
   "cell_type": "code",
   "execution_count": 16,
   "id": "28b3c77c",
   "metadata": {},
   "outputs": [
    {
     "data": {
      "text/html": [
       "<div>\n",
       "<style scoped>\n",
       "    .dataframe tbody tr th:only-of-type {\n",
       "        vertical-align: middle;\n",
       "    }\n",
       "\n",
       "    .dataframe tbody tr th {\n",
       "        vertical-align: top;\n",
       "    }\n",
       "\n",
       "    .dataframe thead th {\n",
       "        text-align: right;\n",
       "    }\n",
       "</style>\n",
       "<table border=\"1\" class=\"dataframe\">\n",
       "  <thead>\n",
       "    <tr style=\"text-align: right;\">\n",
       "      <th></th>\n",
       "      <th>t_Y</th>\n",
       "      <th>t_D</th>\n",
       "    </tr>\n",
       "  </thead>\n",
       "  <tbody>\n",
       "    <tr>\n",
       "      <th>0</th>\n",
       "      <td>-0.509678</td>\n",
       "      <td>0.083315</td>\n",
       "    </tr>\n",
       "    <tr>\n",
       "      <th>1</th>\n",
       "      <td>0.362579</td>\n",
       "      <td>-0.647915</td>\n",
       "    </tr>\n",
       "    <tr>\n",
       "      <th>2</th>\n",
       "      <td>-1.051747</td>\n",
       "      <td>0.400809</td>\n",
       "    </tr>\n",
       "    <tr>\n",
       "      <th>3</th>\n",
       "      <td>0.212027</td>\n",
       "      <td>0.316279</td>\n",
       "    </tr>\n",
       "    <tr>\n",
       "      <th>4</th>\n",
       "      <td>-0.430030</td>\n",
       "      <td>0.430993</td>\n",
       "    </tr>\n",
       "    <tr>\n",
       "      <th>...</th>\n",
       "      <td>...</td>\n",
       "      <td>...</td>\n",
       "    </tr>\n",
       "    <tr>\n",
       "      <th>3769</th>\n",
       "      <td>-0.526953</td>\n",
       "      <td>-0.444549</td>\n",
       "    </tr>\n",
       "    <tr>\n",
       "      <th>3770</th>\n",
       "      <td>-0.191339</td>\n",
       "      <td>-0.411842</td>\n",
       "    </tr>\n",
       "    <tr>\n",
       "      <th>3771</th>\n",
       "      <td>0.628487</td>\n",
       "      <td>0.518624</td>\n",
       "    </tr>\n",
       "    <tr>\n",
       "      <th>3772</th>\n",
       "      <td>-0.058179</td>\n",
       "      <td>0.048409</td>\n",
       "    </tr>\n",
       "    <tr>\n",
       "      <th>3773</th>\n",
       "      <td>-0.730644</td>\n",
       "      <td>-0.496236</td>\n",
       "    </tr>\n",
       "  </tbody>\n",
       "</table>\n",
       "<p>3774 rows × 2 columns</p>\n",
       "</div>"
      ],
      "text/plain": [
       "           t_Y       t_D\n",
       "0    -0.509678  0.083315\n",
       "1     0.362579 -0.647915\n",
       "2    -1.051747  0.400809\n",
       "3     0.212027  0.316279\n",
       "4    -0.430030  0.430993\n",
       "...        ...       ...\n",
       "3769 -0.526953 -0.444549\n",
       "3770 -0.191339 -0.411842\n",
       "3771  0.628487  0.518624\n",
       "3772 -0.058179  0.048409\n",
       "3773 -0.730644 -0.496236\n",
       "\n",
       "[3774 rows x 2 columns]"
      ]
     },
     "execution_count": 16,
     "metadata": {},
     "output_type": "execute_result"
    }
   ],
   "source": [
    "#np.vstack(( t_Y.values , t_D.values )).T\n",
    "\n",
    "data_res = pd.DataFrame( np.vstack(( t_Y.values , t_D.values )).T , columns = [ 't_Y', 't_D' ] )\n",
    "data_res"
   ]
  },
  {
   "cell_type": "markdown",
   "id": "f953079a",
   "metadata": {},
   "source": [
    "# Graphical data analysis"
   ]
  },
  {
   "cell_type": "code",
   "execution_count": 17,
   "id": "2f049c1b",
   "metadata": {},
   "outputs": [
    {
     "data": {
      "image/png": "[encoded data removed]",
      "text/plain": [
       "<Figure size 640x480 with 1 Axes>"
      ]
     },
     "metadata": {},
     "output_type": "display_data"
    }
   ],
   "source": [
    "#Import library\n",
    "import matplotlib.pyplot as plt\n",
    "\n",
    "#Wage distribution\n",
    "\n",
    "#Wage distribution by sex\n",
    "plt.boxplot([data_female['wage'],data_male['wage']],labels=['Female','Male'])\n",
    "\n",
    "plt.xlabel('Sex')\n",
    "plt.ylabel('Wage')\n",
    "plt.title('Wage distribution by sex')\n",
    "plt.ylim([0,100])\n",
    "\n",
    "plt.show()"
   ]
  },
  {
   "cell_type": "code",
   "execution_count": 18,
   "id": "8aa60b91",
   "metadata": {},
   "outputs": [
    {
     "data": {
      "image/png": "[encoded data removed]",
      "text/plain": [
       "<Figure size 640x480 with 1 Axes>"
      ]
     },
     "metadata": {},
     "output_type": "display_data"
    }
   ],
   "source": [
    "#Logwage distribution by sex\n",
    "plt.boxplot([data_female['lwage'],data_male['lwage']],labels=['Female','Male'])\n",
    "\n",
    "plt.xlabel('Sex')\n",
    "plt.ylabel('Log wage')\n",
    "plt.title('Log wage distribution by sex')\n",
    "plt.ylim([1,5])\n",
    "\n",
    "plt.show()"
   ]
  },
  {
   "cell_type": "code",
   "execution_count": 19,
   "id": "e390f114",
   "metadata": {},
   "outputs": [
    {
     "data": {
      "image/png": "[encoded data removed]",
      "text/plain": [
       "<Figure size 640x480 with 1 Axes>"
      ]
     },
     "metadata": {},
     "output_type": "display_data"
    }
   ],
   "source": [
    "#Wage distribution by level of education\n",
    "\n",
    "plt.boxplot([data['wage'][data['scl']==1],data['wage'][data['clg']==1],data['wage'][data['ad']==1]],\n",
    "            labels=['Some college','College','Advanced'])\n",
    "\n",
    "plt.xlabel('Level of education')\n",
    "plt.ylabel('Wage')\n",
    "plt.title('Wage distribution by level of education')\n",
    "plt.ylim([0,130])\n",
    "\n",
    "plt.show()"
   ]
  },
  {
   "cell_type": "markdown",
   "id": "eac26165",
   "metadata": {},
   "source": [
    "The quartile superior increases with the level of education, indicating a higher concentration of individuals with higher wages for advanced education."
   ]
  },
  {
   "cell_type": "code",
   "execution_count": 20,
   "id": "a9713feb",
   "metadata": {},
   "outputs": [
    {
     "data": {
      "image/png": "[encoded data removed]",
      "text/plain": [
       "<Figure size 640x480 with 1 Axes>"
      ]
     },
     "metadata": {},
     "output_type": "display_data"
    }
   ],
   "source": [
    "#Density distribution of wages by sex\n",
    "\n",
    "import seaborn as sns\n",
    "\n",
    "sns.kdeplot(data=data, x='wage', hue='sex', fill=True)\n",
    "\n",
    "plt.xlabel('Hourly wage')\n",
    "plt.ylabel('Densidad')\n",
    "plt.title('Density graph by sex')\n",
    "plt.xlim([0,150])\n",
    "plt.legend(title='Gender', labels=['Female', 'Male'])\n",
    "\n",
    "plt.show()"
   ]
  },
  {
   "cell_type": "code",
   "execution_count": 21,
   "id": "a9892695",
   "metadata": {},
   "outputs": [
    {
     "data": {
      "image/png": "[encoded data removed]",
      "text/plain": [
       "<Figure size 640x480 with 1 Axes>"
      ]
     },
     "metadata": {},
     "output_type": "display_data"
    }
   ],
   "source": [
    "#Density distribution of log wages by sex\n",
    "\n",
    "import seaborn as sns\n",
    "\n",
    "sns.kdeplot(data=data, x='lwage', hue='sex', fill=True)\n",
    "\n",
    "plt.xlabel('Hourly wage')\n",
    "plt.ylabel('Densidad')\n",
    "plt.title('Density graph by sex')\n",
    "plt.xlim([1,6])\n",
    "plt.legend(title='Gender', labels=['Female', 'Male'])\n",
    "\n",
    "plt.show()"
   ]
  },
  {
   "cell_type": "markdown",
   "id": "2ecb0033",
   "metadata": {},
   "source": [
    "Confidence Intervals of Sex's Coefficients"
   ]
  },
  {
   "cell_type": "code",
   "execution_count": 23,
   "id": "09bf30ae",
   "metadata": {},
   "outputs": [
    {
     "name": "stdout",
     "output_type": "stream",
     "text": [
      "-0.0750320051259581\n"
     ]
    },
    {
     "data": {
      "text/plain": [
       "-0.11105562342754237"
      ]
     },
     "execution_count": 23,
     "metadata": {},
     "output_type": "execute_result"
    }
   ],
   "source": [
    "#No control model results\n",
    "nocontrol_model = smf.ols( formula = 'lwage ~ sex', data = data )\n",
    "nocontrol_est = nocontrol_model.fit().summary2().tables[1]['Coef.']['sex']\n",
    "print(nocontrol_est)\n",
    "\n",
    "# confidence interval\n",
    "ll_nocontrol = nocontrol_model.fit().conf_int( alpha=0.05 ).iloc[1, 0]\n",
    "ll_nocontrol"
   ]
  },
  {
   "cell_type": "code",
   "execution_count": 25,
   "id": "5acf3f91",
   "metadata": {},
   "outputs": [
    {
     "name": "stdout",
     "output_type": "stream",
     "text": [
      "-0.06763389814419676\n"
     ]
    },
    {
     "data": {
      "text/plain": [
       "-0.10189889383728354"
      ]
     },
     "execution_count": 25,
     "metadata": {},
     "output_type": "execute_result"
    }
   ],
   "source": [
    "#Controlled model results\n",
    "flex = 'lwage ~ sex + (exp1+exp2+exp3+exp4)*(scl+clg+ad+occ2+ind2+mw+so+we)'\n",
    "control_model = smf.ols( formula = flex, data = data )\n",
    "control_est = control_model.fit().summary2().tables[1]['Coef.']['sex']\n",
    "print(control_est)\n",
    "\n",
    "# confidence interval\n",
    "ll_control = control_model.fit().conf_int( alpha=0.05 ).loc[['sex']].iloc[0, 0]\n",
    "ll_control"
   ]
  },
  {
   "cell_type": "code",
   "execution_count": 26,
   "id": "542613ed",
   "metadata": {},
   "outputs": [
    {
     "data": {
      "text/plain": [
       "-0.10082303385512609"
      ]
     },
     "execution_count": 26,
     "metadata": {},
     "output_type": "execute_result"
    }
   ],
   "source": [
    "#Partialling out results\n",
    "flex_y = 'lwage ~  (exp1+exp2+exp3+exp4)*(scl+clg+ad+occ2+ind2+mw+so+we)'\n",
    "flex_d = 'sex ~ (exp1+exp2+exp3+exp4)*(scl+clg+ad+occ2+ind2+mw+so+we)' \n",
    "\n",
    "t_Y = smf.ols( formula = flex_y , data = data ).fit().resid\n",
    "\n",
    "t_D = smf.ols( formula = flex_d , data = data ).fit().resid\n",
    "\n",
    "data_res = pd.DataFrame( np.vstack(( t_Y.values , t_D.values )).T , columns = [ 't_Y', 't_D' ] )\n",
    "\n",
    "partial_fit =  smf.ols( formula = 't_Y ~ t_D' , data = data_res ).fit()\n",
    "partial_est = partial_fit.summary2().tables[1]['Coef.']['t_D']\n",
    "\n",
    "# confidence interval\n",
    "ll_partial = partial_fit.conf_int(alpha=0.05).iloc[1, 0]\n",
    "ll_partial"
   ]
  },
  {
   "cell_type": "code",
   "execution_count": 27,
   "id": "f7c5e9f0",
   "metadata": {},
   "outputs": [],
   "source": [
    "#Find deviation from our estimands\n",
    "err_nocontrol = nocontrol_est - ll_nocontrol\n",
    "err_control = control_est - ll_control\n",
    "err_partial = partial_est - ll_partial"
   ]
  },
  {
   "cell_type": "code",
   "execution_count": 28,
   "id": "925df52e",
   "metadata": {},
   "outputs": [],
   "source": [
    "coef = [nocontrol_est,control_est, partial_est]\n",
    "err = [err_nocontrol,err_control, err_partial]\n",
    "varname = [\"No control\", \"Control\", \"Partial\"]"
   ]
  },
  {
   "cell_type": "code",
   "execution_count": 29,
   "id": "13d52ed3",
   "metadata": {},
   "outputs": [
    {
     "data": {
      "text/html": [
       "<div>\n",
       "<style scoped>\n",
       "    .dataframe tbody tr th:only-of-type {\n",
       "        vertical-align: middle;\n",
       "    }\n",
       "\n",
       "    .dataframe tbody tr th {\n",
       "        vertical-align: top;\n",
       "    }\n",
       "\n",
       "    .dataframe thead th {\n",
       "        text-align: right;\n",
       "    }\n",
       "</style>\n",
       "<table border=\"1\" class=\"dataframe\">\n",
       "  <thead>\n",
       "    <tr style=\"text-align: right;\">\n",
       "      <th></th>\n",
       "      <th>coef</th>\n",
       "      <th>err</th>\n",
       "      <th>varname</th>\n",
       "    </tr>\n",
       "  </thead>\n",
       "  <tbody>\n",
       "    <tr>\n",
       "      <th>0</th>\n",
       "      <td>-0.075032</td>\n",
       "      <td>0.036024</td>\n",
       "      <td>No control</td>\n",
       "    </tr>\n",
       "    <tr>\n",
       "      <th>1</th>\n",
       "      <td>-0.067634</td>\n",
       "      <td>0.034265</td>\n",
       "      <td>Control</td>\n",
       "    </tr>\n",
       "    <tr>\n",
       "      <th>2</th>\n",
       "      <td>-0.067634</td>\n",
       "      <td>0.033189</td>\n",
       "      <td>Partial</td>\n",
       "    </tr>\n",
       "  </tbody>\n",
       "</table>\n",
       "</div>"
      ],
      "text/plain": [
       "       coef       err     varname\n",
       "0 -0.075032  0.036024  No control\n",
       "1 -0.067634  0.034265     Control\n",
       "2 -0.067634  0.033189     Partial"
      ]
     },
     "execution_count": 29,
     "metadata": {},
     "output_type": "execute_result"
    }
   ],
   "source": [
    "coef_df = pd.DataFrame({'coef': coef,\n",
    "                        'err': err,\n",
    "                        'varname': varname\n",
    "                       })\n",
    "\n",
    "coef_df "
   ]
  },
  {
   "cell_type": "code",
   "execution_count": 38,
   "id": "75d7cd30",
   "metadata": {},
   "outputs": [
    {
     "data": {
      "image/png": "[encoded data removed]",
      "text/plain": [
       "<Figure size 800x500 with 1 Axes>"
      ]
     },
     "metadata": {},
     "output_type": "display_data"
    }
   ],
   "source": [
    "fig, ax = plt.subplots(figsize=(8, 5))\n",
    "\n",
    "# Plot bar graph with error bars\n",
    "coef_df.plot(x='varname', y='coef', kind='bar', ax=ax, color='none', yerr='err', legend=False)\n",
    "\n",
    "# Plot markers\n",
    "ax.scatter(x=range(coef_df.shape[0]), marker='s', s=120, y=coef_df['coef'], color='blue')\n",
    "\n",
    "# Customize axes and labels\n",
    "ax.set_ylabel('')\n",
    "ax.set_xlabel('')\n",
    "ax.xaxis.set_ticks_position('none')\n",
    "ax.set_xticklabels(['No control', 'Controlled', 'Partial'], rotation=0, fontsize=16)\n",
    "\n",
    "plt.show()"
   ]
  },
  {
   "cell_type": "markdown",
   "id": "3583695d",
   "metadata": {},
   "source": [
    "# Cross-Validation in Lasso Regression"
   ]
  },
  {
   "cell_type": "code",
   "execution_count": 47,
   "id": "bb62dcd1",
   "metadata": {},
   "outputs": [],
   "source": [
    "import pandas as pd\n",
    "import numpy as np\n",
    "import statsmodels.api as sm\n",
    "import matplotlib.pyplot as plt"
   ]
  },
  {
   "cell_type": "markdown",
   "id": "7d34062f",
   "metadata": {},
   "source": [
    "1. Data Preparation"
   ]
  },
  {
   "cell_type": "code",
   "execution_count": 53,
   "id": "cbf4e286",
   "metadata": {},
   "outputs": [
    {
     "data": {
      "text/html": [
       "<div>\n",
       "<style scoped>\n",
       "    .dataframe tbody tr th:only-of-type {\n",
       "        vertical-align: middle;\n",
       "    }\n",
       "\n",
       "    .dataframe tbody tr th {\n",
       "        vertical-align: top;\n",
       "    }\n",
       "\n",
       "    .dataframe thead th {\n",
       "        text-align: right;\n",
       "    }\n",
       "</style>\n",
       "<table border=\"1\" class=\"dataframe\">\n",
       "  <thead>\n",
       "    <tr style=\"text-align: right;\">\n",
       "      <th></th>\n",
       "      <th>rownames</th>\n",
       "      <th>wage</th>\n",
       "      <th>lwage</th>\n",
       "      <th>sex</th>\n",
       "      <th>shs</th>\n",
       "      <th>hsg</th>\n",
       "      <th>scl</th>\n",
       "      <th>clg</th>\n",
       "      <th>ad</th>\n",
       "      <th>mw</th>\n",
       "      <th>...</th>\n",
       "      <th>we</th>\n",
       "      <th>ne</th>\n",
       "      <th>exp1</th>\n",
       "      <th>exp2</th>\n",
       "      <th>exp3</th>\n",
       "      <th>exp4</th>\n",
       "      <th>occ</th>\n",
       "      <th>occ2</th>\n",
       "      <th>ind</th>\n",
       "      <th>ind2</th>\n",
       "    </tr>\n",
       "  </thead>\n",
       "  <tbody>\n",
       "    <tr>\n",
       "      <th>0</th>\n",
       "      <td>10</td>\n",
       "      <td>9.615385</td>\n",
       "      <td>2.263364</td>\n",
       "      <td>1.0</td>\n",
       "      <td>0.0</td>\n",
       "      <td>0.0</td>\n",
       "      <td>0.0</td>\n",
       "      <td>1.0</td>\n",
       "      <td>0.0</td>\n",
       "      <td>0.0</td>\n",
       "      <td>...</td>\n",
       "      <td>0.0</td>\n",
       "      <td>1.0</td>\n",
       "      <td>7.0</td>\n",
       "      <td>0.49</td>\n",
       "      <td>0.343</td>\n",
       "      <td>0.2401</td>\n",
       "      <td>3600.0</td>\n",
       "      <td>11</td>\n",
       "      <td>8370.0</td>\n",
       "      <td>18</td>\n",
       "    </tr>\n",
       "    <tr>\n",
       "      <th>1</th>\n",
       "      <td>12</td>\n",
       "      <td>48.076923</td>\n",
       "      <td>3.872802</td>\n",
       "      <td>0.0</td>\n",
       "      <td>0.0</td>\n",
       "      <td>0.0</td>\n",
       "      <td>0.0</td>\n",
       "      <td>1.0</td>\n",
       "      <td>0.0</td>\n",
       "      <td>0.0</td>\n",
       "      <td>...</td>\n",
       "      <td>0.0</td>\n",
       "      <td>1.0</td>\n",
       "      <td>31.0</td>\n",
       "      <td>9.61</td>\n",
       "      <td>29.791</td>\n",
       "      <td>92.3521</td>\n",
       "      <td>3050.0</td>\n",
       "      <td>10</td>\n",
       "      <td>5070.0</td>\n",
       "      <td>9</td>\n",
       "    </tr>\n",
       "    <tr>\n",
       "      <th>2</th>\n",
       "      <td>15</td>\n",
       "      <td>11.057692</td>\n",
       "      <td>2.403126</td>\n",
       "      <td>0.0</td>\n",
       "      <td>0.0</td>\n",
       "      <td>1.0</td>\n",
       "      <td>0.0</td>\n",
       "      <td>0.0</td>\n",
       "      <td>0.0</td>\n",
       "      <td>0.0</td>\n",
       "      <td>...</td>\n",
       "      <td>0.0</td>\n",
       "      <td>1.0</td>\n",
       "      <td>18.0</td>\n",
       "      <td>3.24</td>\n",
       "      <td>5.832</td>\n",
       "      <td>10.4976</td>\n",
       "      <td>6260.0</td>\n",
       "      <td>19</td>\n",
       "      <td>770.0</td>\n",
       "      <td>4</td>\n",
       "    </tr>\n",
       "    <tr>\n",
       "      <th>3</th>\n",
       "      <td>18</td>\n",
       "      <td>13.942308</td>\n",
       "      <td>2.634928</td>\n",
       "      <td>1.0</td>\n",
       "      <td>0.0</td>\n",
       "      <td>0.0</td>\n",
       "      <td>0.0</td>\n",
       "      <td>0.0</td>\n",
       "      <td>1.0</td>\n",
       "      <td>0.0</td>\n",
       "      <td>...</td>\n",
       "      <td>0.0</td>\n",
       "      <td>1.0</td>\n",
       "      <td>25.0</td>\n",
       "      <td>6.25</td>\n",
       "      <td>15.625</td>\n",
       "      <td>39.0625</td>\n",
       "      <td>420.0</td>\n",
       "      <td>1</td>\n",
       "      <td>6990.0</td>\n",
       "      <td>12</td>\n",
       "    </tr>\n",
       "    <tr>\n",
       "      <th>4</th>\n",
       "      <td>19</td>\n",
       "      <td>28.846154</td>\n",
       "      <td>3.361977</td>\n",
       "      <td>1.0</td>\n",
       "      <td>0.0</td>\n",
       "      <td>0.0</td>\n",
       "      <td>0.0</td>\n",
       "      <td>1.0</td>\n",
       "      <td>0.0</td>\n",
       "      <td>0.0</td>\n",
       "      <td>...</td>\n",
       "      <td>0.0</td>\n",
       "      <td>1.0</td>\n",
       "      <td>22.0</td>\n",
       "      <td>4.84</td>\n",
       "      <td>10.648</td>\n",
       "      <td>23.4256</td>\n",
       "      <td>2015.0</td>\n",
       "      <td>6</td>\n",
       "      <td>9470.0</td>\n",
       "      <td>22</td>\n",
       "    </tr>\n",
       "    <tr>\n",
       "      <th>...</th>\n",
       "      <td>...</td>\n",
       "      <td>...</td>\n",
       "      <td>...</td>\n",
       "      <td>...</td>\n",
       "      <td>...</td>\n",
       "      <td>...</td>\n",
       "      <td>...</td>\n",
       "      <td>...</td>\n",
       "      <td>...</td>\n",
       "      <td>...</td>\n",
       "      <td>...</td>\n",
       "      <td>...</td>\n",
       "      <td>...</td>\n",
       "      <td>...</td>\n",
       "      <td>...</td>\n",
       "      <td>...</td>\n",
       "      <td>...</td>\n",
       "      <td>...</td>\n",
       "      <td>...</td>\n",
       "      <td>...</td>\n",
       "      <td>...</td>\n",
       "    </tr>\n",
       "    <tr>\n",
       "      <th>5145</th>\n",
       "      <td>32620</td>\n",
       "      <td>14.769231</td>\n",
       "      <td>2.692546</td>\n",
       "      <td>0.0</td>\n",
       "      <td>0.0</td>\n",
       "      <td>0.0</td>\n",
       "      <td>0.0</td>\n",
       "      <td>1.0</td>\n",
       "      <td>0.0</td>\n",
       "      <td>0.0</td>\n",
       "      <td>...</td>\n",
       "      <td>1.0</td>\n",
       "      <td>0.0</td>\n",
       "      <td>9.0</td>\n",
       "      <td>0.81</td>\n",
       "      <td>0.729</td>\n",
       "      <td>0.6561</td>\n",
       "      <td>4700.0</td>\n",
       "      <td>16</td>\n",
       "      <td>4970.0</td>\n",
       "      <td>9</td>\n",
       "    </tr>\n",
       "    <tr>\n",
       "      <th>5146</th>\n",
       "      <td>32624</td>\n",
       "      <td>23.076923</td>\n",
       "      <td>3.138833</td>\n",
       "      <td>1.0</td>\n",
       "      <td>0.0</td>\n",
       "      <td>0.0</td>\n",
       "      <td>1.0</td>\n",
       "      <td>0.0</td>\n",
       "      <td>0.0</td>\n",
       "      <td>0.0</td>\n",
       "      <td>...</td>\n",
       "      <td>1.0</td>\n",
       "      <td>0.0</td>\n",
       "      <td>12.0</td>\n",
       "      <td>1.44</td>\n",
       "      <td>1.728</td>\n",
       "      <td>2.0736</td>\n",
       "      <td>4110.0</td>\n",
       "      <td>13</td>\n",
       "      <td>8680.0</td>\n",
       "      <td>20</td>\n",
       "    </tr>\n",
       "    <tr>\n",
       "      <th>5147</th>\n",
       "      <td>32626</td>\n",
       "      <td>38.461538</td>\n",
       "      <td>3.649659</td>\n",
       "      <td>0.0</td>\n",
       "      <td>0.0</td>\n",
       "      <td>0.0</td>\n",
       "      <td>0.0</td>\n",
       "      <td>0.0</td>\n",
       "      <td>1.0</td>\n",
       "      <td>0.0</td>\n",
       "      <td>...</td>\n",
       "      <td>1.0</td>\n",
       "      <td>0.0</td>\n",
       "      <td>11.0</td>\n",
       "      <td>1.21</td>\n",
       "      <td>1.331</td>\n",
       "      <td>1.4641</td>\n",
       "      <td>1550.0</td>\n",
       "      <td>4</td>\n",
       "      <td>3680.0</td>\n",
       "      <td>6</td>\n",
       "    </tr>\n",
       "    <tr>\n",
       "      <th>5148</th>\n",
       "      <td>32631</td>\n",
       "      <td>32.967033</td>\n",
       "      <td>3.495508</td>\n",
       "      <td>0.0</td>\n",
       "      <td>0.0</td>\n",
       "      <td>1.0</td>\n",
       "      <td>0.0</td>\n",
       "      <td>0.0</td>\n",
       "      <td>0.0</td>\n",
       "      <td>0.0</td>\n",
       "      <td>...</td>\n",
       "      <td>1.0</td>\n",
       "      <td>0.0</td>\n",
       "      <td>10.0</td>\n",
       "      <td>1.00</td>\n",
       "      <td>1.000</td>\n",
       "      <td>1.0000</td>\n",
       "      <td>2920.0</td>\n",
       "      <td>9</td>\n",
       "      <td>6570.0</td>\n",
       "      <td>11</td>\n",
       "    </tr>\n",
       "    <tr>\n",
       "      <th>5149</th>\n",
       "      <td>32643</td>\n",
       "      <td>17.307692</td>\n",
       "      <td>2.851151</td>\n",
       "      <td>0.0</td>\n",
       "      <td>0.0</td>\n",
       "      <td>0.0</td>\n",
       "      <td>0.0</td>\n",
       "      <td>0.0</td>\n",
       "      <td>1.0</td>\n",
       "      <td>0.0</td>\n",
       "      <td>...</td>\n",
       "      <td>1.0</td>\n",
       "      <td>0.0</td>\n",
       "      <td>14.0</td>\n",
       "      <td>1.96</td>\n",
       "      <td>2.744</td>\n",
       "      <td>3.8416</td>\n",
       "      <td>1610.0</td>\n",
       "      <td>5</td>\n",
       "      <td>7460.0</td>\n",
       "      <td>14</td>\n",
       "    </tr>\n",
       "  </tbody>\n",
       "</table>\n",
       "<p>5150 rows × 21 columns</p>\n",
       "</div>"
      ],
      "text/plain": [
       "      rownames       wage     lwage  sex  shs  hsg  scl  clg   ad   mw  ...  \\\n",
       "0           10   9.615385  2.263364  1.0  0.0  0.0  0.0  1.0  0.0  0.0  ...   \n",
       "1           12  48.076923  3.872802  0.0  0.0  0.0  0.0  1.0  0.0  0.0  ...   \n",
       "2           15  11.057692  2.403126  0.0  0.0  1.0  0.0  0.0  0.0  0.0  ...   \n",
       "3           18  13.942308  2.634928  1.0  0.0  0.0  0.0  0.0  1.0  0.0  ...   \n",
       "4           19  28.846154  3.361977  1.0  0.0  0.0  0.0  1.0  0.0  0.0  ...   \n",
       "...        ...        ...       ...  ...  ...  ...  ...  ...  ...  ...  ...   \n",
       "5145     32620  14.769231  2.692546  0.0  0.0  0.0  0.0  1.0  0.0  0.0  ...   \n",
       "5146     32624  23.076923  3.138833  1.0  0.0  0.0  1.0  0.0  0.0  0.0  ...   \n",
       "5147     32626  38.461538  3.649659  0.0  0.0  0.0  0.0  0.0  1.0  0.0  ...   \n",
       "5148     32631  32.967033  3.495508  0.0  0.0  1.0  0.0  0.0  0.0  0.0  ...   \n",
       "5149     32643  17.307692  2.851151  0.0  0.0  0.0  0.0  0.0  1.0  0.0  ...   \n",
       "\n",
       "       we   ne  exp1  exp2    exp3     exp4     occ  occ2     ind  ind2  \n",
       "0     0.0  1.0   7.0  0.49   0.343   0.2401  3600.0    11  8370.0    18  \n",
       "1     0.0  1.0  31.0  9.61  29.791  92.3521  3050.0    10  5070.0     9  \n",
       "2     0.0  1.0  18.0  3.24   5.832  10.4976  6260.0    19   770.0     4  \n",
       "3     0.0  1.0  25.0  6.25  15.625  39.0625   420.0     1  6990.0    12  \n",
       "4     0.0  1.0  22.0  4.84  10.648  23.4256  2015.0     6  9470.0    22  \n",
       "...   ...  ...   ...   ...     ...      ...     ...   ...     ...   ...  \n",
       "5145  1.0  0.0   9.0  0.81   0.729   0.6561  4700.0    16  4970.0     9  \n",
       "5146  1.0  0.0  12.0  1.44   1.728   2.0736  4110.0    13  8680.0    20  \n",
       "5147  1.0  0.0  11.0  1.21   1.331   1.4641  1550.0     4  3680.0     6  \n",
       "5148  1.0  0.0  10.0  1.00   1.000   1.0000  2920.0     9  6570.0    11  \n",
       "5149  1.0  0.0  14.0  1.96   2.744   3.8416  1610.0     5  7460.0    14  \n",
       "\n",
       "[5150 rows x 21 columns]"
      ]
     },
     "execution_count": 53,
     "metadata": {},
     "output_type": "execute_result"
    }
   ],
   "source": [
    "#Load data\n",
    "data = pd.read_csv(\"wage2015_subsample_inference.csv\")\n",
    "\n",
    "# Drop missing values\n",
    "data.dropna(inplace=True)\n",
    "\n",
    "data"
   ]
  },
  {
   "cell_type": "markdown",
   "id": "1db93eef",
   "metadata": {},
   "source": [
    "2. Define a Range of Alpha (Lambda in our equation) Values"
   ]
  },
  {
   "cell_type": "code",
   "execution_count": 84,
   "id": "0ecad3b0",
   "metadata": {},
   "outputs": [
    {
     "data": {
      "text/plain": [
       "[0.1, 0.2, 0.3, 0.4, 0.5]"
      ]
     },
     "execution_count": 84,
     "metadata": {},
     "output_type": "execute_result"
    }
   ],
   "source": [
    "# Define a range of alpha values\n",
    "alpha_values = [0.1, 0.2, 0.3, 0.4, 0.5]\n",
    "\n",
    "alpha_values"
   ]
  },
  {
   "cell_type": "markdown",
   "id": "2eb257a2",
   "metadata": {},
   "source": [
    "3. Partition the Dataset for k-Fold Cross-Validation"
   ]
  },
  {
   "cell_type": "code",
   "execution_count": 85,
   "id": "ea8cba99",
   "metadata": {},
   "outputs": [],
   "source": [
    "from sklearn.model_selection import KFold\n",
    "\n",
    "k = 5  # Number of folds\n",
    "kf = KFold(n_splits=k, shuffle=True)"
   ]
  },
  {
   "cell_type": "markdown",
   "id": "5818f4e0",
   "metadata": {},
   "source": [
    "4. Lasso regression implementation"
   ]
  },
  {
   "cell_type": "code",
   "execution_count": 90,
   "id": "1a40ace3",
   "metadata": {},
   "outputs": [],
   "source": [
    "from sklearn.linear_model import Lasso\n",
    "from sklearn.metrics import mean_squared_error\n",
    "\n",
    "def lasso_regression(train_X, train_y, alpha):\n",
    "    model = Lasso(alpha=alpha, max_iter=1000000)\n",
    "    model.fit(train_X, train_y)\n",
    "    return model.coef_, model.intercept_"
   ]
  },
  {
   "cell_type": "markdown",
   "id": "e246b545",
   "metadata": {},
   "source": [
    "5. Cross validation loop"
   ]
  },
  {
   "cell_type": "code",
   "execution_count": 91,
   "id": "a7aed392",
   "metadata": {},
   "outputs": [],
   "source": [
    "mean_squared_errors = []\n",
    "\n",
    "for alpha in alpha_values:\n",
    "    fold_errors = []\n",
    "    for train_index, val_index in kf.split(data):\n",
    "        train_data, val_data = data.iloc[train_index], data.iloc[val_index]\n",
    "        train_X, train_y = train_data.drop('wage', axis=1), train_data['wage']\n",
    "        val_X, val_y = val_data.drop('wage', axis=1), val_data['wage']\n",
    "\n",
    "        coefficients, intercept = lasso_regression(train_X, train_y, alpha)\n",
    "        predictions = np.dot(val_X, coefficients) + intercept\n",
    "        mse = mean_squared_error(val_y, predictions)\n",
    "        fold_errors.append(mse)\n",
    "\n",
    "    mean_mse = np.mean(fold_errors)\n",
    "    mean_squared_errors.append(mean_mse)"
   ]
  },
  {
   "cell_type": "markdown",
   "id": "bc168489",
   "metadata": {},
   "source": [
    "6. Selection of an optimal alpha"
   ]
  },
  {
   "cell_type": "code",
   "execution_count": 93,
   "id": "70b916e3",
   "metadata": {},
   "outputs": [
    {
     "data": {
      "text/plain": [
       "0.1"
      ]
     },
     "execution_count": 93,
     "metadata": {},
     "output_type": "execute_result"
    }
   ],
   "source": [
    "optimal_alpha = alpha_values[np.argmin(mean_squared_errors)]\n",
    "\n",
    "optimal_alpha"
   ]
  },
  {
   "cell_type": "markdown",
   "id": "a146eed9",
   "metadata": {},
   "source": [
    "7. Model Training and Evaluation"
   ]
  },
  {
   "cell_type": "code",
   "execution_count": 95,
   "id": "71e78f31",
   "metadata": {},
   "outputs": [],
   "source": [
    "from sklearn.model_selection import train_test_split\n",
    "\n",
    "# Split data into train and test sets\n",
    "train_data, test_data = train_test_split(data, test_size=0.2, random_state=42)\n",
    "train_X, train_y = train_data.drop('wage', axis=1), train_data['wage']\n",
    "test_X, test_y = test_data.drop('wage', axis=1), test_data['wage']\n",
    "\n",
    "# Train final model\n",
    "final_coefficients, final_intercept = lasso_regression(train_X, train_y, optimal_alpha)\n",
    "\n",
    "# Evaluate final model\n",
    "final_predictions = np.dot(test_X, final_coefficients) + final_intercept\n",
    "test_mse = mean_squared_error(test_y, final_predictions)"
   ]
  },
  {
   "cell_type": "markdown",
   "id": "72e52033",
   "metadata": {},
   "source": [
    "8. Report results"
   ]
  },
  {
   "cell_type": "code",
   "execution_count": 96,
   "id": "edf62a8f",
   "metadata": {},
   "outputs": [
    {
     "data": {
      "image/png": "[encoded data removed]",
      "text/plain": [
       "<Figure size 640x480 with 1 Axes>"
      ]
     },
     "metadata": {},
     "output_type": "display_data"
    },
    {
     "name": "stdout",
     "output_type": "stream",
     "text": [
      "Optimal Alpha: 0.1\n",
      "Test Set MSE of Final Lasso Model: 89.07728161956759\n"
     ]
    }
   ],
   "source": [
    "plt.plot(alpha_values, mean_squared_errors, marker='o')\n",
    "plt.xlabel('Alpha')\n",
    "plt.ylabel('Mean Squared Error')\n",
    "plt.title('Cross-Validated Mean Squared Error vs. Alpha')\n",
    "plt.grid(True)\n",
    "plt.show()\n",
    "\n",
    "print(\"Optimal Alpha:\", optimal_alpha)\n",
    "print(\"Test Set MSE of Final Lasso Model:\", test_mse)"
   ]
  }
 ],
 "metadata": {
  "kernelspec": {
   "display_name": "Python 3 (ipykernel)",
   "language": "python",
   "name": "python3"
  },
  "language_info": {
   "codemirror_mode": {
    "name": "ipython",
    "version": 3
   },
   "file_extension": ".py",
   "mimetype": "text/x-python",
   "name": "python",
   "nbconvert_exporter": "python",
   "pygments_lexer": "ipython3",
   "version": "3.11.5"
  }
 },
 "nbformat": 4,
 "nbformat_minor": 5
}
